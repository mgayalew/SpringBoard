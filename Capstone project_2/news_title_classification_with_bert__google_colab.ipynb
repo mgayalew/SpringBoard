{
  "nbformat": 4,
  "nbformat_minor": 0,
  "metadata": {
    "accelerator": "GPU",
    "colab": {
      "name": "news_title_classification_with_bert _google_colab.ipynb",
      "provenance": []
    },
    "kernelspec": {
      "display_name": "Python 3",
      "language": "python",
      "name": "python3"
    },
    "language_info": {
      "codemirror_mode": {
        "name": "ipython",
        "version": 3
      },
      "file_extension": ".py",
      "mimetype": "text/x-python",
      "name": "python",
      "nbconvert_exporter": "python",
      "pygments_lexer": "ipython3",
      "version": "3.8.3"
    },
    "widgets": {
      "application/vnd.jupyter.widget-state+json": {
        "8cf388c2283d4fa186661a4aa652789a": {
          "model_module": "@jupyter-widgets/controls",
          "model_name": "HBoxModel",
          "state": {
            "_view_name": "HBoxView",
            "_dom_classes": [],
            "_model_name": "HBoxModel",
            "_view_module": "@jupyter-widgets/controls",
            "_model_module_version": "1.5.0",
            "_view_count": null,
            "_view_module_version": "1.5.0",
            "box_style": "",
            "layout": "IPY_MODEL_6b0c09dbcd854bcaa3cfcce01d076e1e",
            "_model_module": "@jupyter-widgets/controls",
            "children": [
              "IPY_MODEL_657e00e0c4b747a7ad856539ece8baae",
              "IPY_MODEL_9f9dcd01e0664695af3c8aa8d94c8e6e"
            ]
          }
        },
        "6b0c09dbcd854bcaa3cfcce01d076e1e": {
          "model_module": "@jupyter-widgets/base",
          "model_name": "LayoutModel",
          "state": {
            "_view_name": "LayoutView",
            "grid_template_rows": null,
            "right": null,
            "justify_content": null,
            "_view_module": "@jupyter-widgets/base",
            "overflow": null,
            "_model_module_version": "1.2.0",
            "_view_count": null,
            "flex_flow": null,
            "width": null,
            "min_width": null,
            "border": null,
            "align_items": null,
            "bottom": null,
            "_model_module": "@jupyter-widgets/base",
            "top": null,
            "grid_column": null,
            "overflow_y": null,
            "overflow_x": null,
            "grid_auto_flow": null,
            "grid_area": null,
            "grid_template_columns": null,
            "flex": null,
            "_model_name": "LayoutModel",
            "justify_items": null,
            "grid_row": null,
            "max_height": null,
            "align_content": null,
            "visibility": null,
            "align_self": null,
            "height": null,
            "min_height": null,
            "padding": null,
            "grid_auto_rows": null,
            "grid_gap": null,
            "max_width": null,
            "order": null,
            "_view_module_version": "1.2.0",
            "grid_template_areas": null,
            "object_position": null,
            "object_fit": null,
            "grid_auto_columns": null,
            "margin": null,
            "display": null,
            "left": null
          }
        },
        "657e00e0c4b747a7ad856539ece8baae": {
          "model_module": "@jupyter-widgets/controls",
          "model_name": "FloatProgressModel",
          "state": {
            "_view_name": "ProgressView",
            "style": "IPY_MODEL_1239127abb75470f8f58770e51fcb12f",
            "_dom_classes": [],
            "description": "Downloading: 100%",
            "_model_name": "FloatProgressModel",
            "bar_style": "success",
            "max": 231508,
            "_view_module": "@jupyter-widgets/controls",
            "_model_module_version": "1.5.0",
            "value": 231508,
            "_view_count": null,
            "_view_module_version": "1.5.0",
            "orientation": "horizontal",
            "min": 0,
            "description_tooltip": null,
            "_model_module": "@jupyter-widgets/controls",
            "layout": "IPY_MODEL_3bfffba86bab4ef29d59a96dffee73d4"
          }
        },
        "9f9dcd01e0664695af3c8aa8d94c8e6e": {
          "model_module": "@jupyter-widgets/controls",
          "model_name": "HTMLModel",
          "state": {
            "_view_name": "HTMLView",
            "style": "IPY_MODEL_64292cf05c52475ba2ea6975a68d2521",
            "_dom_classes": [],
            "description": "",
            "_model_name": "HTMLModel",
            "placeholder": "​",
            "_view_module": "@jupyter-widgets/controls",
            "_model_module_version": "1.5.0",
            "value": " 232k/232k [00:00&lt;00:00, 748kB/s]",
            "_view_count": null,
            "_view_module_version": "1.5.0",
            "description_tooltip": null,
            "_model_module": "@jupyter-widgets/controls",
            "layout": "IPY_MODEL_9e6a96c93b904e0ebb63b15f4539e979"
          }
        },
        "1239127abb75470f8f58770e51fcb12f": {
          "model_module": "@jupyter-widgets/controls",
          "model_name": "ProgressStyleModel",
          "state": {
            "_view_name": "StyleView",
            "_model_name": "ProgressStyleModel",
            "description_width": "initial",
            "_view_module": "@jupyter-widgets/base",
            "_model_module_version": "1.5.0",
            "_view_count": null,
            "_view_module_version": "1.2.0",
            "bar_color": null,
            "_model_module": "@jupyter-widgets/controls"
          }
        },
        "3bfffba86bab4ef29d59a96dffee73d4": {
          "model_module": "@jupyter-widgets/base",
          "model_name": "LayoutModel",
          "state": {
            "_view_name": "LayoutView",
            "grid_template_rows": null,
            "right": null,
            "justify_content": null,
            "_view_module": "@jupyter-widgets/base",
            "overflow": null,
            "_model_module_version": "1.2.0",
            "_view_count": null,
            "flex_flow": null,
            "width": null,
            "min_width": null,
            "border": null,
            "align_items": null,
            "bottom": null,
            "_model_module": "@jupyter-widgets/base",
            "top": null,
            "grid_column": null,
            "overflow_y": null,
            "overflow_x": null,
            "grid_auto_flow": null,
            "grid_area": null,
            "grid_template_columns": null,
            "flex": null,
            "_model_name": "LayoutModel",
            "justify_items": null,
            "grid_row": null,
            "max_height": null,
            "align_content": null,
            "visibility": null,
            "align_self": null,
            "height": null,
            "min_height": null,
            "padding": null,
            "grid_auto_rows": null,
            "grid_gap": null,
            "max_width": null,
            "order": null,
            "_view_module_version": "1.2.0",
            "grid_template_areas": null,
            "object_position": null,
            "object_fit": null,
            "grid_auto_columns": null,
            "margin": null,
            "display": null,
            "left": null
          }
        },
        "64292cf05c52475ba2ea6975a68d2521": {
          "model_module": "@jupyter-widgets/controls",
          "model_name": "DescriptionStyleModel",
          "state": {
            "_view_name": "StyleView",
            "_model_name": "DescriptionStyleModel",
            "description_width": "",
            "_view_module": "@jupyter-widgets/base",
            "_model_module_version": "1.5.0",
            "_view_count": null,
            "_view_module_version": "1.2.0",
            "_model_module": "@jupyter-widgets/controls"
          }
        },
        "9e6a96c93b904e0ebb63b15f4539e979": {
          "model_module": "@jupyter-widgets/base",
          "model_name": "LayoutModel",
          "state": {
            "_view_name": "LayoutView",
            "grid_template_rows": null,
            "right": null,
            "justify_content": null,
            "_view_module": "@jupyter-widgets/base",
            "overflow": null,
            "_model_module_version": "1.2.0",
            "_view_count": null,
            "flex_flow": null,
            "width": null,
            "min_width": null,
            "border": null,
            "align_items": null,
            "bottom": null,
            "_model_module": "@jupyter-widgets/base",
            "top": null,
            "grid_column": null,
            "overflow_y": null,
            "overflow_x": null,
            "grid_auto_flow": null,
            "grid_area": null,
            "grid_template_columns": null,
            "flex": null,
            "_model_name": "LayoutModel",
            "justify_items": null,
            "grid_row": null,
            "max_height": null,
            "align_content": null,
            "visibility": null,
            "align_self": null,
            "height": null,
            "min_height": null,
            "padding": null,
            "grid_auto_rows": null,
            "grid_gap": null,
            "max_width": null,
            "order": null,
            "_view_module_version": "1.2.0",
            "grid_template_areas": null,
            "object_position": null,
            "object_fit": null,
            "grid_auto_columns": null,
            "margin": null,
            "display": null,
            "left": null
          }
        },
        "21a3201b8c874fe19debbe0ed3f1bec1": {
          "model_module": "@jupyter-widgets/controls",
          "model_name": "HBoxModel",
          "state": {
            "_view_name": "HBoxView",
            "_dom_classes": [],
            "_model_name": "HBoxModel",
            "_view_module": "@jupyter-widgets/controls",
            "_model_module_version": "1.5.0",
            "_view_count": null,
            "_view_module_version": "1.5.0",
            "box_style": "",
            "layout": "IPY_MODEL_817d1b4f8b624dd18cfe90dd70e96b61",
            "_model_module": "@jupyter-widgets/controls",
            "children": [
              "IPY_MODEL_9ae17e6f69b14ad9b973775c18d4b90f",
              "IPY_MODEL_2bbca5c9da784993b2295efceb1bd8c1"
            ]
          }
        },
        "817d1b4f8b624dd18cfe90dd70e96b61": {
          "model_module": "@jupyter-widgets/base",
          "model_name": "LayoutModel",
          "state": {
            "_view_name": "LayoutView",
            "grid_template_rows": null,
            "right": null,
            "justify_content": null,
            "_view_module": "@jupyter-widgets/base",
            "overflow": null,
            "_model_module_version": "1.2.0",
            "_view_count": null,
            "flex_flow": null,
            "width": null,
            "min_width": null,
            "border": null,
            "align_items": null,
            "bottom": null,
            "_model_module": "@jupyter-widgets/base",
            "top": null,
            "grid_column": null,
            "overflow_y": null,
            "overflow_x": null,
            "grid_auto_flow": null,
            "grid_area": null,
            "grid_template_columns": null,
            "flex": null,
            "_model_name": "LayoutModel",
            "justify_items": null,
            "grid_row": null,
            "max_height": null,
            "align_content": null,
            "visibility": null,
            "align_self": null,
            "height": null,
            "min_height": null,
            "padding": null,
            "grid_auto_rows": null,
            "grid_gap": null,
            "max_width": null,
            "order": null,
            "_view_module_version": "1.2.0",
            "grid_template_areas": null,
            "object_position": null,
            "object_fit": null,
            "grid_auto_columns": null,
            "margin": null,
            "display": null,
            "left": null
          }
        },
        "9ae17e6f69b14ad9b973775c18d4b90f": {
          "model_module": "@jupyter-widgets/controls",
          "model_name": "FloatProgressModel",
          "state": {
            "_view_name": "ProgressView",
            "style": "IPY_MODEL_db96a1e29ddd4b7bbae991d969020b11",
            "_dom_classes": [],
            "description": "Downloading: 100%",
            "_model_name": "FloatProgressModel",
            "bar_style": "success",
            "max": 433,
            "_view_module": "@jupyter-widgets/controls",
            "_model_module_version": "1.5.0",
            "value": 433,
            "_view_count": null,
            "_view_module_version": "1.5.0",
            "orientation": "horizontal",
            "min": 0,
            "description_tooltip": null,
            "_model_module": "@jupyter-widgets/controls",
            "layout": "IPY_MODEL_604976f34a4c4b218f1d2e97341e02d9"
          }
        },
        "2bbca5c9da784993b2295efceb1bd8c1": {
          "model_module": "@jupyter-widgets/controls",
          "model_name": "HTMLModel",
          "state": {
            "_view_name": "HTMLView",
            "style": "IPY_MODEL_a77648a9cd964dce9afb3898fad9862b",
            "_dom_classes": [],
            "description": "",
            "_model_name": "HTMLModel",
            "placeholder": "​",
            "_view_module": "@jupyter-widgets/controls",
            "_model_module_version": "1.5.0",
            "value": " 433/433 [00:00&lt;00:00, 1.34kB/s]",
            "_view_count": null,
            "_view_module_version": "1.5.0",
            "description_tooltip": null,
            "_model_module": "@jupyter-widgets/controls",
            "layout": "IPY_MODEL_5a61e282d91f4df58da702a1c5a41389"
          }
        },
        "db96a1e29ddd4b7bbae991d969020b11": {
          "model_module": "@jupyter-widgets/controls",
          "model_name": "ProgressStyleModel",
          "state": {
            "_view_name": "StyleView",
            "_model_name": "ProgressStyleModel",
            "description_width": "initial",
            "_view_module": "@jupyter-widgets/base",
            "_model_module_version": "1.5.0",
            "_view_count": null,
            "_view_module_version": "1.2.0",
            "bar_color": null,
            "_model_module": "@jupyter-widgets/controls"
          }
        },
        "604976f34a4c4b218f1d2e97341e02d9": {
          "model_module": "@jupyter-widgets/base",
          "model_name": "LayoutModel",
          "state": {
            "_view_name": "LayoutView",
            "grid_template_rows": null,
            "right": null,
            "justify_content": null,
            "_view_module": "@jupyter-widgets/base",
            "overflow": null,
            "_model_module_version": "1.2.0",
            "_view_count": null,
            "flex_flow": null,
            "width": null,
            "min_width": null,
            "border": null,
            "align_items": null,
            "bottom": null,
            "_model_module": "@jupyter-widgets/base",
            "top": null,
            "grid_column": null,
            "overflow_y": null,
            "overflow_x": null,
            "grid_auto_flow": null,
            "grid_area": null,
            "grid_template_columns": null,
            "flex": null,
            "_model_name": "LayoutModel",
            "justify_items": null,
            "grid_row": null,
            "max_height": null,
            "align_content": null,
            "visibility": null,
            "align_self": null,
            "height": null,
            "min_height": null,
            "padding": null,
            "grid_auto_rows": null,
            "grid_gap": null,
            "max_width": null,
            "order": null,
            "_view_module_version": "1.2.0",
            "grid_template_areas": null,
            "object_position": null,
            "object_fit": null,
            "grid_auto_columns": null,
            "margin": null,
            "display": null,
            "left": null
          }
        },
        "a77648a9cd964dce9afb3898fad9862b": {
          "model_module": "@jupyter-widgets/controls",
          "model_name": "DescriptionStyleModel",
          "state": {
            "_view_name": "StyleView",
            "_model_name": "DescriptionStyleModel",
            "description_width": "",
            "_view_module": "@jupyter-widgets/base",
            "_model_module_version": "1.5.0",
            "_view_count": null,
            "_view_module_version": "1.2.0",
            "_model_module": "@jupyter-widgets/controls"
          }
        },
        "5a61e282d91f4df58da702a1c5a41389": {
          "model_module": "@jupyter-widgets/base",
          "model_name": "LayoutModel",
          "state": {
            "_view_name": "LayoutView",
            "grid_template_rows": null,
            "right": null,
            "justify_content": null,
            "_view_module": "@jupyter-widgets/base",
            "overflow": null,
            "_model_module_version": "1.2.0",
            "_view_count": null,
            "flex_flow": null,
            "width": null,
            "min_width": null,
            "border": null,
            "align_items": null,
            "bottom": null,
            "_model_module": "@jupyter-widgets/base",
            "top": null,
            "grid_column": null,
            "overflow_y": null,
            "overflow_x": null,
            "grid_auto_flow": null,
            "grid_area": null,
            "grid_template_columns": null,
            "flex": null,
            "_model_name": "LayoutModel",
            "justify_items": null,
            "grid_row": null,
            "max_height": null,
            "align_content": null,
            "visibility": null,
            "align_self": null,
            "height": null,
            "min_height": null,
            "padding": null,
            "grid_auto_rows": null,
            "grid_gap": null,
            "max_width": null,
            "order": null,
            "_view_module_version": "1.2.0",
            "grid_template_areas": null,
            "object_position": null,
            "object_fit": null,
            "grid_auto_columns": null,
            "margin": null,
            "display": null,
            "left": null
          }
        },
        "8d85fa87bc154147ab893fa51362dafa": {
          "model_module": "@jupyter-widgets/controls",
          "model_name": "HBoxModel",
          "state": {
            "_view_name": "HBoxView",
            "_dom_classes": [],
            "_model_name": "HBoxModel",
            "_view_module": "@jupyter-widgets/controls",
            "_model_module_version": "1.5.0",
            "_view_count": null,
            "_view_module_version": "1.5.0",
            "box_style": "",
            "layout": "IPY_MODEL_dc9740c3c1f54e6b955ec8ae6e7df26a",
            "_model_module": "@jupyter-widgets/controls",
            "children": [
              "IPY_MODEL_5f2df218e1134487ad5c147832d000c7",
              "IPY_MODEL_6e281d21194a4fa4bee06122a7bffe11"
            ]
          }
        },
        "dc9740c3c1f54e6b955ec8ae6e7df26a": {
          "model_module": "@jupyter-widgets/base",
          "model_name": "LayoutModel",
          "state": {
            "_view_name": "LayoutView",
            "grid_template_rows": null,
            "right": null,
            "justify_content": null,
            "_view_module": "@jupyter-widgets/base",
            "overflow": null,
            "_model_module_version": "1.2.0",
            "_view_count": null,
            "flex_flow": null,
            "width": null,
            "min_width": null,
            "border": null,
            "align_items": null,
            "bottom": null,
            "_model_module": "@jupyter-widgets/base",
            "top": null,
            "grid_column": null,
            "overflow_y": null,
            "overflow_x": null,
            "grid_auto_flow": null,
            "grid_area": null,
            "grid_template_columns": null,
            "flex": null,
            "_model_name": "LayoutModel",
            "justify_items": null,
            "grid_row": null,
            "max_height": null,
            "align_content": null,
            "visibility": null,
            "align_self": null,
            "height": null,
            "min_height": null,
            "padding": null,
            "grid_auto_rows": null,
            "grid_gap": null,
            "max_width": null,
            "order": null,
            "_view_module_version": "1.2.0",
            "grid_template_areas": null,
            "object_position": null,
            "object_fit": null,
            "grid_auto_columns": null,
            "margin": null,
            "display": null,
            "left": null
          }
        },
        "5f2df218e1134487ad5c147832d000c7": {
          "model_module": "@jupyter-widgets/controls",
          "model_name": "FloatProgressModel",
          "state": {
            "_view_name": "ProgressView",
            "style": "IPY_MODEL_fb227a30f6904ead912cd459215a5b7b",
            "_dom_classes": [],
            "description": "Downloading: 100%",
            "_model_name": "FloatProgressModel",
            "bar_style": "success",
            "max": 440473133,
            "_view_module": "@jupyter-widgets/controls",
            "_model_module_version": "1.5.0",
            "value": 440473133,
            "_view_count": null,
            "_view_module_version": "1.5.0",
            "orientation": "horizontal",
            "min": 0,
            "description_tooltip": null,
            "_model_module": "@jupyter-widgets/controls",
            "layout": "IPY_MODEL_0301f3df97154a55aa62f9b4031ec318"
          }
        },
        "6e281d21194a4fa4bee06122a7bffe11": {
          "model_module": "@jupyter-widgets/controls",
          "model_name": "HTMLModel",
          "state": {
            "_view_name": "HTMLView",
            "style": "IPY_MODEL_6ea112ac746f490da7c7dd3973910341",
            "_dom_classes": [],
            "description": "",
            "_model_name": "HTMLModel",
            "placeholder": "​",
            "_view_module": "@jupyter-widgets/controls",
            "_model_module_version": "1.5.0",
            "value": " 440M/440M [00:15&lt;00:00, 29.4MB/s]",
            "_view_count": null,
            "_view_module_version": "1.5.0",
            "description_tooltip": null,
            "_model_module": "@jupyter-widgets/controls",
            "layout": "IPY_MODEL_821d3dae20c94929ba152e130a451dc6"
          }
        },
        "fb227a30f6904ead912cd459215a5b7b": {
          "model_module": "@jupyter-widgets/controls",
          "model_name": "ProgressStyleModel",
          "state": {
            "_view_name": "StyleView",
            "_model_name": "ProgressStyleModel",
            "description_width": "initial",
            "_view_module": "@jupyter-widgets/base",
            "_model_module_version": "1.5.0",
            "_view_count": null,
            "_view_module_version": "1.2.0",
            "bar_color": null,
            "_model_module": "@jupyter-widgets/controls"
          }
        },
        "0301f3df97154a55aa62f9b4031ec318": {
          "model_module": "@jupyter-widgets/base",
          "model_name": "LayoutModel",
          "state": {
            "_view_name": "LayoutView",
            "grid_template_rows": null,
            "right": null,
            "justify_content": null,
            "_view_module": "@jupyter-widgets/base",
            "overflow": null,
            "_model_module_version": "1.2.0",
            "_view_count": null,
            "flex_flow": null,
            "width": null,
            "min_width": null,
            "border": null,
            "align_items": null,
            "bottom": null,
            "_model_module": "@jupyter-widgets/base",
            "top": null,
            "grid_column": null,
            "overflow_y": null,
            "overflow_x": null,
            "grid_auto_flow": null,
            "grid_area": null,
            "grid_template_columns": null,
            "flex": null,
            "_model_name": "LayoutModel",
            "justify_items": null,
            "grid_row": null,
            "max_height": null,
            "align_content": null,
            "visibility": null,
            "align_self": null,
            "height": null,
            "min_height": null,
            "padding": null,
            "grid_auto_rows": null,
            "grid_gap": null,
            "max_width": null,
            "order": null,
            "_view_module_version": "1.2.0",
            "grid_template_areas": null,
            "object_position": null,
            "object_fit": null,
            "grid_auto_columns": null,
            "margin": null,
            "display": null,
            "left": null
          }
        },
        "6ea112ac746f490da7c7dd3973910341": {
          "model_module": "@jupyter-widgets/controls",
          "model_name": "DescriptionStyleModel",
          "state": {
            "_view_name": "StyleView",
            "_model_name": "DescriptionStyleModel",
            "description_width": "",
            "_view_module": "@jupyter-widgets/base",
            "_model_module_version": "1.5.0",
            "_view_count": null,
            "_view_module_version": "1.2.0",
            "_model_module": "@jupyter-widgets/controls"
          }
        },
        "821d3dae20c94929ba152e130a451dc6": {
          "model_module": "@jupyter-widgets/base",
          "model_name": "LayoutModel",
          "state": {
            "_view_name": "LayoutView",
            "grid_template_rows": null,
            "right": null,
            "justify_content": null,
            "_view_module": "@jupyter-widgets/base",
            "overflow": null,
            "_model_module_version": "1.2.0",
            "_view_count": null,
            "flex_flow": null,
            "width": null,
            "min_width": null,
            "border": null,
            "align_items": null,
            "bottom": null,
            "_model_module": "@jupyter-widgets/base",
            "top": null,
            "grid_column": null,
            "overflow_y": null,
            "overflow_x": null,
            "grid_auto_flow": null,
            "grid_area": null,
            "grid_template_columns": null,
            "flex": null,
            "_model_name": "LayoutModel",
            "justify_items": null,
            "grid_row": null,
            "max_height": null,
            "align_content": null,
            "visibility": null,
            "align_self": null,
            "height": null,
            "min_height": null,
            "padding": null,
            "grid_auto_rows": null,
            "grid_gap": null,
            "max_width": null,
            "order": null,
            "_view_module_version": "1.2.0",
            "grid_template_areas": null,
            "object_position": null,
            "object_fit": null,
            "grid_auto_columns": null,
            "margin": null,
            "display": null,
            "left": null
          }
        }
      }
    }
  },
  "cells": [
    {
      "cell_type": "markdown",
      "metadata": {
        "colab_type": "text",
        "id": "KGoqNrVgK2b1"
      },
      "source": [
        "## News classification using Bert\n",
        "               By: Muluemebet Ayalew\n",
        "                   Sept, 2020\n",
        "\n",
        "In this notebok, prediction of news as fake or real will be done using BERT. [BERT](https://arxiv.org/pdf/1810.04805.pdf) stands for Bidirectional Encoder Representations from Transformers. It is state of the art technique for Natural Language Processing(NLP) created and published by Google in 2018. Bidirectional means that it looks both left and right context to understand the text. It can be used for next sentence prediction, question answering, language inference and more. Here, we are going to use BERT for news classification using [transformers library](https://huggingface.co/transformers) by Hugging Face. Transformers works with  TensorFlow and PyTorch.\n",
        "\n",
        "This notebook is created and excuted through [Google colaboratory notebook](https://colab.research.google.com/notebooks/intro.ipynb). Google Colaboratory,or Colab in short, is a free research tool provided by Google to excute python and perform machine learning tasks. It can allow us to set GPU or TPU. The setup can be done through \"Runtime\" tab at the top left of the notebook and then select \"Change runtime type\" in the dropdown menu. Then choose TPU or CPU from there."
      ]
    },
    {
      "cell_type": "markdown",
      "metadata": {
        "colab_type": "text",
        "id": "5qAldT1DMtFo"
      },
      "source": [
        "Import important libraries "
      ]
    },
    {
      "cell_type": "code",
      "metadata": {
        "colab_type": "code",
        "id": "mNpDFdxkNOC0",
        "colab": {}
      },
      "source": [
        "import pandas as pd"
      ],
      "execution_count": 4,
      "outputs": []
    },
    {
      "cell_type": "code",
      "metadata": {
        "colab_type": "code",
        "id": "Lvll8pireHHk",
        "colab": {
          "base_uri": "https://localhost:8080/",
          "height": 70
        },
        "outputId": "a3a7e62c-b84d-42ec-cd25-7fbe960c5a8e"
      },
      "source": [
        "# Important libraries\n",
        "\n",
        "import numpy as np\n",
        "import re # to use regular expression pattern \n",
        "import datetime as dt  # to parse to datetime\n",
        "import string\n",
        "from scipy import stats\n",
        "from collections import defaultdict\n",
        "\n",
        "#for data preprocessing\n",
        "from sklearn.model_selection import train_test_split  \n",
        "\n",
        "# to evaluate model performance\n",
        "from sklearn.metrics import confusion_matrix, classification_report\n",
        "\n",
        "# for visualization\n",
        "import matplotlib.pyplot as plt\n",
        "from matplotlib import rc\n",
        "from pylab import rcParams\n",
        "import seaborn as sns \n",
        "%matplotlib inline"
      ],
      "execution_count": 5,
      "outputs": [
        {
          "output_type": "stream",
          "text": [
            "/usr/local/lib/python3.6/dist-packages/statsmodels/tools/_testing.py:19: FutureWarning: pandas.util.testing is deprecated. Use the functions in the public API at pandas.testing instead.\n",
            "  import pandas.util.testing as tm\n"
          ],
          "name": "stderr"
        }
      ]
    },
    {
      "cell_type": "markdown",
      "metadata": {
        "colab_type": "text",
        "id": "0CnZrBoZNP07"
      },
      "source": [
        "##1)Read the data\n",
        "The data was downloaded from [here](https://www.kaggle.com/clmentbisaillon/fake-and-real-news-dataset) as fake and true news separately. However, I downloaded the data to my local machine and read from there. Though there are different [ways to get data into Google Colab](https://towardsdatascience.com/importing-data-to-google-colab-the-clean-way-5ceef9e9e3c8), I get the data by mounting my Google Drive into Colab enviromnent.  "
      ]
    },
    {
      "cell_type": "code",
      "metadata": {
        "colab_type": "code",
        "id": "PrknRPPeNOPE",
        "colab": {}
      },
      "source": [
        "true= pd.read_csv(\"drive/My Drive/NLP_files/True.csv\", parse_dates=[\"date\"])     # the true news data\n",
        "fake= pd.read_csv(\"drive/My Drive/NLP_files/Fake.csv\")     # the fake news data"
      ],
      "execution_count": 6,
      "outputs": []
    },
    {
      "cell_type": "code",
      "metadata": {
        "colab_type": "code",
        "id": "hpE12EUrOdw2",
        "colab": {
          "base_uri": "https://localhost:8080/",
          "height": 186
        },
        "outputId": "6f241f2e-2084-43f8-acaa-91a2b009d519"
      },
      "source": [
        "true.head(3) # the first few rows of real dataframe"
      ],
      "execution_count": 7,
      "outputs": [
        {
          "output_type": "execute_result",
          "data": {
            "text/html": [
              "<div>\n",
              "<style scoped>\n",
              "    .dataframe tbody tr th:only-of-type {\n",
              "        vertical-align: middle;\n",
              "    }\n",
              "\n",
              "    .dataframe tbody tr th {\n",
              "        vertical-align: top;\n",
              "    }\n",
              "\n",
              "    .dataframe thead th {\n",
              "        text-align: right;\n",
              "    }\n",
              "</style>\n",
              "<table border=\"1\" class=\"dataframe\">\n",
              "  <thead>\n",
              "    <tr style=\"text-align: right;\">\n",
              "      <th></th>\n",
              "      <th>title</th>\n",
              "      <th>text</th>\n",
              "      <th>subject</th>\n",
              "      <th>date</th>\n",
              "    </tr>\n",
              "  </thead>\n",
              "  <tbody>\n",
              "    <tr>\n",
              "      <th>0</th>\n",
              "      <td>As U.S. budget fight looms, Republicans flip t...</td>\n",
              "      <td>WASHINGTON (Reuters) - The head of a conservat...</td>\n",
              "      <td>politicsNews</td>\n",
              "      <td>2017-12-31</td>\n",
              "    </tr>\n",
              "    <tr>\n",
              "      <th>1</th>\n",
              "      <td>U.S. military to accept transgender recruits o...</td>\n",
              "      <td>WASHINGTON (Reuters) - Transgender people will...</td>\n",
              "      <td>politicsNews</td>\n",
              "      <td>2017-12-29</td>\n",
              "    </tr>\n",
              "    <tr>\n",
              "      <th>2</th>\n",
              "      <td>Senior U.S. Republican senator: 'Let Mr. Muell...</td>\n",
              "      <td>WASHINGTON (Reuters) - The special counsel inv...</td>\n",
              "      <td>politicsNews</td>\n",
              "      <td>2017-12-31</td>\n",
              "    </tr>\n",
              "  </tbody>\n",
              "</table>\n",
              "</div>"
            ],
            "text/plain": [
              "                                               title  ...       date\n",
              "0  As U.S. budget fight looms, Republicans flip t...  ... 2017-12-31\n",
              "1  U.S. military to accept transgender recruits o...  ... 2017-12-29\n",
              "2  Senior U.S. Republican senator: 'Let Mr. Muell...  ... 2017-12-31\n",
              "\n",
              "[3 rows x 4 columns]"
            ]
          },
          "metadata": {
            "tags": []
          },
          "execution_count": 7
        }
      ]
    },
    {
      "cell_type": "code",
      "metadata": {
        "id": "p16k4aaC-kPw",
        "colab_type": "code",
        "colab": {
          "base_uri": "https://localhost:8080/",
          "height": 186
        },
        "outputId": "8a3910f6-17da-455b-c820-677692fd203d"
      },
      "source": [
        "fake.head(3)"
      ],
      "execution_count": 8,
      "outputs": [
        {
          "output_type": "execute_result",
          "data": {
            "text/html": [
              "<div>\n",
              "<style scoped>\n",
              "    .dataframe tbody tr th:only-of-type {\n",
              "        vertical-align: middle;\n",
              "    }\n",
              "\n",
              "    .dataframe tbody tr th {\n",
              "        vertical-align: top;\n",
              "    }\n",
              "\n",
              "    .dataframe thead th {\n",
              "        text-align: right;\n",
              "    }\n",
              "</style>\n",
              "<table border=\"1\" class=\"dataframe\">\n",
              "  <thead>\n",
              "    <tr style=\"text-align: right;\">\n",
              "      <th></th>\n",
              "      <th>title</th>\n",
              "      <th>text</th>\n",
              "      <th>subject</th>\n",
              "      <th>date</th>\n",
              "    </tr>\n",
              "  </thead>\n",
              "  <tbody>\n",
              "    <tr>\n",
              "      <th>0</th>\n",
              "      <td>Donald Trump Sends Out Embarrassing New Year’...</td>\n",
              "      <td>Donald Trump just couldn t wish all Americans ...</td>\n",
              "      <td>News</td>\n",
              "      <td>December 31, 2017</td>\n",
              "    </tr>\n",
              "    <tr>\n",
              "      <th>1</th>\n",
              "      <td>Drunk Bragging Trump Staffer Started Russian ...</td>\n",
              "      <td>House Intelligence Committee Chairman Devin Nu...</td>\n",
              "      <td>News</td>\n",
              "      <td>December 31, 2017</td>\n",
              "    </tr>\n",
              "    <tr>\n",
              "      <th>2</th>\n",
              "      <td>Sheriff David Clarke Becomes An Internet Joke...</td>\n",
              "      <td>On Friday, it was revealed that former Milwauk...</td>\n",
              "      <td>News</td>\n",
              "      <td>December 30, 2017</td>\n",
              "    </tr>\n",
              "  </tbody>\n",
              "</table>\n",
              "</div>"
            ],
            "text/plain": [
              "                                               title  ...               date\n",
              "0   Donald Trump Sends Out Embarrassing New Year’...  ...  December 31, 2017\n",
              "1   Drunk Bragging Trump Staffer Started Russian ...  ...  December 31, 2017\n",
              "2   Sheriff David Clarke Becomes An Internet Joke...  ...  December 30, 2017\n",
              "\n",
              "[3 rows x 4 columns]"
            ]
          },
          "metadata": {
            "tags": []
          },
          "execution_count": 8
        }
      ]
    },
    {
      "cell_type": "code",
      "metadata": {
        "colab_type": "code",
        "id": "ssNCrteSUrq2",
        "colab": {
          "base_uri": "https://localhost:8080/",
          "height": 34
        },
        "outputId": "a619e7cf-62a5-4d56-f219-6515090497f0"
      },
      "source": [
        "# the size of fake and true news data sets\n",
        "true.shape, fake.shape"
      ],
      "execution_count": 9,
      "outputs": [
        {
          "output_type": "execute_result",
          "data": {
            "text/plain": [
              "((21417, 4), (23481, 4))"
            ]
          },
          "metadata": {
            "tags": []
          },
          "execution_count": 9
        }
      ]
    },
    {
      "cell_type": "markdown",
      "metadata": {
        "colab_type": "text",
        "id": "6akyrVp7UyDj"
      },
      "source": [
        "### 1.1) Add labels(fake/true) to the  dataframs"
      ]
    },
    {
      "cell_type": "code",
      "metadata": {
        "colab_type": "code",
        "id": "L0El_iN3U2rM",
        "colab": {}
      },
      "source": [
        "# create a new column called is_fake and label as 0 for true news \n",
        "true[\"label\"]=\"true\"\n",
        "# create a new column called is_fake and label as 1 for fake news \n",
        "fake[\"label\"]= \"fake\""
      ],
      "execution_count": 10,
      "outputs": []
    },
    {
      "cell_type": "code",
      "metadata": {
        "colab_type": "code",
        "id": "xrIBvjeBU2wH",
        "colab": {}
      },
      "source": [
        "# parse the date column into datetime. \n",
        "#Since it has two datetime format, we need two formats to parse.  \n",
        "def parsing_datetime(string):\n",
        "    for f in (\"%B %d, %Y\", '%d-%b-%y', \"%b %d, %Y\"): # format  19-Feb-18\n",
        "        try:\n",
        "            return dt.datetime.strptime(string, f)\n",
        "        except ValueError:\n",
        "            pass\n",
        "        \n",
        "# parse the date column of fake dataframe into datetime\n",
        "fake.date= fake.date.apply(lambda x: parsing_datetime(x))"
      ],
      "execution_count": 11,
      "outputs": []
    },
    {
      "cell_type": "markdown",
      "metadata": {
        "colab_type": "text",
        "id": "Ta1iihgoWPut"
      },
      "source": [
        "### 1.2) Merge the real and fake dataframe"
      ]
    },
    {
      "cell_type": "code",
      "metadata": {
        "colab_type": "code",
        "id": "1f9Y2qSmWB5n",
        "colab": {}
      },
      "source": [
        "# Merge the fake and read dataframe\n",
        "news= pd.concat([true,fake], axis=0, ignore_index=True)#.reset_index() # reset index to have unique index"
      ],
      "execution_count": 12,
      "outputs": []
    },
    {
      "cell_type": "code",
      "metadata": {
        "id": "7txP8XZR-yAC",
        "colab_type": "code",
        "colab": {
          "base_uri": "https://localhost:8080/",
          "height": 186
        },
        "outputId": "3dedc54d-5326-4e12-8050-d1bca26601d5"
      },
      "source": [
        "news.head(3)"
      ],
      "execution_count": 13,
      "outputs": [
        {
          "output_type": "execute_result",
          "data": {
            "text/html": [
              "<div>\n",
              "<style scoped>\n",
              "    .dataframe tbody tr th:only-of-type {\n",
              "        vertical-align: middle;\n",
              "    }\n",
              "\n",
              "    .dataframe tbody tr th {\n",
              "        vertical-align: top;\n",
              "    }\n",
              "\n",
              "    .dataframe thead th {\n",
              "        text-align: right;\n",
              "    }\n",
              "</style>\n",
              "<table border=\"1\" class=\"dataframe\">\n",
              "  <thead>\n",
              "    <tr style=\"text-align: right;\">\n",
              "      <th></th>\n",
              "      <th>title</th>\n",
              "      <th>text</th>\n",
              "      <th>subject</th>\n",
              "      <th>date</th>\n",
              "      <th>label</th>\n",
              "    </tr>\n",
              "  </thead>\n",
              "  <tbody>\n",
              "    <tr>\n",
              "      <th>0</th>\n",
              "      <td>As U.S. budget fight looms, Republicans flip t...</td>\n",
              "      <td>WASHINGTON (Reuters) - The head of a conservat...</td>\n",
              "      <td>politicsNews</td>\n",
              "      <td>2017-12-31</td>\n",
              "      <td>true</td>\n",
              "    </tr>\n",
              "    <tr>\n",
              "      <th>1</th>\n",
              "      <td>U.S. military to accept transgender recruits o...</td>\n",
              "      <td>WASHINGTON (Reuters) - Transgender people will...</td>\n",
              "      <td>politicsNews</td>\n",
              "      <td>2017-12-29</td>\n",
              "      <td>true</td>\n",
              "    </tr>\n",
              "    <tr>\n",
              "      <th>2</th>\n",
              "      <td>Senior U.S. Republican senator: 'Let Mr. Muell...</td>\n",
              "      <td>WASHINGTON (Reuters) - The special counsel inv...</td>\n",
              "      <td>politicsNews</td>\n",
              "      <td>2017-12-31</td>\n",
              "      <td>true</td>\n",
              "    </tr>\n",
              "  </tbody>\n",
              "</table>\n",
              "</div>"
            ],
            "text/plain": [
              "                                               title  ... label\n",
              "0  As U.S. budget fight looms, Republicans flip t...  ...  true\n",
              "1  U.S. military to accept transgender recruits o...  ...  true\n",
              "2  Senior U.S. Republican senator: 'Let Mr. Muell...  ...  true\n",
              "\n",
              "[3 rows x 5 columns]"
            ]
          },
          "metadata": {
            "tags": []
          },
          "execution_count": 13
        }
      ]
    },
    {
      "cell_type": "markdown",
      "metadata": {
        "colab_type": "text",
        "id": "eKjbYTPKYahS"
      },
      "source": [
        "### 2) Data Cleaning and Preprocessing \n",
        "Remove html tags, url links, special characters, punctuations , emoji and stopwords.\n"
      ]
    },
    {
      "cell_type": "code",
      "metadata": {
        "colab_type": "code",
        "id": "fE1JfB24WCCW",
        "colab": {}
      },
      "source": [
        "def remove_pattern(text, patterns):\n",
        "    \"\"\"The function remove_pattern returns the new string with a set of patterns removed.\n",
        "       Parameters:\n",
        "       ------------\n",
        "       text: the text from which the pattern will be removed\n",
        "       patterns: is the set of patterns(iterable) we are interested to remove from the text\n",
        "       \"\"\"\n",
        "           \n",
        "    for pattern in patterns:\n",
        "        new= re.sub(pattern, \"\", text)\n",
        "        text= new \n",
        "    return new"
      ],
      "execution_count": 14,
      "outputs": []
    },
    {
      "cell_type": "code",
      "metadata": {
        "colab_type": "code",
        "id": "9Qwh1VQNZGdZ",
        "colab": {}
      },
      "source": [
        "# patterns to be extracted and to be removed from the data \n",
        "emoji = \"[\\U0001F300-\\U0001F5FF\\U0001F600-\\U0001F64F\\U0001F680-\\U0001F6FF\\u2600-\\u26FF\\u2700-\\u27BF\\U000024C2-\\U0001F251]+\"\n",
        "\n",
        "url= re.compile(\"https?://\\S+|www\\.\\S+\")                     # pattern for url\n",
        "html= r'<.*?>'                                               # pattern for html tag\n",
        "num_with_text= r\"\\S*\\d+\\S*\"                                  # pattern for digit \n",
        "reuters= r\"(\\s\\(Reuters\\))\"                                  # pattern to detect Reuters, it is common word in true news\n",
        "punctuation= r\"[#@&%$~=\\.;:\\?,(){}\\\"\\“\\”\\‘\\'\\*!\\+`^<>\\[\\]\\-]+\"      #pattern for punctuations and special characters   \n",
        "apostroph=r\"\\’s?\"\n",
        "# collect the patterns \n",
        "patterns=[emoji, url, html, num_with_text, apostroph,reuters,punctuation] # punctuation removed"
      ],
      "execution_count": 15,
      "outputs": []
    },
    {
      "cell_type": "markdown",
      "metadata": {
        "colab_type": "text",
        "id": "-9yZhRwjUTmn"
      },
      "source": [
        "### 2.1) Clean merged data\n",
        "At this statage of data cleaning ,the emoji, url links, html tag, digits and special characters are removed."
      ]
    },
    {
      "cell_type": "code",
      "metadata": {
        "colab_type": "code",
        "id": "-8Lratt3UiNQ",
        "colab": {}
      },
      "source": [
        "# Clean the title of merged data using regular expression patterns\n",
        "news_clean_title = news.title.apply(remove_pattern, patterns= patterns)\n",
        "news_clean_text= news.text.apply(remove_pattern, patterns= patterns)"
      ],
      "execution_count": 16,
      "outputs": []
    },
    {
      "cell_type": "markdown",
      "metadata": {
        "colab_type": "text",
        "id": "bAzqtBpYTrYg"
      },
      "source": [
        "###2.2) Split the data into training, validating and test data"
      ]
    },
    {
      "cell_type": "code",
      "metadata": {
        "colab_type": "code",
        "id": "KvE5p4BHVm4Y",
        "colab": {}
      },
      "source": [
        "news[\"cleaned_title\"]= news_clean_title\n",
        "news[\"cleaned_text\"]= news_clean_text\n",
        "dicmap= {\"true\": 0, \"fake\": 1} # lable true news as 0 and fake news as 1\n",
        "news[\"is_fake\"]= news.label.apply(lambda x: dicmap[x]) "
      ],
      "execution_count": 17,
      "outputs": []
    },
    {
      "cell_type": "code",
      "metadata": {
        "colab_type": "code",
        "id": "u0ldeGM8WfpU",
        "colab": {
          "base_uri": "https://localhost:8080/",
          "height": 0
        },
        "outputId": "9c8db2f0-5548-4211-cc58-077e581e2e32"
      },
      "source": [
        "news.head(2)"
      ],
      "execution_count": 18,
      "outputs": [
        {
          "output_type": "execute_result",
          "data": {
            "text/html": [
              "<div>\n",
              "<style scoped>\n",
              "    .dataframe tbody tr th:only-of-type {\n",
              "        vertical-align: middle;\n",
              "    }\n",
              "\n",
              "    .dataframe tbody tr th {\n",
              "        vertical-align: top;\n",
              "    }\n",
              "\n",
              "    .dataframe thead th {\n",
              "        text-align: right;\n",
              "    }\n",
              "</style>\n",
              "<table border=\"1\" class=\"dataframe\">\n",
              "  <thead>\n",
              "    <tr style=\"text-align: right;\">\n",
              "      <th></th>\n",
              "      <th>title</th>\n",
              "      <th>text</th>\n",
              "      <th>subject</th>\n",
              "      <th>date</th>\n",
              "      <th>label</th>\n",
              "      <th>cleaned_title</th>\n",
              "      <th>cleaned_text</th>\n",
              "      <th>is_fake</th>\n",
              "    </tr>\n",
              "  </thead>\n",
              "  <tbody>\n",
              "    <tr>\n",
              "      <th>0</th>\n",
              "      <td>As U.S. budget fight looms, Republicans flip t...</td>\n",
              "      <td>WASHINGTON (Reuters) - The head of a conservat...</td>\n",
              "      <td>politicsNews</td>\n",
              "      <td>2017-12-31</td>\n",
              "      <td>true</td>\n",
              "      <td>As US budget fight looms Republicans flip thei...</td>\n",
              "      <td>WASHINGTON  The head of a conservative Republi...</td>\n",
              "      <td>0</td>\n",
              "    </tr>\n",
              "    <tr>\n",
              "      <th>1</th>\n",
              "      <td>U.S. military to accept transgender recruits o...</td>\n",
              "      <td>WASHINGTON (Reuters) - Transgender people will...</td>\n",
              "      <td>politicsNews</td>\n",
              "      <td>2017-12-29</td>\n",
              "      <td>true</td>\n",
              "      <td>US military to accept transgender recruits on ...</td>\n",
              "      <td>WASHINGTON  Transgender people will be allowed...</td>\n",
              "      <td>0</td>\n",
              "    </tr>\n",
              "  </tbody>\n",
              "</table>\n",
              "</div>"
            ],
            "text/plain": [
              "                                               title  ... is_fake\n",
              "0  As U.S. budget fight looms, Republicans flip t...  ...       0\n",
              "1  U.S. military to accept transgender recruits o...  ...       0\n",
              "\n",
              "[2 rows x 8 columns]"
            ]
          },
          "metadata": {
            "tags": []
          },
          "execution_count": 18
        }
      ]
    },
    {
      "cell_type": "code",
      "metadata": {
        "colab_type": "code",
        "id": "YQVamnzKUmFl",
        "colab": {}
      },
      "source": [
        "# copy the news to data_brt. the data to be splited into training, validating and test set\n",
        "data_brt= news[[\"cleaned_title\",\"cleaned_text\",\"is_fake\",\"label\"]] "
      ],
      "execution_count": 19,
      "outputs": []
    },
    {
      "cell_type": "code",
      "metadata": {
        "colab_type": "code",
        "id": "ZKg5ksstXdJk",
        "colab": {
          "base_uri": "https://localhost:8080/",
          "height": 0
        },
        "outputId": "9038ec6b-4c26-48f1-89a0-0f00e9c62c4c"
      },
      "source": [
        "data_brt.head(3)"
      ],
      "execution_count": 20,
      "outputs": [
        {
          "output_type": "execute_result",
          "data": {
            "text/html": [
              "<div>\n",
              "<style scoped>\n",
              "    .dataframe tbody tr th:only-of-type {\n",
              "        vertical-align: middle;\n",
              "    }\n",
              "\n",
              "    .dataframe tbody tr th {\n",
              "        vertical-align: top;\n",
              "    }\n",
              "\n",
              "    .dataframe thead th {\n",
              "        text-align: right;\n",
              "    }\n",
              "</style>\n",
              "<table border=\"1\" class=\"dataframe\">\n",
              "  <thead>\n",
              "    <tr style=\"text-align: right;\">\n",
              "      <th></th>\n",
              "      <th>cleaned_title</th>\n",
              "      <th>cleaned_text</th>\n",
              "      <th>is_fake</th>\n",
              "      <th>label</th>\n",
              "    </tr>\n",
              "  </thead>\n",
              "  <tbody>\n",
              "    <tr>\n",
              "      <th>0</th>\n",
              "      <td>As US budget fight looms Republicans flip thei...</td>\n",
              "      <td>WASHINGTON  The head of a conservative Republi...</td>\n",
              "      <td>0</td>\n",
              "      <td>true</td>\n",
              "    </tr>\n",
              "    <tr>\n",
              "      <th>1</th>\n",
              "      <td>US military to accept transgender recruits on ...</td>\n",
              "      <td>WASHINGTON  Transgender people will be allowed...</td>\n",
              "      <td>0</td>\n",
              "      <td>true</td>\n",
              "    </tr>\n",
              "    <tr>\n",
              "      <th>2</th>\n",
              "      <td>Senior US Republican senator Let Mr Mueller do...</td>\n",
              "      <td>WASHINGTON  The special counsel investigation ...</td>\n",
              "      <td>0</td>\n",
              "      <td>true</td>\n",
              "    </tr>\n",
              "  </tbody>\n",
              "</table>\n",
              "</div>"
            ],
            "text/plain": [
              "                                       cleaned_title  ... label\n",
              "0  As US budget fight looms Republicans flip thei...  ...  true\n",
              "1  US military to accept transgender recruits on ...  ...  true\n",
              "2  Senior US Republican senator Let Mr Mueller do...  ...  true\n",
              "\n",
              "[3 rows x 4 columns]"
            ]
          },
          "metadata": {
            "tags": []
          },
          "execution_count": 20
        }
      ]
    },
    {
      "cell_type": "code",
      "metadata": {
        "colab_type": "code",
        "id": "A64vg0yZS_Ig",
        "colab": {}
      },
      "source": [
        "#train_data, validate_data, test_data (80%, 10%, 10% respectively)\n",
        "train_data, validate_data, test_data= np.split(data_brt.sample(frac=1, random_state=42), [ int(.8*len(news)), int(.9*len(news))])"
      ],
      "execution_count": 21,
      "outputs": []
    },
    {
      "cell_type": "code",
      "metadata": {
        "colab_type": "code",
        "id": "MF828tnNZXI-",
        "colab": {
          "base_uri": "https://localhost:8080/",
          "height": 0
        },
        "outputId": "e6193670-b2de-4317-8642-31aa9bd7863b"
      },
      "source": [
        "# size of trainng, validating and test data\n",
        "train_data.shape, validate_data.shape, test_data.shape "
      ],
      "execution_count": 22,
      "outputs": [
        {
          "output_type": "execute_result",
          "data": {
            "text/plain": [
              "((35918, 4), (4490, 4), (4490, 4))"
            ]
          },
          "metadata": {
            "tags": []
          },
          "execution_count": 22
        }
      ]
    },
    {
      "cell_type": "markdown",
      "metadata": {
        "colab_type": "text",
        "id": "24V-ZWCcIUIM"
      },
      "source": [
        "## 3) Classification using BERT: Using Transformers library from Hugging Face\n",
        "\n",
        "**Note**: The steps in this section are similar to the steps in [this article](https://www.curiousily.com/posts/sentiment-analysis-with-bert-and-hugging-face-using-pytorch-and-python/) except some adaptation to the data at hand. We have also borrowed some codes.   "
      ]
    },
    {
      "cell_type": "code",
      "metadata": {
        "colab_type": "code",
        "id": "KDMAzE-JIXdM",
        "colab": {
          "base_uri": "https://localhost:8080/",
          "height": 101
        },
        "outputId": "cd63b2fa-31d1-4247-9990-638b31e587b8"
      },
      "source": [
        "!pip install -qq transformers"
      ],
      "execution_count": 23,
      "outputs": [
        {
          "output_type": "stream",
          "text": [
            "\u001b[K     |████████████████████████████████| 890kB 5.4MB/s \n",
            "\u001b[K     |████████████████████████████████| 3.0MB 31.2MB/s \n",
            "\u001b[K     |████████████████████████████████| 890kB 43.1MB/s \n",
            "\u001b[K     |████████████████████████████████| 1.1MB 41.6MB/s \n",
            "\u001b[?25h  Building wheel for sacremoses (setup.py) ... \u001b[?25l\u001b[?25hdone\n"
          ],
          "name": "stdout"
        }
      ]
    },
    {
      "cell_type": "code",
      "metadata": {
        "colab_type": "code",
        "id": "m84gLM2kYTTI",
        "colab": {}
      },
      "source": [
        "# For  BERT tokenization and modeling \n",
        "import transformers\n",
        "from transformers import BertModel, BertTokenizer, AdamW, get_linear_schedule_with_warmup\n",
        "import torch\n",
        "from textwrap import wrap\n",
        "from torch import nn, optim\n",
        "from torch.utils.data import Dataset, DataLoader\n"
      ],
      "execution_count": 24,
      "outputs": []
    },
    {
      "cell_type": "code",
      "metadata": {
        "colab_type": "code",
        "id": "km74Ydi6KwI3",
        "colab": {}
      },
      "source": [
        "device = torch.device(\"cuda:0\" if torch.cuda.is_available() else \"cpu\")"
      ],
      "execution_count": 25,
      "outputs": []
    },
    {
      "cell_type": "code",
      "metadata": {
        "colab_type": "code",
        "id": "H15a3iubK-nU",
        "colab": {
          "base_uri": "https://localhost:8080/",
          "height": 34
        },
        "outputId": "c18d4069-be03-4f16-fe42-db448713ba18"
      },
      "source": [
        "device"
      ],
      "execution_count": 26,
      "outputs": [
        {
          "output_type": "execute_result",
          "data": {
            "text/plain": [
              "device(type='cuda', index=0)"
            ]
          },
          "metadata": {
            "tags": []
          },
          "execution_count": 26
        }
      ]
    },
    {
      "cell_type": "markdown",
      "metadata": {
        "colab_type": "text",
        "id": "6PTx3DNwwyKh"
      },
      "source": [
        "### 3.1) Tokenization\n",
        "Tokenization is the process of breaking a text into smaller units called tokens. For example, sentences into list of words. BERT provids the option to keep the case of the text(upper case or lowercase) or making them uncased. In our case, the  uncased version of BERT is used. \n"
      ]
    },
    {
      "cell_type": "code",
      "metadata": {
        "colab_type": "code",
        "id": "LYLjbCqkMU9-",
        "colab": {}
      },
      "source": [
        "# uncased version of BERT\n",
        "PRE_TRAINED_MODEL_NAME = 'bert-base-uncased'"
      ],
      "execution_count": 27,
      "outputs": []
    },
    {
      "cell_type": "code",
      "metadata": {
        "colab_type": "code",
        "id": "l7hVhnt0N-ks",
        "colab": {
          "base_uri": "https://localhost:8080/",
          "height": 66,
          "referenced_widgets": [
            "8cf388c2283d4fa186661a4aa652789a",
            "6b0c09dbcd854bcaa3cfcce01d076e1e",
            "657e00e0c4b747a7ad856539ece8baae",
            "9f9dcd01e0664695af3c8aa8d94c8e6e",
            "1239127abb75470f8f58770e51fcb12f",
            "3bfffba86bab4ef29d59a96dffee73d4",
            "64292cf05c52475ba2ea6975a68d2521",
            "9e6a96c93b904e0ebb63b15f4539e979"
          ]
        },
        "outputId": "88a5bb0f-2526-4fff-edca-cd18079f5513"
      },
      "source": [
        "tokenizer = BertTokenizer.from_pretrained(PRE_TRAINED_MODEL_NAME, do_lower_case=True)"
      ],
      "execution_count": 28,
      "outputs": [
        {
          "output_type": "display_data",
          "data": {
            "application/vnd.jupyter.widget-view+json": {
              "model_id": "8cf388c2283d4fa186661a4aa652789a",
              "version_minor": 0,
              "version_major": 2
            },
            "text/plain": [
              "HBox(children=(FloatProgress(value=0.0, description='Downloading', max=231508.0, style=ProgressStyle(descripti…"
            ]
          },
          "metadata": {
            "tags": []
          }
        },
        {
          "output_type": "stream",
          "text": [
            "\n"
          ],
          "name": "stdout"
        }
      ]
    },
    {
      "cell_type": "code",
      "metadata": {
        "id": "lYtO42PelHeM",
        "colab_type": "code",
        "colab": {
          "base_uri": "https://localhost:8080/",
          "height": 35
        },
        "outputId": "137fa188-7938-4d85-a39d-7e6a67959cbf"
      },
      "source": [
        "train_data.iloc[0,0] # get a sample news title from the training data "
      ],
      "execution_count": 29,
      "outputs": [
        {
          "output_type": "execute_result",
          "data": {
            "application/vnd.google.colaboratory.intrinsic+json": {
              "type": "string"
            },
            "text/plain": [
              "' BREAKING GOP Chairman Grassley Has Had Enough DEMANDS Trump Jr Testimony'"
            ]
          },
          "metadata": {
            "tags": []
          },
          "execution_count": 29
        }
      ]
    },
    {
      "cell_type": "code",
      "metadata": {
        "colab_type": "code",
        "id": "uNChQQKOPTMR",
        "colab": {}
      },
      "source": [
        "sample_txt=train_data.iloc[0,0]"
      ],
      "execution_count": 30,
      "outputs": []
    },
    {
      "cell_type": "code",
      "metadata": {
        "colab_type": "code",
        "id": "bS-Y0PooOdwM",
        "colab": {
          "base_uri": "https://localhost:8080/",
          "height": 34
        },
        "outputId": "15ca1943-bb98-4d04-c6bf-d22c71cc2978"
      },
      "source": [
        "# tokenizing sample text from training data \n",
        "encoding = tokenizer.encode_plus(\n",
        "  sample_txt,\n",
        "  max_length=32,\n",
        "  add_special_tokens=True, # Add '[CLS]' and '[SEP]'\n",
        "  return_token_type_ids=False,\n",
        "  padding='max_length',\n",
        "  return_attention_mask=True,\n",
        "  return_tensors='pt',  # Return PyTorch tensors\n",
        "  truncation=True # to truncate excess tokens to meet the maximum length\n",
        ")\n",
        "encoding.keys()"
      ],
      "execution_count": 31,
      "outputs": [
        {
          "output_type": "execute_result",
          "data": {
            "text/plain": [
              "dict_keys(['input_ids', 'attention_mask'])"
            ]
          },
          "metadata": {
            "tags": []
          },
          "execution_count": 31
        }
      ]
    },
    {
      "cell_type": "markdown",
      "metadata": {
        "id": "z9yjbvtpp-y3",
        "colab_type": "text"
      },
      "source": [
        "Parameter explanation : \n",
        "\n",
        "*  max_length: has integer value to pass sequency of constance length, controls the length for padding/truncation\n",
        "*  add_special_tokens: has boolean value  to add special  tokens such as [CLS] to add at the start of each sentence and [SEP] to mark ending of a sentence. \n",
        "*   return_token_type_ids: has boolean value to whether to return token type IDs(list of token type ids to be fed to a model).\n",
        "*   padding: activates and control padding. if set to 'max_length' Pad to a maximum length specified with the argument max_length.Creats array of 0s (pad token) and 1s (real token) called attention mask\n",
        "*   return_attention_mask: Whether to return the attention mask, indicates to the model which tokens should be attended to, and which should not.\n",
        "*   return_tensors:  Can be set to ‘tf’, ‘pt’ or ‘np’ to return TensorFlow tf.constant, PyTorch torch.Tensor or Numpy, respectively.\n",
        "*   truncation: has boolean value to control truncation\n",
        "\n",
        "\n",
        "\n",
        "For more parameters and detailed explanations please refere [here](https://huggingface.co/transformers/main_classes/tokenizer.html#transformers.PreTrainedTokenizer).  \n",
        "\n",
        "\n"
      ]
    },
    {
      "cell_type": "code",
      "metadata": {
        "colab_type": "code",
        "id": "ut_y7AX8Reud",
        "colab": {
          "base_uri": "https://localhost:8080/",
          "height": 84
        },
        "outputId": "fc496bc9-b9d9-42b7-9a31-2cbd4b2bc9a9"
      },
      "source": [
        "encoding[\"input_ids\"]"
      ],
      "execution_count": 32,
      "outputs": [
        {
          "output_type": "execute_result",
          "data": {
            "text/plain": [
              "tensor([[  101,  4911,  2175,  2361,  3472,  5568,  3051,  2038,  2018,  2438,\n",
              "          7670,  8398,  3781, 10896,   102,     0,     0,     0,     0,     0,\n",
              "             0,     0,     0,     0,     0,     0,     0,     0,     0,     0,\n",
              "             0,     0]])"
            ]
          },
          "metadata": {
            "tags": []
          },
          "execution_count": 32
        }
      ]
    },
    {
      "cell_type": "code",
      "metadata": {
        "colab_type": "code",
        "id": "uIZ7D9-D_x9F",
        "colab": {
          "base_uri": "https://localhost:8080/",
          "height": 50
        },
        "outputId": "46a923d7-71d0-4c22-b704-69d1266ede93"
      },
      "source": [
        "encoding[\"attention_mask\"]# shows 1 for real token and 0 for pad tokens "
      ],
      "execution_count": 33,
      "outputs": [
        {
          "output_type": "execute_result",
          "data": {
            "text/plain": [
              "tensor([[1, 1, 1, 1, 1, 1, 1, 1, 1, 1, 1, 1, 1, 1, 1, 0, 0, 0, 0, 0, 0, 0, 0, 0,\n",
              "         0, 0, 0, 0, 0, 0, 0, 0]])"
            ]
          },
          "metadata": {
            "tags": []
          },
          "execution_count": 33
        }
      ]
    },
    {
      "cell_type": "markdown",
      "metadata": {
        "id": "1vq03wDzXqH1",
        "colab_type": "text"
      },
      "source": [
        "To set the max_length, let us look at token length in the news title."
      ]
    },
    {
      "cell_type": "code",
      "metadata": {
        "id": "w8ZyqqqKbk1U",
        "colab_type": "code",
        "colab": {}
      },
      "source": [
        "token_length=[] # place holder to count the number of tokens in news \n",
        "for ttl in data_brt.cleaned_title:\n",
        "  tokens = tokenizer.encode(ttl, max_length=512, truncation=True)\n",
        "  token_length.append(len(tokens)) # list of token count of each news title"
      ],
      "execution_count": 34,
      "outputs": []
    },
    {
      "cell_type": "code",
      "metadata": {
        "id": "tl4ng1FbcfEj",
        "colab_type": "code",
        "colab": {
          "base_uri": "https://localhost:8080/",
          "height": 258
        },
        "outputId": "433a6c1f-abc6-4b5c-83be-1ba4465a8213"
      },
      "source": [
        "plt.figure(figsize=(12,4))\n",
        "#sns.distplot(token_length)\n",
        "sns.countplot(token_length)\n",
        "plt.title(\"Frequency of token count\")\n",
        "plt.xlabel(\"Number of tokens in news title\")\n",
        "plt.ylabel(\"Frequency\")\n",
        "plt.show()"
      ],
      "execution_count": 35,
      "outputs": [
        {
          "output_type": "display_data",
          "data": {
            "image/png": "[encoded data removed]",
            "text/plain": [
              "<Figure size 864x288 with 1 Axes>"
            ]
          },
          "metadata": {
            "tags": [],
            "needs_background": "light"
          }
        }
      ]
    },
    {
      "cell_type": "code",
      "metadata": {
        "colab_type": "code",
        "id": "fPEn59ZBCrv5",
        "colab": {
          "base_uri": "https://localhost:8080/",
          "height": 34
        },
        "outputId": "5696f373-4987-4ae7-bdcc-f199167e1f37"
      },
      "source": [
        "# see the median, 95% quantile and maximum token count\n",
        "print(\"median number of tokens = {},95% quantile = {}, maximum number of tokens = {}\"\\\n",
        "      .format(np.median(token_length),np.quantile(token_length,0.95),np.max(token_length)))"
      ],
      "execution_count": 36,
      "outputs": [
        {
          "output_type": "stream",
          "text": [
            "median number of tokens = 15.0,95% quantile = 26.0, maximum number of tokens = 60\n"
          ],
          "name": "stdout"
        }
      ]
    },
    {
      "cell_type": "markdown",
      "metadata": {
        "id": "YwLkbUvOj0z9",
        "colab_type": "text"
      },
      "source": [
        "To be safe, we can set the maximum length as 60. But we can also set lesser number as majority of token counts are below 30."
      ]
    },
    {
      "cell_type": "code",
      "metadata": {
        "colab_type": "code",
        "id": "i-LPfHOeFntQ",
        "colab": {}
      },
      "source": [
        "max_len= 60  # maximum length"
      ],
      "execution_count": 37,
      "outputs": []
    },
    {
      "cell_type": "code",
      "metadata": {
        "colab_type": "code",
        "id": "KiT355ayG8aY",
        "colab": {}
      },
      "source": [
        "# define a class that can tokenize the data\n",
        "class NewsDataset(Dataset):\n",
        "  def __init__(self, text, targets, tokenizer, max_len):\n",
        "    self.text = text\n",
        "    self.targets = targets\n",
        "    self.tokenizer = tokenizer\n",
        "    self.max_len = max_len\n",
        "  def __len__(self):\n",
        "    return len(self.text)\n",
        "  def __getitem__(self, item):\n",
        "    row = str(self.text[item])\n",
        "    target = self.targets[item]\n",
        "    encoding = self.tokenizer.encode_plus(\n",
        "      row,\n",
        "      add_special_tokens=True,\n",
        "      max_length=self.max_len,\n",
        "      return_token_type_ids=False,\n",
        "      padding=\"max_length\",\n",
        "      return_attention_mask=True,\n",
        "      truncation=True, # to truncate excess tokens to meet the maximum length\n",
        "      return_tensors='pt',\n",
        "    )\n",
        "    return {\n",
        "      'row_text': row,\n",
        "      'input_ids': encoding['input_ids'].flatten(),\n",
        "      'attention_mask': encoding['attention_mask'].flatten(),\n",
        "      'targets': torch.tensor(target, dtype=torch.long)\n",
        "    }"
      ],
      "execution_count": 38,
      "outputs": []
    },
    {
      "cell_type": "markdown",
      "metadata": {
        "colab_type": "text",
        "id": "oMQzfIywaNXc"
      },
      "source": [
        "#### Data loader\n",
        "The following function is specifically defined for only the tittle of the news . For the text of the news, use similar approach but the input data has to be the column \"cleaned_text\"."
      ]
    },
    {
      "cell_type": "code",
      "metadata": {
        "colab_type": "code",
        "id": "4V_D74F4aLwh",
        "colab": {}
      },
      "source": [
        "# cleate dataloader for news title\n",
        "def create_data_loader(data, tokenizer, max_len, batch_size):\n",
        "    ds = NewsDataset(\n",
        "    text=data.cleaned_title.to_numpy(),\n",
        "    targets=data.is_fake.to_numpy(),\n",
        "    tokenizer=tokenizer,\n",
        "    max_len=max_len\n",
        "    )\n",
        "    return DataLoader(ds,batch_size=batch_size, num_workers=4)\n",
        "\n",
        "BATCH_SIZE = 16\n",
        "train_data_loader = create_data_loader(train_data, tokenizer, max_len, BATCH_SIZE)\n",
        "val_data_loader = create_data_loader(validate_data, tokenizer, max_len, BATCH_SIZE)\n",
        "test_data_loader = create_data_loader(test_data, tokenizer, max_len, BATCH_SIZE)"
      ],
      "execution_count": 39,
      "outputs": []
    },
    {
      "cell_type": "code",
      "metadata": {
        "colab_type": "code",
        "id": "Gw2qx7yqbZNM",
        "colab": {
          "base_uri": "https://localhost:8080/",
          "height": 34
        },
        "outputId": "d4ee299e-ca6b-4caa-d2f7-eeef06e4e9e5"
      },
      "source": [
        "data = next(iter(train_data_loader))\n",
        "data.keys()"
      ],
      "execution_count": 40,
      "outputs": [
        {
          "output_type": "execute_result",
          "data": {
            "text/plain": [
              "dict_keys(['row_text', 'input_ids', 'attention_mask', 'targets'])"
            ]
          },
          "metadata": {
            "tags": []
          },
          "execution_count": 40
        }
      ]
    },
    {
      "cell_type": "code",
      "metadata": {
        "colab_type": "code",
        "id": "oHIit65ghXsV",
        "colab": {
          "base_uri": "https://localhost:8080/",
          "height": 67
        },
        "outputId": "23c6258d-fa85-434d-8ee8-fd5e4e861fe5"
      },
      "source": [
        "# the shape of input_ids, attention_mask and targets for a batch\n",
        "print(data['input_ids'].shape)\n",
        "print(data['attention_mask'].shape)\n",
        "print(data['targets'].shape)"
      ],
      "execution_count": 41,
      "outputs": [
        {
          "output_type": "stream",
          "text": [
            "torch.Size([16, 60])\n",
            "torch.Size([16, 60])\n",
            "torch.Size([16])\n"
          ],
          "name": "stdout"
        }
      ]
    },
    {
      "cell_type": "markdown",
      "metadata": {
        "id": "fp_dkn0Pxo7N",
        "colab_type": "text"
      },
      "source": [
        "Let us see how the result looks like:"
      ]
    },
    {
      "cell_type": "code",
      "metadata": {
        "id": "1uSds6O7sxs3",
        "colab_type": "code",
        "colab": {
          "base_uri": "https://localhost:8080/",
          "height": 87
        },
        "outputId": "4e480da4-b715-4156-c9ca-f83b3f65b7e1"
      },
      "source": [
        "data[\"row_text\"][0:3] # the first three news title in training data"
      ],
      "execution_count": 42,
      "outputs": [
        {
          "output_type": "execute_result",
          "data": {
            "text/plain": [
              "[' BREAKING GOP Chairman Grassley Has Had Enough DEMANDS Trump Jr Testimony',\n",
              " ' Failed GOP Candidates Remembered In Hilarious Mocking Eulogies VIDEO',\n",
              " ' Mike Pence New DC Neighbors Are HILARIOUSLY Trolling Him For Being A Homophobic Bigot']"
            ]
          },
          "metadata": {
            "tags": []
          },
          "execution_count": 42
        }
      ]
    },
    {
      "cell_type": "code",
      "metadata": {
        "id": "4KNVcgA8vm0e",
        "colab_type": "code",
        "colab": {
          "base_uri": "https://localhost:8080/",
          "height": 319
        },
        "outputId": "0ea78539-3bf0-46dd-ea80-5cc4a80f86dd"
      },
      "source": [
        "print(data['input_ids'][:3]) # the first three news input_ids in training data"
      ],
      "execution_count": 43,
      "outputs": [
        {
          "output_type": "stream",
          "text": [
            "tensor([[  101,  4911,  2175,  2361,  3472,  5568,  3051,  2038,  2018,  2438,\n",
            "          7670,  8398,  3781, 10896,   102,     0,     0,     0,     0,     0,\n",
            "             0,     0,     0,     0,     0,     0,     0,     0,     0,     0,\n",
            "             0,     0,     0,     0,     0,     0,     0,     0,     0,     0,\n",
            "             0,     0,     0,     0,     0,     0,     0,     0,     0,     0,\n",
            "             0,     0,     0,     0,     0,     0,     0,     0,     0,     0],\n",
            "        [  101,  3478,  2175,  2361,  5347,  4622,  1999, 26316, 19545,  7327,\n",
            "         21615,  2678,   102,     0,     0,     0,     0,     0,     0,     0,\n",
            "             0,     0,     0,     0,     0,     0,     0,     0,     0,     0,\n",
            "             0,     0,     0,     0,     0,     0,     0,     0,     0,     0,\n",
            "             0,     0,     0,     0,     0,     0,     0,     0,     0,     0,\n",
            "             0,     0,     0,     0,     0,     0,     0,     0,     0,     0],\n",
            "        [  101,  3505,  7279,  3401,  2047,  5887, 10638,  2024, 26316,  2135,\n",
            "         18792,  2075,  2032,  2005,  2108,  1037, 24004, 20200,  2502,  4140,\n",
            "           102,     0,     0,     0,     0,     0,     0,     0,     0,     0,\n",
            "             0,     0,     0,     0,     0,     0,     0,     0,     0,     0,\n",
            "             0,     0,     0,     0,     0,     0,     0,     0,     0,     0,\n",
            "             0,     0,     0,     0,     0,     0,     0,     0,     0,     0]])\n"
          ],
          "name": "stdout"
        }
      ]
    },
    {
      "cell_type": "code",
      "metadata": {
        "id": "T9YOwXrCvNb5",
        "colab_type": "code",
        "colab": {
          "base_uri": "https://localhost:8080/",
          "height": 34
        },
        "outputId": "a595fd07-c7df-4421-8bc7-205b29db8aa6"
      },
      "source": [
        "print(data['targets'][:3]) # target value for a batch of 16"
      ],
      "execution_count": 44,
      "outputs": [
        {
          "output_type": "stream",
          "text": [
            "tensor([1, 1, 1])\n"
          ],
          "name": "stdout"
        }
      ]
    },
    {
      "cell_type": "code",
      "metadata": {
        "id": "QQPDSb62vSXC",
        "colab_type": "code",
        "colab": {
          "base_uri": "https://localhost:8080/",
          "height": 186
        },
        "outputId": "39a0613b-b475-46dd-ded0-e4a878c9d556"
      },
      "source": [
        "# We can confirm the above result from the training dataframe\n",
        "train_data.head(3)"
      ],
      "execution_count": 45,
      "outputs": [
        {
          "output_type": "execute_result",
          "data": {
            "text/html": [
              "<div>\n",
              "<style scoped>\n",
              "    .dataframe tbody tr th:only-of-type {\n",
              "        vertical-align: middle;\n",
              "    }\n",
              "\n",
              "    .dataframe tbody tr th {\n",
              "        vertical-align: top;\n",
              "    }\n",
              "\n",
              "    .dataframe thead th {\n",
              "        text-align: right;\n",
              "    }\n",
              "</style>\n",
              "<table border=\"1\" class=\"dataframe\">\n",
              "  <thead>\n",
              "    <tr style=\"text-align: right;\">\n",
              "      <th></th>\n",
              "      <th>cleaned_title</th>\n",
              "      <th>cleaned_text</th>\n",
              "      <th>is_fake</th>\n",
              "      <th>label</th>\n",
              "    </tr>\n",
              "  </thead>\n",
              "  <tbody>\n",
              "    <tr>\n",
              "      <th>22216</th>\n",
              "      <td>BREAKING GOP Chairman Grassley Has Had Enough...</td>\n",
              "      <td>Donald Trump s White House is in chaos and the...</td>\n",
              "      <td>1</td>\n",
              "      <td>fake</td>\n",
              "    </tr>\n",
              "    <tr>\n",
              "      <th>27917</th>\n",
              "      <td>Failed GOP Candidates Remembered In Hilarious...</td>\n",
              "      <td>Now that Donald Trump is the presumptive GOP n...</td>\n",
              "      <td>1</td>\n",
              "      <td>fake</td>\n",
              "    </tr>\n",
              "    <tr>\n",
              "      <th>25007</th>\n",
              "      <td>Mike Pence New DC Neighbors Are HILARIOUSLY T...</td>\n",
              "      <td>Mike Pence is a huge homophobe He supports exg...</td>\n",
              "      <td>1</td>\n",
              "      <td>fake</td>\n",
              "    </tr>\n",
              "  </tbody>\n",
              "</table>\n",
              "</div>"
            ],
            "text/plain": [
              "                                           cleaned_title  ... label\n",
              "22216   BREAKING GOP Chairman Grassley Has Had Enough...  ...  fake\n",
              "27917   Failed GOP Candidates Remembered In Hilarious...  ...  fake\n",
              "25007   Mike Pence New DC Neighbors Are HILARIOUSLY T...  ...  fake\n",
              "\n",
              "[3 rows x 4 columns]"
            ]
          },
          "metadata": {
            "tags": []
          },
          "execution_count": 45
        }
      ]
    },
    {
      "cell_type": "markdown",
      "metadata": {
        "colab_type": "text",
        "id": "xH4vA-zdh8WX"
      },
      "source": [
        "### 3.2) Modeling using BERT"
      ]
    },
    {
      "cell_type": "markdown",
      "metadata": {
        "id": "56mLVpIeQUb1",
        "colab_type": "text"
      },
      "source": [
        "BERT Base-uncase pretrained model was used to train and validate the data. \n"
      ]
    },
    {
      "cell_type": "code",
      "metadata": {
        "colab_type": "code",
        "id": "7Y1S86s-hZ-i",
        "colab": {
          "base_uri": "https://localhost:8080/",
          "height": 114,
          "referenced_widgets": [
            "21a3201b8c874fe19debbe0ed3f1bec1",
            "817d1b4f8b624dd18cfe90dd70e96b61",
            "9ae17e6f69b14ad9b973775c18d4b90f",
            "2bbca5c9da784993b2295efceb1bd8c1",
            "db96a1e29ddd4b7bbae991d969020b11",
            "604976f34a4c4b218f1d2e97341e02d9",
            "a77648a9cd964dce9afb3898fad9862b",
            "5a61e282d91f4df58da702a1c5a41389",
            "8d85fa87bc154147ab893fa51362dafa",
            "dc9740c3c1f54e6b955ec8ae6e7df26a",
            "5f2df218e1134487ad5c147832d000c7",
            "6e281d21194a4fa4bee06122a7bffe11",
            "fb227a30f6904ead912cd459215a5b7b",
            "0301f3df97154a55aa62f9b4031ec318",
            "6ea112ac746f490da7c7dd3973910341",
            "821d3dae20c94929ba152e130a451dc6"
          ]
        },
        "outputId": "d69dcac3-d17c-47b6-d6e0-b7fb64b93925"
      },
      "source": [
        "bert_model = BertModel.from_pretrained(PRE_TRAINED_MODEL_NAME)"
      ],
      "execution_count": 46,
      "outputs": [
        {
          "output_type": "display_data",
          "data": {
            "application/vnd.jupyter.widget-view+json": {
              "model_id": "21a3201b8c874fe19debbe0ed3f1bec1",
              "version_minor": 0,
              "version_major": 2
            },
            "text/plain": [
              "HBox(children=(FloatProgress(value=0.0, description='Downloading', max=433.0, style=ProgressStyle(description_…"
            ]
          },
          "metadata": {
            "tags": []
          }
        },
        {
          "output_type": "stream",
          "text": [
            "\n"
          ],
          "name": "stdout"
        },
        {
          "output_type": "display_data",
          "data": {
            "application/vnd.jupyter.widget-view+json": {
              "model_id": "8d85fa87bc154147ab893fa51362dafa",
              "version_minor": 0,
              "version_major": 2
            },
            "text/plain": [
              "HBox(children=(FloatProgress(value=0.0, description='Downloading', max=440473133.0, style=ProgressStyle(descri…"
            ]
          },
          "metadata": {
            "tags": []
          }
        },
        {
          "output_type": "stream",
          "text": [
            "\n"
          ],
          "name": "stdout"
        }
      ]
    },
    {
      "cell_type": "code",
      "metadata": {
        "colab_type": "code",
        "id": "_qohX3mmkZEy",
        "colab": {}
      },
      "source": [
        "# for the sample data\n",
        "last_hidden_state, pooled_output = bert_model(\n",
        "  input_ids=encoding['input_ids'],\n",
        "  attention_mask=encoding['attention_mask']\n",
        ")"
      ],
      "execution_count": 47,
      "outputs": []
    },
    {
      "cell_type": "markdown",
      "metadata": {
        "id": "6pkY8pxGJ9Xu",
        "colab_type": "text"
      },
      "source": [
        "Last_hidden state in this case contians each token in a news and their corresponding hidden units of the last layer in the feedforward-networks whereas pooled_output is the summary of a news title on last_hidden_state. "
      ]
    },
    {
      "cell_type": "code",
      "metadata": {
        "colab_type": "code",
        "id": "PIh5O4Exkd04",
        "colab": {
          "base_uri": "https://localhost:8080/",
          "height": 34
        },
        "outputId": "db21b19c-da50-458f-f56d-59c7eb3faaf8"
      },
      "source": [
        "last_hidden_state.shape #  the number of hidden units in the feedforward-networks=768"
      ],
      "execution_count": 48,
      "outputs": [
        {
          "output_type": "execute_result",
          "data": {
            "text/plain": [
              "torch.Size([1, 32, 768])"
            ]
          },
          "metadata": {
            "tags": []
          },
          "execution_count": 48
        }
      ]
    },
    {
      "cell_type": "code",
      "metadata": {
        "colab_type": "code",
        "id": "5i0ewk_LkpJx",
        "colab": {
          "base_uri": "https://localhost:8080/",
          "height": 34
        },
        "outputId": "468e4878-b0df-40ee-af2d-a58197b97026"
      },
      "source": [
        "pooled_output.shape"
      ],
      "execution_count": 49,
      "outputs": [
        {
          "output_type": "execute_result",
          "data": {
            "text/plain": [
              "torch.Size([1, 768])"
            ]
          },
          "metadata": {
            "tags": []
          },
          "execution_count": 49
        }
      ]
    },
    {
      "cell_type": "code",
      "metadata": {
        "colab_type": "code",
        "id": "zXxujioyjY6t",
        "colab": {}
      },
      "source": [
        "class NewsClassifier(nn.Module):\n",
        "  def __init__(self, n_classes): \n",
        "    super(NewsClassifier, self).__init__()\n",
        "    self.bert = BertModel.from_pretrained(PRE_TRAINED_MODEL_NAME)\n",
        "    self.drop = nn.Dropout(p=0.3)\n",
        "    self.out = nn.Linear(self.bert.config.hidden_size, n_classes)\n",
        "  def forward(self, input_ids, attention_mask):\n",
        "    _, pooled_output = self.bert(\n",
        "      input_ids=input_ids,\n",
        "      attention_mask=attention_mask\n",
        "    )\n",
        "    output = self.drop(pooled_output)\n",
        "    return self.out(output)"
      ],
      "execution_count": 50,
      "outputs": []
    },
    {
      "cell_type": "code",
      "metadata": {
        "colab_type": "code",
        "id": "Yj4eR8g_lmRF",
        "colab": {}
      },
      "source": [
        "#create classifier instance and move it to the GPU\n",
        "model = NewsClassifier(2) # we have two classes, fake and real\n",
        "model = model.to(device)"
      ],
      "execution_count": 51,
      "outputs": []
    },
    {
      "cell_type": "code",
      "metadata": {
        "colab_type": "code",
        "id": "9Lw8ypNWmdlf",
        "colab": {
          "base_uri": "https://localhost:8080/",
          "height": 50
        },
        "outputId": "7420f301-8009-448e-e885-263567345cf4"
      },
      "source": [
        "# move the batch of training data to GPU\n",
        "input_ids = data['input_ids'].to(device)\n",
        "attention_mask = data['attention_mask'].to(device)\n",
        "print(input_ids.shape) # batch size x seq length\n",
        "print(attention_mask.shape) # batch size x seq length"
      ],
      "execution_count": 52,
      "outputs": [
        {
          "output_type": "stream",
          "text": [
            "torch.Size([16, 60])\n",
            "torch.Size([16, 60])\n"
          ],
          "name": "stdout"
        }
      ]
    },
    {
      "cell_type": "code",
      "metadata": {
        "colab_type": "code",
        "id": "DvdY0R24nZqC",
        "colab": {
          "base_uri": "https://localhost:8080/",
          "height": 286
        },
        "outputId": "804764c6-1b7b-4047-9512-fa6e49a1c84e"
      },
      "source": [
        "# predicted probabilities from the trained model using softmax function\n",
        "nn.functional.softmax(model(input_ids, attention_mask), dim=1)"
      ],
      "execution_count": 53,
      "outputs": [
        {
          "output_type": "execute_result",
          "data": {
            "text/plain": [
              "tensor([[0.3372, 0.6628],\n",
              "        [0.3495, 0.6505],\n",
              "        [0.4470, 0.5530],\n",
              "        [0.5714, 0.4286],\n",
              "        [0.4157, 0.5843],\n",
              "        [0.5251, 0.4749],\n",
              "        [0.4097, 0.5903],\n",
              "        [0.3171, 0.6829],\n",
              "        [0.5494, 0.4506],\n",
              "        [0.2329, 0.7671],\n",
              "        [0.3344, 0.6656],\n",
              "        [0.3892, 0.6108],\n",
              "        [0.4278, 0.5722],\n",
              "        [0.4010, 0.5990],\n",
              "        [0.4201, 0.5799],\n",
              "        [0.4491, 0.5509]], device='cuda:0', grad_fn=<SoftmaxBackward>)"
            ]
          },
          "metadata": {
            "tags": []
          },
          "execution_count": 53
        }
      ]
    },
    {
      "cell_type": "markdown",
      "metadata": {
        "id": "Q85tX0Wy7IJy",
        "colab_type": "text"
      },
      "source": [
        "### 3.3) Fine-tuning BERT model"
      ]
    },
    {
      "cell_type": "markdown",
      "metadata": {
        "colab_type": "text",
        "id": "lwN9M85YsmhX"
      },
      "source": [
        "Recommendations for fine-tuning by BERT's author:\n",
        "*   Batch size: 16, 32: increasing the batch size reduces the training time but gives lower accuracy\n",
        "*   Learning rate (Adam): 5e-5, 3e-5, 2e-5\n",
        "*   Number of epochs: 2, 3, 4\n",
        "\n",
        "Cross intropy is the measure of the performance of classification obtained by compairing the actual probablity with the  predicted probablity(for more detail explanation please refer [here](https://ml-cheatsheet.readthedocs.io/en/latest/loss_functions.html#:~:text=Cross-entropy%20loss%2C%20or%20log%20loss%2C%20measures%20the%20performance,the%20predicted%20probability%20diverges%20from%20the%20actual%20label.))"
      ]
    },
    {
      "cell_type": "code",
      "metadata": {
        "colab_type": "code",
        "id": "5C_76qnIrKT4",
        "colab": {}
      },
      "source": [
        "#Training \n",
        "EPOCHS = 4\n",
        "optimizer = AdamW(model.parameters(), lr=2e-5, correct_bias=False)\n",
        "total_steps = len(train_data_loader) * EPOCHS\n",
        "scheduler = get_linear_schedule_with_warmup(\n",
        "  optimizer,\n",
        "  num_warmup_steps=0,\n",
        "  num_training_steps=total_steps\n",
        "  )\n",
        "loss_fn = nn.CrossEntropyLoss().to(device)"
      ],
      "execution_count": 54,
      "outputs": []
    },
    {
      "cell_type": "code",
      "metadata": {
        "colab_type": "code",
        "id": "_SUuFf0Zu4-S",
        "colab": {}
      },
      "source": [
        "def train_epoch(\n",
        "  model,\n",
        "  data_loader,\n",
        "  loss_fn,\n",
        "  optimizer,\n",
        "  device,\n",
        "  scheduler,\n",
        "  n_examples\n",
        "):\n",
        "  model = model.train()\n",
        "  losses = []\n",
        "  correct_predictions = 0 \n",
        "  for d in data_loader:\n",
        "    input_ids = d[\"input_ids\"].to(device)\n",
        "    attention_mask = d[\"attention_mask\"].to(device)\n",
        "    targets = d[\"targets\"].to(device)\n",
        "    outputs = model(\n",
        "      input_ids=input_ids,\n",
        "      attention_mask=attention_mask\n",
        "    )\n",
        "    _, preds = torch.max(outputs, dim=1) #get the maximum probablity for prediction\n",
        "    loss = loss_fn(outputs, targets)\n",
        "    correct_predictions += torch.sum(preds == targets) # number of correct predictions\n",
        "    losses.append(loss.item())\n",
        "    loss.backward()\n",
        "    nn.utils.clip_grad_norm_(model.parameters(), max_norm=1.0)\n",
        "    optimizer.step()\n",
        "    scheduler.step()\n",
        "    optimizer.zero_grad()\n",
        "  return correct_predictions.double() / n_examples, np.mean(losses)  # accuracy"
      ],
      "execution_count": 55,
      "outputs": []
    },
    {
      "cell_type": "code",
      "metadata": {
        "colab_type": "code",
        "id": "wRgxUHLPyVWh",
        "colab": {}
      },
      "source": [
        "def eval_model(model, data_loader, loss_fn, device, n_examples):\n",
        "  model = model.eval()\n",
        "  losses = []\n",
        "  correct_predictions = 0\n",
        "  with torch.no_grad():\n",
        "    for d in data_loader:\n",
        "      input_ids = d[\"input_ids\"].to(device)\n",
        "      attention_mask = d[\"attention_mask\"].to(device)\n",
        "      targets = d[\"targets\"].to(device)\n",
        "      outputs = model(\n",
        "        input_ids=input_ids,\n",
        "        attention_mask=attention_mask\n",
        "      )\n",
        "      _, preds = torch.max(outputs, dim=1) # take the maximum \n",
        "      loss = loss_fn(outputs, targets)\n",
        "      correct_predictions += torch.sum(preds == targets)\n",
        "      losses.append(loss.item())\n",
        "  return correct_predictions.double() / n_examples, np.mean(losses)  # accuracy "
      ],
      "execution_count": 56,
      "outputs": []
    },
    {
      "cell_type": "code",
      "metadata": {
        "colab_type": "code",
        "id": "Oc3wtsj5yX8q",
        "colab": {
          "base_uri": "https://localhost:8080/",
          "height": 386
        },
        "outputId": "4626a38b-ba08-43f8-aebf-bc47c6ea1a4f"
      },
      "source": [
        "%%time\n",
        "history = defaultdict(list)\n",
        "best_accuracy = 0\n",
        "for epoch in range(EPOCHS):\n",
        "  print(f'Epoch {epoch + 1}/{EPOCHS}')\n",
        "  print('-' * 10)\n",
        "  train_acc, train_loss = train_epoch(\n",
        "    model,\n",
        "    train_data_loader,\n",
        "    loss_fn,\n",
        "    optimizer,\n",
        "    device,\n",
        "    scheduler,\n",
        "    len(train_data)\n",
        "  )\n",
        "  print(f'Train loss {train_loss} accuracy {train_acc}')\n",
        "  val_acc, val_loss = eval_model(\n",
        "    model,\n",
        "    val_data_loader,\n",
        "    loss_fn,\n",
        "    device,\n",
        "    len(validate_data)\n",
        "  )\n",
        "  print(f'Val   loss {val_loss} accuracy {val_acc}')\n",
        "  print()\n",
        "  history['train_acc'].append(train_acc)\n",
        "  history['train_loss'].append(train_loss)\n",
        "  history['val_acc'].append(val_acc)\n",
        "  history['val_loss'].append(val_loss)\n",
        "  if val_acc > best_accuracy:\n",
        "    torch.save(model.state_dict(), 'best_model_state.bin')\n",
        "    best_accuracy = val_acc"
      ],
      "execution_count": 57,
      "outputs": [
        {
          "output_type": "stream",
          "text": [
            "Epoch 1/4\n",
            "----------\n",
            "Train loss 0.12456744883378257 accuracy 0.9616069937078903\n",
            "Val   loss 0.12029871357005384 accuracy 0.9706013363028954\n",
            "\n",
            "Epoch 2/4\n",
            "----------\n",
            "Train loss 0.03895378594950262 accuracy 0.990255582159363\n",
            "Val   loss 0.1078015402271897 accuracy 0.978619153674833\n",
            "\n",
            "Epoch 3/4\n",
            "----------\n",
            "Train loss 0.011100436823252917 accuracy 0.9978005456873991\n",
            "Val   loss 0.12340181627174304 accuracy 0.9804008908685969\n",
            "\n",
            "Epoch 4/4\n",
            "----------\n",
            "Train loss 0.00548870717752439 accuracy 0.9989420346344452\n",
            "Val   loss 0.13874070685930334 accuracy 0.9799554565701559\n",
            "\n",
            "CPU times: user 17min 37s, sys: 3min 27s, total: 21min 4s\n",
            "Wall time: 21min 21s\n"
          ],
          "name": "stdout"
        }
      ]
    },
    {
      "cell_type": "code",
      "metadata": {
        "colab_type": "code",
        "id": "bO5rDnTa7ayy",
        "colab": {
          "base_uri": "https://localhost:8080/",
          "height": 295
        },
        "outputId": "1215e291-bc89-4f12-9d09-8c5f9dad04a1"
      },
      "source": [
        "plt.plot(history['train_acc'], label='train accuracy')\n",
        "plt.plot(history['val_acc'], label='validation accuracy')\n",
        "plt.title('Training history')\n",
        "plt.ylabel('Accuracy')\n",
        "plt.xlabel('Epoch')\n",
        "plt.legend()\n",
        "plt.ylim([0, 1]);"
      ],
      "execution_count": 58,
      "outputs": [
        {
          "output_type": "display_data",
          "data": {
            "image/png": "[encoded data removed]",
            "text/plain": [
              "<Figure size 432x288 with 1 Axes>"
            ]
          },
          "metadata": {
            "tags": [],
            "needs_background": "light"
          }
        }
      ]
    },
    {
      "cell_type": "code",
      "metadata": {
        "colab_type": "code",
        "id": "9AlyXMzo7obX",
        "colab": {}
      },
      "source": [
        "# model = NewsClassifier(2) # len(class_names)\n",
        "#model.load_state_dict(torch.load('best_model_state.bin'))\n",
        "# model = model.to(device)"
      ],
      "execution_count": 59,
      "outputs": []
    },
    {
      "cell_type": "markdown",
      "metadata": {
        "colab_type": "text",
        "id": "Ks9ebsKY7uzn"
      },
      "source": [
        "\n",
        "## Validate with test data "
      ]
    },
    {
      "cell_type": "code",
      "metadata": {
        "colab_type": "code",
        "id": "CoRMpJ5a7nBv",
        "colab": {
          "base_uri": "https://localhost:8080/",
          "height": 34
        },
        "outputId": "81de4775-0452-40f9-d67a-a976a782f015"
      },
      "source": [
        "test_acc, _ = eval_model(\n",
        "  model,\n",
        "  test_data_loader,\n",
        "  loss_fn,\n",
        "  device,\n",
        "  len(test_data)\n",
        ")\n",
        "test_acc.item()"
      ],
      "execution_count": 60,
      "outputs": [
        {
          "output_type": "execute_result",
          "data": {
            "text/plain": [
              "0.9848552338530067"
            ]
          },
          "metadata": {
            "tags": []
          },
          "execution_count": 60
        }
      ]
    },
    {
      "cell_type": "code",
      "metadata": {
        "colab_type": "code",
        "id": "h8VjeXv-87q0",
        "colab": {}
      },
      "source": [
        "# A fuction that returns the actual text,\n",
        "# prediction , prediction probablity and real labeling\n",
        "def get_predictions(model, data_loader):\n",
        "  model = model.eval()\n",
        "  news_texts = []\n",
        "  predictions = []\n",
        "  prediction_probs = []\n",
        "  real_values = []\n",
        "  with torch.no_grad():\n",
        "    for d in data_loader:\n",
        "      texts = d[\"row_text\"]\n",
        "      input_ids = d[\"input_ids\"].to(device)\n",
        "      attention_mask = d[\"attention_mask\"].to(device)\n",
        "      targets = d[\"targets\"].to(device)\n",
        "      outputs = model(\n",
        "        input_ids=input_ids,\n",
        "        attention_mask=attention_mask\n",
        "      )\n",
        "      _, preds = torch.max(outputs, dim=1)\n",
        "      news_texts.extend(texts)\n",
        "      predictions.extend(preds)\n",
        "      prediction_probs.extend(outputs)\n",
        "      real_values.extend(targets)\n",
        "  predictions = torch.stack(predictions).cpu()\n",
        "  prediction_probs = torch.stack(prediction_probs).cpu()\n",
        "  real_values = torch.stack(real_values).cpu()\n",
        "  return news_texts, predictions, prediction_probs, real_values"
      ],
      "execution_count": 61,
      "outputs": []
    },
    {
      "cell_type": "code",
      "metadata": {
        "id": "ilwjJ4QUEvyP",
        "colab_type": "code",
        "colab": {
          "base_uri": "https://localhost:8080/",
          "height": 54
        },
        "outputId": "cfab0de1-1a5c-43a5-fd77-bef1dcb2a984"
      },
      "source": [
        "from google.colab import drive\n",
        "drive.mount('/content/drive')"
      ],
      "execution_count": 62,
      "outputs": [
        {
          "output_type": "stream",
          "text": [
            "Drive already mounted at /content/drive; to attempt to forcibly remount, call drive.mount(\"/content/drive\", force_remount=True).\n"
          ],
          "name": "stdout"
        }
      ]
    },
    {
      "cell_type": "code",
      "metadata": {
        "colab_type": "code",
        "id": "F0dv5z7p89KZ",
        "colab": {}
      },
      "source": [
        "y_news_texts, y_pred, y_pred_probs, y_test = get_predictions(\n",
        "  model,\n",
        "  test_data_loader\n",
        ")"
      ],
      "execution_count": 63,
      "outputs": []
    },
    {
      "cell_type": "code",
      "metadata": {
        "colab_type": "code",
        "id": "hB79oEpj9Hwv",
        "colab": {
          "base_uri": "https://localhost:8080/",
          "height": 168
        },
        "outputId": "54bf302d-125d-45bc-b848-d151d111955d"
      },
      "source": [
        "print(classification_report(y_test, y_pred, target_names=[\"true\",\"fake\"]))"
      ],
      "execution_count": 64,
      "outputs": [
        {
          "output_type": "stream",
          "text": [
            "              precision    recall  f1-score   support\n",
            "\n",
            "        true       0.99      0.98      0.98      2141\n",
            "        fake       0.98      0.99      0.99      2349\n",
            "\n",
            "    accuracy                           0.98      4490\n",
            "   macro avg       0.98      0.98      0.98      4490\n",
            "weighted avg       0.98      0.98      0.98      4490\n",
            "\n"
          ],
          "name": "stdout"
        }
      ]
    },
    {
      "cell_type": "code",
      "metadata": {
        "colab_type": "code",
        "id": "0TGJEe369NEi",
        "colab": {
          "base_uri": "https://localhost:8080/",
          "height": 281
        },
        "outputId": "540bb7ab-6a2b-4495-a71a-5e6afcce1bb8"
      },
      "source": [
        "def show_confusion_matrix(confusion_matrix):\n",
        "  hmap = sns.heatmap(confusion_matrix, annot=True, fmt=\"d\", cmap=\"Blues\")\n",
        "  hmap.yaxis.set_ticklabels(hmap.yaxis.get_ticklabels(), rotation=0, ha='right')\n",
        "  hmap.xaxis.set_ticklabels(hmap.xaxis.get_ticklabels(), rotation=30, ha='right')\n",
        "  plt.ylabel('True lable')\n",
        "  plt.xlabel('Predicted label');\n",
        "cm = confusion_matrix(y_test, y_pred)\n",
        "df_cm = pd.DataFrame(cm, index=[0,1], columns=[0,1]) # [0,1] is class name\n",
        "show_confusion_matrix(df_cm)"
      ],
      "execution_count": 65,
      "outputs": [
        {
          "output_type": "display_data",
          "data": {
            "image/png": "[encoded data removed]",
            "text/plain": [
              "<Figure size 432x288 with 2 Axes>"
            ]
          },
          "metadata": {
            "tags": [],
            "needs_background": "light"
          }
        }
      ]
    },
    {
      "cell_type": "code",
      "metadata": {
        "colab_type": "code",
        "id": "dhqlyhNGrsf3",
        "colab": {
          "base_uri": "https://localhost:8080/",
          "height": 35
        },
        "outputId": "e97ca71a-030d-4220-a516-7a81f16c4daf"
      },
      "source": [
        "y_news_texts[1]"
      ],
      "execution_count": 66,
      "outputs": [
        {
          "output_type": "execute_result",
          "data": {
            "application/vnd.google.colaboratory.intrinsic+json": {
              "type": "string"
            },
            "text/plain": [
              "'China says US should respect concerns on Taiwan'"
            ]
          },
          "metadata": {
            "tags": []
          },
          "execution_count": 66
        }
      ]
    },
    {
      "cell_type": "code",
      "metadata": {
        "colab_type": "code",
        "id": "gZkNXDfxsJu1",
        "colab": {
          "base_uri": "https://localhost:8080/",
          "height": 34
        },
        "outputId": "e80b1258-a63c-4ba9-c0d2-97cf805ff78a"
      },
      "source": [
        "y_test[1]"
      ],
      "execution_count": 67,
      "outputs": [
        {
          "output_type": "execute_result",
          "data": {
            "text/plain": [
              "tensor(0)"
            ]
          },
          "metadata": {
            "tags": []
          },
          "execution_count": 67
        }
      ]
    },
    {
      "cell_type": "code",
      "metadata": {
        "colab_type": "code",
        "id": "f8tOkSVYjNLT",
        "colab": {
          "base_uri": "https://localhost:8080/",
          "height": 67
        },
        "outputId": "a5618e8d-fcb5-412b-89ca-17cf4ccedecc"
      },
      "source": [
        "idx = 2\n",
        "class_names= [\"true\",\"fake\"]\n",
        "news_text_ttl = y_news_texts[idx]\n",
        "true_label = y_test[idx]\n",
        "pred_df = pd.DataFrame({\n",
        "  'class_names': class_names,\n",
        "  'values': y_pred_probs[idx]\n",
        "})\n",
        "print(\"\\n\".join(wrap(news_text_ttl)))\n",
        "print()\n",
        "print(f'True prediction: {class_names[true_label]}')"
      ],
      "execution_count": 68,
      "outputs": [
        {
          "output_type": "stream",
          "text": [
            "HOW  ILLEGAL KIDS Have Been Able To Avoid Deportation\n",
            "\n",
            "True prediction: fake\n"
          ],
          "name": "stdout"
        }
      ]
    },
    {
      "cell_type": "code",
      "metadata": {
        "colab_type": "code",
        "id": "jeggxd05u5i7",
        "colab": {
          "base_uri": "https://localhost:8080/",
          "height": 34
        },
        "outputId": "eabe1046-9daf-48f6-be51-e1efb1daeb36"
      },
      "source": [
        "y_pred[2] #prediction"
      ],
      "execution_count": 69,
      "outputs": [
        {
          "output_type": "execute_result",
          "data": {
            "text/plain": [
              "tensor(1)"
            ]
          },
          "metadata": {
            "tags": []
          },
          "execution_count": 69
        }
      ]
    },
    {
      "cell_type": "markdown",
      "metadata": {
        "colab_type": "text",
        "id": "uhUGW2gM-FaW"
      },
      "source": [
        "### Predicting on news titles from Snopes \n",
        "The model is used to predict twenty news from [Snopes](https://www.snopes.com/),a fact checking website.  It has news rated as false, true, mixed and so on. To test the model, the titles from the 2016/2017 news archive were collected from Snopes. This is because the data at hand was from 2015 to 2018. The current news might not be a good test as news in 2020 might be dominated by current issues such as covid-19. Thus, the older news was considered. From a total of  the twenty news title, half of them were fake news and rest were true news."
      ]
    },
    {
      "cell_type": "code",
      "metadata": {
        "colab_type": "code",
        "id": "k3PSurD6wKb1",
        "colab": {}
      },
      "source": [
        "snopes_data= [\"Is This James Earl Jones Dressed as Darth Vader\", \n",
        "\"David Rockefeller's Sixth Heart Transplant Successful at Age 99\", \n",
        "\"Did Bloomington Police Discover Over 200 Penises During Raid at a Mortician's Home?\", \n",
        "\"Is the Trump Administration Price Gouging Puerto Rico Evacuees and Seizing Passports?\",\n",
        "\"2017 Tainted Halloween Candy Reports 11/5/2014\", \n",
        "\"Did President Trump Say Pedophiles Will Get the Death Penalty?\", \n",
        "\"Michelle Obama Never Placed Her Hand Over Her Heart During the National Anthem?\",\n",
        "\"Katy Perry Reveals Penchant for Cannibalism?\" ,\n",
        "\"Is a Virginia Church Ripping Out an 'Offensive' George Washington Plaque?\", \n",
        "\"Were Scientists Caught Tampering with Raw Data to Exaggerate Sea Level Rise?\",\n",
        "\"Did Trump Retweet a Cartoon of a Train Hitting a CNN Reporter?\",\n",
        "\"Did Pipe-Bombing Suspect Cesar Sayoc Attend Donald Trump Rallies?\",\n",
        "\"Did President Trump’s Grandfather Beg the Government of Bavaria Not to Deport Him?\",\n",
        "\"Did Gun Violence Kill More People in U.S. in 9 Weeks than U.S. Combatants Died on D-Day?\",\n",
        " \"Did the Florida Shooter’s Instagram Profile Picture Feature a ‘MAGA’ Hat?\",\n",
        "\"Wisconsin Department of Natural Resources Removes References to ‘Climate’ from Web Site\",\n",
        " \"Hillary Clinton Referenced RFK Assassination as Reason to Continue 2008 Campaign\",\n",
        "  \"Did Richard Nixon Write a Letter Predicting Donald Trump’s Success in Politics?\", \n",
        "\"Did a Twitter User Jeopardize Her NASA Internship by Insulting a Member of the National Space Council?\",\n",
        "\"Did WaPo Headline Call IS Leader al-Baghdadi an ‘Austere Religious Scholar’?\"]  \n",
        "\n",
        "label_actual = [\"fake\", \"fake\",\"fake\",\"fake\",\"fake\",\"mixed\", \"fake\",\"fake\",\"mostly_false\",\"fake\",\"true\",\n",
        "               \"true\", \"true\",\"true\",\"true\",\"true\",\"true\",\"true\",\"true\",\"true\"] # rated by Snopes\n",
        "label_adjusted = [\"fake\", \"fake\",\"fake\",\"fake\",\"fake\",\"fake\", \"fake\",\"fake\",\"fake\",\"fake\",\"true\",\"true\",\n",
        "                  \"true\",\"true\",\"true\",\"true\",\"true\",\"true\",\"true\",\"true\"]  # adjusted to fake or true"
      ],
      "execution_count": 70,
      "outputs": []
    },
    {
      "cell_type": "markdown",
      "metadata": {
        "id": "6XGAZfTkJlzp",
        "colab_type": "text"
      },
      "source": [
        "Clean the news in the same way as we cleaded the training data."
      ]
    },
    {
      "cell_type": "code",
      "metadata": {
        "colab_type": "code",
        "id": "iXXjtnZ5-z5U",
        "colab": {
          "base_uri": "https://localhost:8080/",
          "height": 121
        },
        "outputId": "f2ba17a6-7c41-4806-e387-5a0a1655105c"
      },
      "source": [
        "snopes_pred=[]\n",
        "count_true_pred=0\n",
        "for pos,ttl in enumerate(snopes_data):\n",
        "  ttl= remove_pattern(ttl, patterns) # clean the title\n",
        "  encoded_snopes = tokenizer.encode_plus(\n",
        "    ttl,\n",
        "    max_length=max_len,\n",
        "    add_special_tokens=True,\n",
        "    return_token_type_ids=False,\n",
        "    pad_to_max_length=True,\n",
        "    return_attention_mask=True,\n",
        "    truncation=True,\n",
        "    return_tensors='pt',\n",
        "  )\n",
        "\n",
        "  input_ids = encoded_snopes['input_ids'].to(device)\n",
        "  attention_mask = encoded_snopes['attention_mask'].to(device)\n",
        "  output = model(input_ids, attention_mask)\n",
        "  _, prediction = torch.max(output, dim=1)\n",
        "  pred_label=class_names[prediction]  #  prediction class\n",
        "  snopes_pred.append(pred_label)\n",
        "\n",
        "  # compaire the predicted and actual class label\n",
        "  count_true_pred += (pred_label==label_adjusted[pos])\n",
        "  \n",
        "  \n",
        "print(f'Snopes news title: {snopes_data}')\n",
        "print(f'Prediction  : {snopes_pred}')\n",
        "print(f'accuracy  : {count_true_pred/len(snopes_data)}')"
      ],
      "execution_count": 108,
      "outputs": [
        {
          "output_type": "stream",
          "text": [
            "/usr/local/lib/python3.6/dist-packages/transformers/tokenization_utils_base.py:1770: FutureWarning: The `pad_to_max_length` argument is deprecated and will be removed in a future version, use `padding=True` or `padding='longest'` to pad to the longest sequence in the batch, or use `padding='max_length'` to pad to a max length. In this case, you can give a specific length with `max_length` (e.g. `max_length=45`) or leave max_length to None to pad to the maximal input size of the model (e.g. 512 for Bert).\n",
            "  FutureWarning,\n"
          ],
          "name": "stderr"
        },
        {
          "output_type": "stream",
          "text": [
            "Snopes news title: ['Is This James Earl Jones Dressed as Darth Vader', \"David Rockefeller's Sixth Heart Transplant Successful at Age 99\", \"Did Bloomington Police Discover Over 200 Penises During Raid at a Mortician's Home?\", 'Is the Trump Administration Price Gouging Puerto Rico Evacuees and Seizing Passports?', '2017 Tainted Halloween Candy Reports 11/5/2014', 'Did President Trump Say Pedophiles Will Get the Death Penalty?', 'Michelle Obama Never Placed Her Hand Over Her Heart During the National Anthem?', 'Katy Perry Reveals Penchant for Cannibalism?', \"Is a Virginia Church Ripping Out an 'Offensive' George Washington Plaque?\", 'Were Scientists Caught Tampering with Raw Data to Exaggerate Sea Level Rise?', 'Did Trump Retweet a Cartoon of a Train Hitting a CNN Reporter?', 'Did Pipe-Bombing Suspect Cesar Sayoc Attend Donald Trump Rallies?', 'Did President Trump’s Grandfather Beg the Government of Bavaria Not to Deport Him?', 'Did Gun Violence Kill More People in U.S. in 9 Weeks than U.S. Combatants Died on D-Day?', 'Did the Florida Shooter’s Instagram Profile Picture Feature a ‘MAGA’ Hat?', 'Wisconsin Department of Natural Resources Removes References to ‘Climate’ from Web Site', 'Hillary Clinton Referenced RFK Assassination as Reason to Continue 2008 Campaign', 'Did Richard Nixon Write a Letter Predicting Donald Trump’s Success in Politics?', 'Did a Twitter User Jeopardize Her NASA Internship by Insulting a Member of the National Space Council?', 'Did WaPo Headline Call IS Leader al-Baghdadi an ‘Austere Religious Scholar’?']\n",
            "Prediction  : ['fake', 'true', 'fake', 'fake', 'fake', 'fake', 'fake', 'fake', 'fake', 'fake', 'fake', 'fake', 'fake', 'fake', 'fake', 'true', 'true', 'fake', 'fake', 'fake']\n",
            "accuracy  : 0.55\n"
          ],
          "name": "stdout"
        }
      ]
    },
    {
      "cell_type": "markdown",
      "metadata": {
        "id": "heWYYiL-wKnV",
        "colab_type": "text"
      },
      "source": [
        "### Summary \n",
        "The BERT model has better accuracy than other models done by word count, tfidf and word2vec. It accuracy of test data was improved to 0.98 from accuracies obtained by other models(0.93-0.94). Though due to the capacity limit, we could not be able to predict using news text, we expect the same better performance than the corresponding models. This is left for forther reaserch.  "
      ]
    },
    {
      "cell_type": "code",
      "metadata": {
        "id": "rN3wMxyNxpkK",
        "colab_type": "code",
        "colab": {}
      },
      "source": [
        ""
      ],
      "execution_count": null,
      "outputs": []
    }
  ]
}