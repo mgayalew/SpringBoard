{
 "cells": [
  {
   "cell_type": "markdown",
   "metadata": {},
   "source": [
    "##  Predicting Fake are Real News : Data wrangling \n",
    "\n",
    "\n",
    "                                By: Muluemebet Ayalew \n",
    "                                    June, 2020"
   ]
  },
  {
   "cell_type": "code",
   "execution_count": 1,
   "metadata": {},
   "outputs": [],
   "source": [
    "# Important libraries\n",
    "import pandas as pd\n",
    "import numpy as np\n",
    "import re # to use regular expression pattern \n",
    "import datetime as dt  # to parse to datetime\n",
    "import string\n",
    "from scipy import stats\n",
    "\n",
    "#text processing and visualization\n",
    "import nltk\n",
    "from nltk.tokenize import word_tokenize, regexp_tokenize, TweetTokenizer\n",
    "from collections import Counter\n",
    "from nltk.corpus import stopwords          # to access stop words \n",
    "from nltk.stem import WordNetLemmatizer    # for lemmatization or steming\n",
    "import spacy\n",
    "from gensim.corpora.dictionary import Dictionary   # to map token , id and create corpus\n",
    "from sklearn.manifold import TSNE\n",
    "from wordcloud import WordCloud,STOPWORDS # to visualize frequeent words \n",
    "from gensim.models import Phrases  # to use for topic modeling \n",
    "from gensim.models.word2vec import LineSentence\n",
    "from gensim.corpora import Dictionary, MmCorpus\n",
    "from gensim.models.ldamulticore import LdaMulticore\n",
    "\n",
    "#for preprocessing\n",
    "from sklearn.feature_extraction.text import CountVectorizer, TfidfVectorizer  # to make word vectors \n",
    "from sklearn.model_selection import train_test_split  \n",
    "\n",
    "# for visualization\n",
    "import matplotlib.pyplot as plt\n",
    "import seaborn as sns \n",
    "%matplotlib inline"
   ]
  },
  {
   "cell_type": "markdown",
   "metadata": {},
   "source": [
    "##  Preprocessing  Outline:\n",
    " - tokenization \n",
    " - lowercasing words\n",
    " - bag of words\n",
    " - lemmatization/stemming\n",
    " - removing stop words, punctuations or unwanted tokens\n",
    " - experiment with differnt approach \n",
    "- check www.snopes.com  to see unproven and false news(webscrap and get data, predicte usig the model\n",
    "- \n",
    " \n",
    " "
   ]
  },
  {
   "cell_type": "markdown",
   "metadata": {},
   "source": [
    "## 1) Read the data"
   ]
  },
  {
   "cell_type": "code",
   "execution_count": 2,
   "metadata": {},
   "outputs": [],
   "source": [
    "true= pd.read_csv(\"True.csv\", parse_dates=[\"date\"])     # the true news data\n",
    "fake= pd.read_csv(\"Fake.csv\")     # the fake news data "
   ]
  },
  {
   "cell_type": "code",
   "execution_count": 3,
   "metadata": {},
   "outputs": [
    {
     "data": {
      "text/html": [
       "<div>\n",
       "<style scoped>\n",
       "    .dataframe tbody tr th:only-of-type {\n",
       "        vertical-align: middle;\n",
       "    }\n",
       "\n",
       "    .dataframe tbody tr th {\n",
       "        vertical-align: top;\n",
       "    }\n",
       "\n",
       "    .dataframe thead th {\n",
       "        text-align: right;\n",
       "    }\n",
       "</style>\n",
       "<table border=\"1\" class=\"dataframe\">\n",
       "  <thead>\n",
       "    <tr style=\"text-align: right;\">\n",
       "      <th></th>\n",
       "      <th>title</th>\n",
       "      <th>text</th>\n",
       "      <th>subject</th>\n",
       "      <th>date</th>\n",
       "    </tr>\n",
       "  </thead>\n",
       "  <tbody>\n",
       "    <tr>\n",
       "      <th>0</th>\n",
       "      <td>As U.S. budget fight looms, Republicans flip t...</td>\n",
       "      <td>WASHINGTON (Reuters) - The head of a conservat...</td>\n",
       "      <td>politicsNews</td>\n",
       "      <td>2017-12-31</td>\n",
       "    </tr>\n",
       "    <tr>\n",
       "      <th>1</th>\n",
       "      <td>U.S. military to accept transgender recruits o...</td>\n",
       "      <td>WASHINGTON (Reuters) - Transgender people will...</td>\n",
       "      <td>politicsNews</td>\n",
       "      <td>2017-12-29</td>\n",
       "    </tr>\n",
       "    <tr>\n",
       "      <th>2</th>\n",
       "      <td>Senior U.S. Republican senator: 'Let Mr. Muell...</td>\n",
       "      <td>WASHINGTON (Reuters) - The special counsel inv...</td>\n",
       "      <td>politicsNews</td>\n",
       "      <td>2017-12-31</td>\n",
       "    </tr>\n",
       "  </tbody>\n",
       "</table>\n",
       "</div>"
      ],
      "text/plain": [
       "                                               title  \\\n",
       "0  As U.S. budget fight looms, Republicans flip t...   \n",
       "1  U.S. military to accept transgender recruits o...   \n",
       "2  Senior U.S. Republican senator: 'Let Mr. Muell...   \n",
       "\n",
       "                                                text       subject       date  \n",
       "0  WASHINGTON (Reuters) - The head of a conservat...  politicsNews 2017-12-31  \n",
       "1  WASHINGTON (Reuters) - Transgender people will...  politicsNews 2017-12-29  \n",
       "2  WASHINGTON (Reuters) - The special counsel inv...  politicsNews 2017-12-31  "
      ]
     },
     "execution_count": 3,
     "metadata": {},
     "output_type": "execute_result"
    }
   ],
   "source": [
    "true.head(3) # the first few rows of real dataframe"
   ]
  },
  {
   "cell_type": "code",
   "execution_count": 4,
   "metadata": {},
   "outputs": [
    {
     "data": {
      "text/plain": [
       "(21417, 4)"
      ]
     },
     "execution_count": 4,
     "metadata": {},
     "output_type": "execute_result"
    }
   ],
   "source": [
    "true.shape # shape of real news before adding label"
   ]
  },
  {
   "cell_type": "code",
   "execution_count": 5,
   "metadata": {},
   "outputs": [
    {
     "data": {
      "text/html": [
       "<div>\n",
       "<style scoped>\n",
       "    .dataframe tbody tr th:only-of-type {\n",
       "        vertical-align: middle;\n",
       "    }\n",
       "\n",
       "    .dataframe tbody tr th {\n",
       "        vertical-align: top;\n",
       "    }\n",
       "\n",
       "    .dataframe thead th {\n",
       "        text-align: right;\n",
       "    }\n",
       "</style>\n",
       "<table border=\"1\" class=\"dataframe\">\n",
       "  <thead>\n",
       "    <tr style=\"text-align: right;\">\n",
       "      <th></th>\n",
       "      <th>title</th>\n",
       "      <th>text</th>\n",
       "      <th>subject</th>\n",
       "      <th>date</th>\n",
       "    </tr>\n",
       "  </thead>\n",
       "  <tbody>\n",
       "    <tr>\n",
       "      <th>0</th>\n",
       "      <td>Donald Trump Sends Out Embarrassing New Year’...</td>\n",
       "      <td>Donald Trump just couldn t wish all Americans ...</td>\n",
       "      <td>News</td>\n",
       "      <td>December 31, 2017</td>\n",
       "    </tr>\n",
       "    <tr>\n",
       "      <th>1</th>\n",
       "      <td>Drunk Bragging Trump Staffer Started Russian ...</td>\n",
       "      <td>House Intelligence Committee Chairman Devin Nu...</td>\n",
       "      <td>News</td>\n",
       "      <td>December 31, 2017</td>\n",
       "    </tr>\n",
       "    <tr>\n",
       "      <th>2</th>\n",
       "      <td>Sheriff David Clarke Becomes An Internet Joke...</td>\n",
       "      <td>On Friday, it was revealed that former Milwauk...</td>\n",
       "      <td>News</td>\n",
       "      <td>December 30, 2017</td>\n",
       "    </tr>\n",
       "    <tr>\n",
       "      <th>3</th>\n",
       "      <td>Trump Is So Obsessed He Even Has Obama’s Name...</td>\n",
       "      <td>On Christmas day, Donald Trump announced that ...</td>\n",
       "      <td>News</td>\n",
       "      <td>December 29, 2017</td>\n",
       "    </tr>\n",
       "    <tr>\n",
       "      <th>4</th>\n",
       "      <td>Pope Francis Just Called Out Donald Trump Dur...</td>\n",
       "      <td>Pope Francis used his annual Christmas Day mes...</td>\n",
       "      <td>News</td>\n",
       "      <td>December 25, 2017</td>\n",
       "    </tr>\n",
       "  </tbody>\n",
       "</table>\n",
       "</div>"
      ],
      "text/plain": [
       "                                               title  \\\n",
       "0   Donald Trump Sends Out Embarrassing New Year’...   \n",
       "1   Drunk Bragging Trump Staffer Started Russian ...   \n",
       "2   Sheriff David Clarke Becomes An Internet Joke...   \n",
       "3   Trump Is So Obsessed He Even Has Obama’s Name...   \n",
       "4   Pope Francis Just Called Out Donald Trump Dur...   \n",
       "\n",
       "                                                text subject  \\\n",
       "0  Donald Trump just couldn t wish all Americans ...    News   \n",
       "1  House Intelligence Committee Chairman Devin Nu...    News   \n",
       "2  On Friday, it was revealed that former Milwauk...    News   \n",
       "3  On Christmas day, Donald Trump announced that ...    News   \n",
       "4  Pope Francis used his annual Christmas Day mes...    News   \n",
       "\n",
       "                date  \n",
       "0  December 31, 2017  \n",
       "1  December 31, 2017  \n",
       "2  December 30, 2017  \n",
       "3  December 29, 2017  \n",
       "4  December 25, 2017  "
      ]
     },
     "execution_count": 5,
     "metadata": {},
     "output_type": "execute_result"
    }
   ],
   "source": [
    "fake.head() # the first few rows of fake dataframe"
   ]
  },
  {
   "cell_type": "code",
   "execution_count": 6,
   "metadata": {},
   "outputs": [
    {
     "data": {
      "text/plain": [
       "(23481, 4)"
      ]
     },
     "execution_count": 6,
     "metadata": {},
     "output_type": "execute_result"
    }
   ],
   "source": [
    "fake.shape  # shape of fake news before adding label"
   ]
  },
  {
   "cell_type": "markdown",
   "metadata": {},
   "source": [
    "### 1.1) Add labels(fake/true) to the  dataframs"
   ]
  },
  {
   "cell_type": "code",
   "execution_count": 7,
   "metadata": {},
   "outputs": [],
   "source": [
    "# create a new column called is_fake and label as 0 for true news \n",
    "true[\"label\"]=\"true\""
   ]
  },
  {
   "cell_type": "code",
   "execution_count": 8,
   "metadata": {},
   "outputs": [],
   "source": [
    "# create a new column called is_fake and label as 1 for fake news \n",
    "fake[\"label\"]= \"fake\""
   ]
  },
  {
   "cell_type": "code",
   "execution_count": 9,
   "metadata": {},
   "outputs": [],
   "source": [
    "# parse the date column into datetime. \n",
    "#Since it has two datetime format, we need two formats to parse.  \n",
    "def parsing_datetime(string):\n",
    "    for f in (\"%B %d, %Y\", '%d-%b-%y', \"%b %d, %Y\"): # format  19-Feb-18\n",
    "        try:\n",
    "            return dt.datetime.strptime(string, f)\n",
    "        except ValueError:\n",
    "            pass\n",
    "        \n",
    "# parse the date column of fake dataframe into datetime\n",
    "fake.date= fake.date.apply(lambda x: parsing_datetime(x))"
   ]
  },
  {
   "cell_type": "code",
   "execution_count": 10,
   "metadata": {},
   "outputs": [
    {
     "data": {
      "text/html": [
       "<div>\n",
       "<style scoped>\n",
       "    .dataframe tbody tr th:only-of-type {\n",
       "        vertical-align: middle;\n",
       "    }\n",
       "\n",
       "    .dataframe tbody tr th {\n",
       "        vertical-align: top;\n",
       "    }\n",
       "\n",
       "    .dataframe thead th {\n",
       "        text-align: right;\n",
       "    }\n",
       "</style>\n",
       "<table border=\"1\" class=\"dataframe\">\n",
       "  <thead>\n",
       "    <tr style=\"text-align: right;\">\n",
       "      <th></th>\n",
       "      <th>title</th>\n",
       "      <th>text</th>\n",
       "      <th>subject</th>\n",
       "      <th>date</th>\n",
       "      <th>label</th>\n",
       "    </tr>\n",
       "  </thead>\n",
       "  <tbody>\n",
       "    <tr>\n",
       "      <th>0</th>\n",
       "      <td>As U.S. budget fight looms, Republicans flip t...</td>\n",
       "      <td>WASHINGTON (Reuters) - The head of a conservat...</td>\n",
       "      <td>politicsNews</td>\n",
       "      <td>2017-12-31</td>\n",
       "      <td>true</td>\n",
       "    </tr>\n",
       "    <tr>\n",
       "      <th>1</th>\n",
       "      <td>U.S. military to accept transgender recruits o...</td>\n",
       "      <td>WASHINGTON (Reuters) - Transgender people will...</td>\n",
       "      <td>politicsNews</td>\n",
       "      <td>2017-12-29</td>\n",
       "      <td>true</td>\n",
       "    </tr>\n",
       "    <tr>\n",
       "      <th>2</th>\n",
       "      <td>Senior U.S. Republican senator: 'Let Mr. Muell...</td>\n",
       "      <td>WASHINGTON (Reuters) - The special counsel inv...</td>\n",
       "      <td>politicsNews</td>\n",
       "      <td>2017-12-31</td>\n",
       "      <td>true</td>\n",
       "    </tr>\n",
       "  </tbody>\n",
       "</table>\n",
       "</div>"
      ],
      "text/plain": [
       "                                               title  \\\n",
       "0  As U.S. budget fight looms, Republicans flip t...   \n",
       "1  U.S. military to accept transgender recruits o...   \n",
       "2  Senior U.S. Republican senator: 'Let Mr. Muell...   \n",
       "\n",
       "                                                text       subject       date  \\\n",
       "0  WASHINGTON (Reuters) - The head of a conservat...  politicsNews 2017-12-31   \n",
       "1  WASHINGTON (Reuters) - Transgender people will...  politicsNews 2017-12-29   \n",
       "2  WASHINGTON (Reuters) - The special counsel inv...  politicsNews 2017-12-31   \n",
       "\n",
       "  label  \n",
       "0  true  \n",
       "1  true  \n",
       "2  true  "
      ]
     },
     "execution_count": 10,
     "metadata": {},
     "output_type": "execute_result"
    }
   ],
   "source": [
    "true.head(3)"
   ]
  },
  {
   "cell_type": "code",
   "execution_count": 11,
   "metadata": {},
   "outputs": [
    {
     "data": {
      "text/html": [
       "<div>\n",
       "<style scoped>\n",
       "    .dataframe tbody tr th:only-of-type {\n",
       "        vertical-align: middle;\n",
       "    }\n",
       "\n",
       "    .dataframe tbody tr th {\n",
       "        vertical-align: top;\n",
       "    }\n",
       "\n",
       "    .dataframe thead th {\n",
       "        text-align: right;\n",
       "    }\n",
       "</style>\n",
       "<table border=\"1\" class=\"dataframe\">\n",
       "  <thead>\n",
       "    <tr style=\"text-align: right;\">\n",
       "      <th></th>\n",
       "      <th>title</th>\n",
       "      <th>text</th>\n",
       "      <th>subject</th>\n",
       "      <th>date</th>\n",
       "      <th>label</th>\n",
       "    </tr>\n",
       "  </thead>\n",
       "  <tbody>\n",
       "    <tr>\n",
       "      <th>0</th>\n",
       "      <td>Donald Trump Sends Out Embarrassing New Year’...</td>\n",
       "      <td>Donald Trump just couldn t wish all Americans ...</td>\n",
       "      <td>News</td>\n",
       "      <td>2017-12-31</td>\n",
       "      <td>fake</td>\n",
       "    </tr>\n",
       "    <tr>\n",
       "      <th>1</th>\n",
       "      <td>Drunk Bragging Trump Staffer Started Russian ...</td>\n",
       "      <td>House Intelligence Committee Chairman Devin Nu...</td>\n",
       "      <td>News</td>\n",
       "      <td>2017-12-31</td>\n",
       "      <td>fake</td>\n",
       "    </tr>\n",
       "    <tr>\n",
       "      <th>2</th>\n",
       "      <td>Sheriff David Clarke Becomes An Internet Joke...</td>\n",
       "      <td>On Friday, it was revealed that former Milwauk...</td>\n",
       "      <td>News</td>\n",
       "      <td>2017-12-30</td>\n",
       "      <td>fake</td>\n",
       "    </tr>\n",
       "  </tbody>\n",
       "</table>\n",
       "</div>"
      ],
      "text/plain": [
       "                                               title  \\\n",
       "0   Donald Trump Sends Out Embarrassing New Year’...   \n",
       "1   Drunk Bragging Trump Staffer Started Russian ...   \n",
       "2   Sheriff David Clarke Becomes An Internet Joke...   \n",
       "\n",
       "                                                text subject       date label  \n",
       "0  Donald Trump just couldn t wish all Americans ...    News 2017-12-31  fake  \n",
       "1  House Intelligence Committee Chairman Devin Nu...    News 2017-12-31  fake  \n",
       "2  On Friday, it was revealed that former Milwauk...    News 2017-12-30  fake  "
      ]
     },
     "execution_count": 11,
     "metadata": {},
     "output_type": "execute_result"
    }
   ],
   "source": [
    "fake.head(3)"
   ]
  },
  {
   "cell_type": "markdown",
   "metadata": {},
   "source": [
    "### 1.2)  Merge the real and fake dataframe"
   ]
  },
  {
   "cell_type": "code",
   "execution_count": 12,
   "metadata": {},
   "outputs": [],
   "source": [
    "# Merge the fake and read dataframe\n",
    "news= pd.concat([true,fake], axis=0)"
   ]
  },
  {
   "cell_type": "code",
   "execution_count": 13,
   "metadata": {},
   "outputs": [
    {
     "data": {
      "text/html": [
       "<div>\n",
       "<style scoped>\n",
       "    .dataframe tbody tr th:only-of-type {\n",
       "        vertical-align: middle;\n",
       "    }\n",
       "\n",
       "    .dataframe tbody tr th {\n",
       "        vertical-align: top;\n",
       "    }\n",
       "\n",
       "    .dataframe thead th {\n",
       "        text-align: right;\n",
       "    }\n",
       "</style>\n",
       "<table border=\"1\" class=\"dataframe\">\n",
       "  <thead>\n",
       "    <tr style=\"text-align: right;\">\n",
       "      <th></th>\n",
       "      <th>title</th>\n",
       "      <th>text</th>\n",
       "      <th>subject</th>\n",
       "      <th>date</th>\n",
       "      <th>label</th>\n",
       "    </tr>\n",
       "  </thead>\n",
       "  <tbody>\n",
       "    <tr>\n",
       "      <th>9901</th>\n",
       "      <td>WATCH: TUCKER CARLSON DESTROYS Leftist Profess...</td>\n",
       "      <td>This is just one of literally thousands of lib...</td>\n",
       "      <td>politics</td>\n",
       "      <td>2017-09-15</td>\n",
       "      <td>fake</td>\n",
       "    </tr>\n",
       "    <tr>\n",
       "      <th>6080</th>\n",
       "      <td>Ryan says Trump to address joint session of Co...</td>\n",
       "      <td>WASHINGTON (Reuters) -  U.S. House of Represen...</td>\n",
       "      <td>politicsNews</td>\n",
       "      <td>2017-01-24</td>\n",
       "      <td>true</td>\n",
       "    </tr>\n",
       "    <tr>\n",
       "      <th>18657</th>\n",
       "      <td>Trump to visit Asia in November, North Korea i...</td>\n",
       "      <td>WASHINGTON (Reuters) - Donald Trump will trave...</td>\n",
       "      <td>worldnews</td>\n",
       "      <td>2017-09-29</td>\n",
       "      <td>true</td>\n",
       "    </tr>\n",
       "    <tr>\n",
       "      <th>17427</th>\n",
       "      <td>PRO ABORTION PAC, Emily’s List Doing Its Part ...</td>\n",
       "      <td>Of course Emily s List is going to support Hil...</td>\n",
       "      <td>Government News</td>\n",
       "      <td>2015-04-13</td>\n",
       "      <td>fake</td>\n",
       "    </tr>\n",
       "    <tr>\n",
       "      <th>6597</th>\n",
       "      <td>Lawmakers Condemn ‘Dangerous Abuse Of Subpoen...</td>\n",
       "      <td>Only April 28, nearly 100 lawmakers sent a let...</td>\n",
       "      <td>News</td>\n",
       "      <td>2016-05-01</td>\n",
       "      <td>fake</td>\n",
       "    </tr>\n",
       "  </tbody>\n",
       "</table>\n",
       "</div>"
      ],
      "text/plain": [
       "                                                   title  \\\n",
       "9901   WATCH: TUCKER CARLSON DESTROYS Leftist Profess...   \n",
       "6080   Ryan says Trump to address joint session of Co...   \n",
       "18657  Trump to visit Asia in November, North Korea i...   \n",
       "17427  PRO ABORTION PAC, Emily’s List Doing Its Part ...   \n",
       "6597    Lawmakers Condemn ‘Dangerous Abuse Of Subpoen...   \n",
       "\n",
       "                                                    text          subject  \\\n",
       "9901   This is just one of literally thousands of lib...         politics   \n",
       "6080   WASHINGTON (Reuters) -  U.S. House of Represen...     politicsNews   \n",
       "18657  WASHINGTON (Reuters) - Donald Trump will trave...        worldnews   \n",
       "17427  Of course Emily s List is going to support Hil...  Government News   \n",
       "6597   Only April 28, nearly 100 lawmakers sent a let...             News   \n",
       "\n",
       "            date label  \n",
       "9901  2017-09-15  fake  \n",
       "6080  2017-01-24  true  \n",
       "18657 2017-09-29  true  \n",
       "17427 2015-04-13  fake  \n",
       "6597  2016-05-01  fake  "
      ]
     },
     "execution_count": 13,
     "metadata": {},
     "output_type": "execute_result"
    }
   ],
   "source": [
    "news.sample(5).head()"
   ]
  },
  {
   "cell_type": "code",
   "execution_count": 14,
   "metadata": {},
   "outputs": [
    {
     "data": {
      "image/png": "[encoded data removed]",
      "text/plain": [
       "<Figure size 432x288 with 1 Axes>"
      ]
     },
     "metadata": {
      "needs_background": "light"
     },
     "output_type": "display_data"
    }
   ],
   "source": [
    "# bar plot the number of fake and real news\n",
    "_=news.label.value_counts().plot(kind=\"bar\", title=\"Frequency of Fake and Real News\")\n",
    "_=plt.ylabel(\"Number of News\")\n"
   ]
  },
  {
   "cell_type": "markdown",
   "metadata": {},
   "source": [
    "## 2)Explore the data  \n",
    "Let us explore the two dataframe separately "
   ]
  },
  {
   "cell_type": "markdown",
   "metadata": {},
   "source": [
    "### Exploring real news data "
   ]
  },
  {
   "cell_type": "code",
   "execution_count": 20,
   "metadata": {},
   "outputs": [
    {
     "name": "stdout",
     "output_type": "stream",
     "text": [
      "<class 'pandas.core.frame.DataFrame'>\n",
      "RangeIndex: 21417 entries, 0 to 21416\n",
      "Data columns (total 5 columns):\n",
      " #   Column   Non-Null Count  Dtype         \n",
      "---  ------   --------------  -----         \n",
      " 0   title    21417 non-null  object        \n",
      " 1   text     21417 non-null  object        \n",
      " 2   subject  21417 non-null  object        \n",
      " 3   date     21417 non-null  datetime64[ns]\n",
      " 4   label    21417 non-null  object        \n",
      "dtypes: datetime64[ns](1), object(4)\n",
      "memory usage: 836.7+ KB\n"
     ]
    }
   ],
   "source": [
    "true.info() "
   ]
  },
  {
   "cell_type": "code",
   "execution_count": 21,
   "metadata": {},
   "outputs": [
    {
     "data": {
      "text/plain": [
       "(21417, 5)"
      ]
     },
     "execution_count": 21,
     "metadata": {},
     "output_type": "execute_result"
    }
   ],
   "source": [
    "true.shape #the size of the real dataframe"
   ]
  },
  {
   "cell_type": "code",
   "execution_count": 22,
   "metadata": {},
   "outputs": [],
   "source": [
    "true.iloc[10,1]; # sample text "
   ]
  },
  {
   "cell_type": "code",
   "execution_count": 18,
   "metadata": {},
   "outputs": [
    {
     "data": {
      "text/plain": [
       "array(['politicsNews', 'worldnews'], dtype=object)"
      ]
     },
     "execution_count": 18,
     "metadata": {},
     "output_type": "execute_result"
    }
   ],
   "source": [
    "true.subject.unique() # unique subjects in the real news "
   ]
  },
  {
   "cell_type": "code",
   "execution_count": 19,
   "metadata": {},
   "outputs": [
    {
     "data": {
      "text/html": [
       "<div>\n",
       "<style scoped>\n",
       "    .dataframe tbody tr th:only-of-type {\n",
       "        vertical-align: middle;\n",
       "    }\n",
       "\n",
       "    .dataframe tbody tr th {\n",
       "        vertical-align: top;\n",
       "    }\n",
       "\n",
       "    .dataframe thead th {\n",
       "        text-align: right;\n",
       "    }\n",
       "</style>\n",
       "<table border=\"1\" class=\"dataframe\">\n",
       "  <thead>\n",
       "    <tr style=\"text-align: right;\">\n",
       "      <th></th>\n",
       "      <th>title</th>\n",
       "      <th>text</th>\n",
       "      <th>subject</th>\n",
       "      <th>date</th>\n",
       "      <th>label</th>\n",
       "    </tr>\n",
       "  </thead>\n",
       "  <tbody>\n",
       "    <tr>\n",
       "      <th>8970</th>\n",
       "      <td>Graphic: Supreme Court roundup</td>\n",
       "      <td></td>\n",
       "      <td>politicsNews</td>\n",
       "      <td>2016-06-16</td>\n",
       "      <td>true</td>\n",
       "    </tr>\n",
       "  </tbody>\n",
       "</table>\n",
       "</div>"
      ],
      "text/plain": [
       "                               title text       subject       date label\n",
       "8970  Graphic: Supreme Court roundup       politicsNews 2016-06-16  true"
      ]
     },
     "execution_count": 19,
     "metadata": {},
     "output_type": "execute_result"
    }
   ],
   "source": [
    "true[true.text==\" \"] # one real news without text"
   ]
  },
  {
   "cell_type": "markdown",
   "metadata": {},
   "source": [
    "### Explore fake data"
   ]
  },
  {
   "cell_type": "code",
   "execution_count": 23,
   "metadata": {},
   "outputs": [
    {
     "name": "stdout",
     "output_type": "stream",
     "text": [
      "<class 'pandas.core.frame.DataFrame'>\n",
      "RangeIndex: 23481 entries, 0 to 23480\n",
      "Data columns (total 5 columns):\n",
      " #   Column   Non-Null Count  Dtype         \n",
      "---  ------   --------------  -----         \n",
      " 0   title    23481 non-null  object        \n",
      " 1   text     23481 non-null  object        \n",
      " 2   subject  23481 non-null  object        \n",
      " 3   date     23471 non-null  datetime64[ns]\n",
      " 4   label    23481 non-null  object        \n",
      "dtypes: datetime64[ns](1), object(4)\n",
      "memory usage: 917.4+ KB\n"
     ]
    }
   ],
   "source": [
    "fake.info() # see the insormation after creating outcome variable(is_fake) and parsing date"
   ]
  },
  {
   "cell_type": "code",
   "execution_count": 24,
   "metadata": {},
   "outputs": [
    {
     "data": {
      "text/plain": [
       "(23481, 5)"
      ]
     },
     "execution_count": 24,
     "metadata": {},
     "output_type": "execute_result"
    }
   ],
   "source": [
    "fake.shape  # the size of the fake dataframe"
   ]
  },
  {
   "cell_type": "code",
   "execution_count": 25,
   "metadata": {},
   "outputs": [
    {
     "data": {
      "text/html": [
       "<div>\n",
       "<style scoped>\n",
       "    .dataframe tbody tr th:only-of-type {\n",
       "        vertical-align: middle;\n",
       "    }\n",
       "\n",
       "    .dataframe tbody tr th {\n",
       "        vertical-align: top;\n",
       "    }\n",
       "\n",
       "    .dataframe thead th {\n",
       "        text-align: right;\n",
       "    }\n",
       "</style>\n",
       "<table border=\"1\" class=\"dataframe\">\n",
       "  <thead>\n",
       "    <tr style=\"text-align: right;\">\n",
       "      <th></th>\n",
       "      <th>title</th>\n",
       "      <th>text</th>\n",
       "      <th>subject</th>\n",
       "      <th>date</th>\n",
       "      <th>label</th>\n",
       "    </tr>\n",
       "  </thead>\n",
       "  <tbody>\n",
       "    <tr>\n",
       "      <th>9358</th>\n",
       "      <td>https://100percentfedup.com/served-roy-moore-v...</td>\n",
       "      <td>https://100percentfedup.com/served-roy-moore-v...</td>\n",
       "      <td>politics</td>\n",
       "      <td>NaT</td>\n",
       "      <td>fake</td>\n",
       "    </tr>\n",
       "    <tr>\n",
       "      <th>15507</th>\n",
       "      <td>https://100percentfedup.com/video-hillary-aske...</td>\n",
       "      <td>https://100percentfedup.com/video-hillary-aske...</td>\n",
       "      <td>politics</td>\n",
       "      <td>NaT</td>\n",
       "      <td>fake</td>\n",
       "    </tr>\n",
       "    <tr>\n",
       "      <th>15508</th>\n",
       "      <td>https://100percentfedup.com/12-yr-old-black-co...</td>\n",
       "      <td>https://100percentfedup.com/12-yr-old-black-co...</td>\n",
       "      <td>politics</td>\n",
       "      <td>NaT</td>\n",
       "      <td>fake</td>\n",
       "    </tr>\n",
       "    <tr>\n",
       "      <th>15839</th>\n",
       "      <td>https://fedup.wpengine.com/wp-content/uploads/...</td>\n",
       "      <td>https://fedup.wpengine.com/wp-content/uploads/...</td>\n",
       "      <td>politics</td>\n",
       "      <td>NaT</td>\n",
       "      <td>fake</td>\n",
       "    </tr>\n",
       "    <tr>\n",
       "      <th>15840</th>\n",
       "      <td>https://fedup.wpengine.com/wp-content/uploads/...</td>\n",
       "      <td>https://fedup.wpengine.com/wp-content/uploads/...</td>\n",
       "      <td>politics</td>\n",
       "      <td>NaT</td>\n",
       "      <td>fake</td>\n",
       "    </tr>\n",
       "    <tr>\n",
       "      <th>17432</th>\n",
       "      <td>https://fedup.wpengine.com/wp-content/uploads/...</td>\n",
       "      <td>https://fedup.wpengine.com/wp-content/uploads/...</td>\n",
       "      <td>Government News</td>\n",
       "      <td>NaT</td>\n",
       "      <td>fake</td>\n",
       "    </tr>\n",
       "    <tr>\n",
       "      <th>17433</th>\n",
       "      <td>https://fedup.wpengine.com/wp-content/uploads/...</td>\n",
       "      <td>https://fedup.wpengine.com/wp-content/uploads/...</td>\n",
       "      <td>Government News</td>\n",
       "      <td>NaT</td>\n",
       "      <td>fake</td>\n",
       "    </tr>\n",
       "    <tr>\n",
       "      <th>18933</th>\n",
       "      <td>Homepage</td>\n",
       "      <td>[vc_row][vc_column width= 1/1 ][td_block_trend...</td>\n",
       "      <td>left-news</td>\n",
       "      <td>NaT</td>\n",
       "      <td>fake</td>\n",
       "    </tr>\n",
       "    <tr>\n",
       "      <th>21869</th>\n",
       "      <td>https://fedup.wpengine.com/wp-content/uploads/...</td>\n",
       "      <td>https://fedup.wpengine.com/wp-content/uploads/...</td>\n",
       "      <td>left-news</td>\n",
       "      <td>NaT</td>\n",
       "      <td>fake</td>\n",
       "    </tr>\n",
       "    <tr>\n",
       "      <th>21870</th>\n",
       "      <td>https://fedup.wpengine.com/wp-content/uploads/...</td>\n",
       "      <td>https://fedup.wpengine.com/wp-content/uploads/...</td>\n",
       "      <td>left-news</td>\n",
       "      <td>NaT</td>\n",
       "      <td>fake</td>\n",
       "    </tr>\n",
       "  </tbody>\n",
       "</table>\n",
       "</div>"
      ],
      "text/plain": [
       "                                                   title  \\\n",
       "9358   https://100percentfedup.com/served-roy-moore-v...   \n",
       "15507  https://100percentfedup.com/video-hillary-aske...   \n",
       "15508  https://100percentfedup.com/12-yr-old-black-co...   \n",
       "15839  https://fedup.wpengine.com/wp-content/uploads/...   \n",
       "15840  https://fedup.wpengine.com/wp-content/uploads/...   \n",
       "17432  https://fedup.wpengine.com/wp-content/uploads/...   \n",
       "17433  https://fedup.wpengine.com/wp-content/uploads/...   \n",
       "18933                                           Homepage   \n",
       "21869  https://fedup.wpengine.com/wp-content/uploads/...   \n",
       "21870  https://fedup.wpengine.com/wp-content/uploads/...   \n",
       "\n",
       "                                                    text          subject  \\\n",
       "9358   https://100percentfedup.com/served-roy-moore-v...         politics   \n",
       "15507  https://100percentfedup.com/video-hillary-aske...         politics   \n",
       "15508  https://100percentfedup.com/12-yr-old-black-co...         politics   \n",
       "15839  https://fedup.wpengine.com/wp-content/uploads/...         politics   \n",
       "15840  https://fedup.wpengine.com/wp-content/uploads/...         politics   \n",
       "17432  https://fedup.wpengine.com/wp-content/uploads/...  Government News   \n",
       "17433  https://fedup.wpengine.com/wp-content/uploads/...  Government News   \n",
       "18933  [vc_row][vc_column width= 1/1 ][td_block_trend...        left-news   \n",
       "21869  https://fedup.wpengine.com/wp-content/uploads/...        left-news   \n",
       "21870  https://fedup.wpengine.com/wp-content/uploads/...        left-news   \n",
       "\n",
       "      date label  \n",
       "9358   NaT  fake  \n",
       "15507  NaT  fake  \n",
       "15508  NaT  fake  \n",
       "15839  NaT  fake  \n",
       "15840  NaT  fake  \n",
       "17432  NaT  fake  \n",
       "17433  NaT  fake  \n",
       "18933  NaT  fake  \n",
       "21869  NaT  fake  \n",
       "21870  NaT  fake  "
      ]
     },
     "execution_count": 25,
     "metadata": {},
     "output_type": "execute_result"
    }
   ],
   "source": [
    "fake[fake.date.isnull()] # fake news with invalide date "
   ]
  },
  {
   "cell_type": "code",
   "execution_count": 26,
   "metadata": {},
   "outputs": [
    {
     "data": {
      "text/plain": [
       "title      https://100percentfedup.com/served-roy-moore-v...\n",
       "text       https://100percentfedup.com/served-roy-moore-v...\n",
       "subject                                             politics\n",
       "date                                                     NaT\n",
       "label                                                   fake\n",
       "Name: 9358, dtype: object"
      ]
     },
     "execution_count": 26,
     "metadata": {},
     "output_type": "execute_result"
    }
   ],
   "source": [
    "fake.iloc[9358,:] # see one of the fake news with invalid data after parsing "
   ]
  },
  {
   "cell_type": "code",
   "execution_count": 27,
   "metadata": {},
   "outputs": [
    {
     "data": {
      "text/plain": [
       "(626, 5)"
      ]
     },
     "execution_count": 27,
     "metadata": {},
     "output_type": "execute_result"
    }
   ],
   "source": [
    "fake[fake.text==\" \"].shape # 626 fake news without text"
   ]
  },
  {
   "cell_type": "markdown",
   "metadata": {},
   "source": [
    "### 2.1) Explore the Subject of fake and real news  "
   ]
  },
  {
   "cell_type": "code",
   "execution_count": 28,
   "metadata": {},
   "outputs": [
    {
     "data": {
      "image/png": "[encoded data removed]",
      "text/plain": [
       "<Figure size 720x360 with 2 Axes>"
      ]
     },
     "metadata": {
      "needs_background": "light"
     },
     "output_type": "display_data"
    }
   ],
   "source": [
    "plt.figure(figsize=(10,5))\n",
    "\n",
    "plt.subplot(121)\n",
    "_=true.subject.value_counts().plot.bar()\n",
    "_=plt.ylabel(\"Frequancy\")\n",
    "_=plt.title(\"Frequancy of Real News Subjects\")\n",
    "_=plt.xlabel(\"Subject\")\n",
    "_=plt.xticks(rotation=60)\n",
    "\n",
    "plt.subplot(122)\n",
    "_=fake.subject.value_counts().plot.bar()\n",
    "_=plt.xlabel(\"Subject\")\n",
    "_=plt.ylabel(\"Frequancy\")\n",
    "_=plt.title(\"Frequancy of Fake News Subjects\")\n",
    "_=plt.xticks(rotation=60)\n",
    "\n",
    "plt.tight_layout()\n",
    "plt.show()\n"
   ]
  },
  {
   "cell_type": "markdown",
   "metadata": {},
   "source": [
    "### 2.2 Explore date \n",
    "The year span for the fake news is from 2015 to 2018 whereas the real data has news for 2016 and 2017. The monthes september october, november and december have the most number of news from the real dataset.  "
   ]
  },
  {
   "cell_type": "code",
   "execution_count": 29,
   "metadata": {},
   "outputs": [
    {
     "data": {
      "image/png": "[encoded data removed]",
      "text/plain": [
       "<Figure size 720x540 with 4 Axes>"
      ]
     },
     "metadata": {
      "needs_background": "light"
     },
     "output_type": "display_data"
    }
   ],
   "source": [
    "#Exploring Year \n",
    "\n",
    "plt.figure(figsize=(10,7.5)) # set figure size\n",
    "\n",
    "# Number Real news by year \n",
    "plt.subplot(221)\n",
    "true.date.dt.year.value_counts().plot(kind=\"bar\", title=\"Number of Real News by Year\")\n",
    "plt.xlabel(\"Year\")\n",
    "plt.ylabel(\"Frequency\")\n",
    "\n",
    "# Number Real news by month \n",
    "plt.subplot(222)\n",
    "true.date.dt.strftime(\"%b\").value_counts().plot(kind=\"bar\", title=\"Number of Real News by Month\")\n",
    "plt.xlabel(\"Month\")\n",
    "plt.ylabel(\"Frequency\")\n",
    "\n",
    "\n",
    "# Number of fake news by year \n",
    "plt.subplot(223)\n",
    "fake.date.dt.year.value_counts().plot(kind=\"bar\", title=\"Number of Fake News by Year\")\n",
    "plt.xlabel(\"Year\")\n",
    "plt.ylabel(\"Frequency\")\n",
    "\n",
    "#Number of fake news by month\n",
    "plt.subplot(224)\n",
    "fake.date.dt.strftime(\"%b\").value_counts().plot(kind=\"bar\", title=\"Number of Fake News by Month\")\n",
    "plt.xlabel(\"Month\")\n",
    "plt.ylabel(\"Frequency\")\n",
    "plt.tight_layout()\n",
    "\n",
    "plt.show()"
   ]
  },
  {
   "cell_type": "markdown",
   "metadata": {},
   "source": [
    "### 2.3) Explore the news title and text \n",
    "The function extract_pattern() is used to count the number of a regular expression pattern appered in a news. For this section it is used to extract for number of emoji, url and  tags."
   ]
  },
  {
   "cell_type": "code",
   "execution_count": 30,
   "metadata": {},
   "outputs": [],
   "source": [
    "def extract_pattern(data, pattern):\n",
    "    \"\"\"retruns the number of patters appeared in each news\"\"\"\n",
    "    extract= re.findall(pattern, data)\n",
    "    return len(extract)"
   ]
  },
  {
   "cell_type": "markdown",
   "metadata": {},
   "source": [
    "### Number of  Emoji in fake and real news\n",
    "\n",
    "#### Emoji in title \n",
    "\n",
    "The title of real news have no emoji symbols at all where as there is one title with emoji for fake news. "
   ]
  },
  {
   "cell_type": "code",
   "execution_count": 31,
   "metadata": {},
   "outputs": [],
   "source": [
    "#Emoji symbols\n",
    "emoji = \"[\\U0001F300-\\U0001F5FF\\U0001F600-\\U0001F64F\\U0001F680-\\U0001F6FF\\u2600-\\u26FF\\u2700-\\u27BF\\U000024C2-\\U0001F251]+\"\n"
   ]
  },
  {
   "cell_type": "code",
   "execution_count": 32,
   "metadata": {},
   "outputs": [
    {
     "name": "stdout",
     "output_type": "stream",
     "text": [
      "[🌀-🗿😀-🙏🚀-🛿☀-⛿✀-➿Ⓜ-🉑]+\n"
     ]
    }
   ],
   "source": [
    "print(emoji)"
   ]
  },
  {
   "cell_type": "code",
   "execution_count": 33,
   "metadata": {},
   "outputs": [
    {
     "data": {
      "text/plain": [
       "'SHOCKING MUST WATCH VIDEO: Muslim Leaders Just Openly Declared War On The American Population\\ufeff'"
      ]
     },
     "execution_count": 33,
     "metadata": {},
     "output_type": "execute_result"
    }
   ],
   "source": [
    "# maximum number of emoji available in a title of fake news \n",
    "fake[\"num_emoji_ttl\"]= fake.title.apply(extract_pattern, pattern=emoji)\n",
    "\n",
    "fake.title[fake.num_emoji_ttl.idxmax()] # Extract the title with max number of emoji on it "
   ]
  },
  {
   "cell_type": "code",
   "execution_count": 34,
   "metadata": {},
   "outputs": [
    {
     "data": {
      "text/plain": [
       "0"
      ]
     },
     "execution_count": 34,
     "metadata": {},
     "output_type": "execute_result"
    }
   ],
   "source": [
    "# maximum number of emoji available in the title of real news \n",
    "true[\"num_emoji_ttl\"]= true.title.apply(extract_pattern, pattern=emoji)\n",
    "\n",
    "true.num_emoji_ttl.max() # Extract the data title with max number of emoji on it"
   ]
  },
  {
   "cell_type": "markdown",
   "metadata": {},
   "source": [
    "### Emoji in text\n",
    "There is no emoji symbol in any of the fake text whereas there are three kind of emoji symbols detected from the text of three true news. "
   ]
  },
  {
   "cell_type": "code",
   "execution_count": 35,
   "metadata": {},
   "outputs": [
    {
     "data": {
      "text/plain": [
       "0"
      ]
     },
     "execution_count": 35,
     "metadata": {},
     "output_type": "execute_result"
    }
   ],
   "source": [
    "# maximum number of emoji available in the text of fake news \n",
    "fake[\"num_emoji_txt\"]= fake.text.apply(extract_pattern, pattern=emoji)\n",
    "\n",
    "fake.num_emoji_txt.max() # Extract the data title with max number of emoji on it "
   ]
  },
  {
   "cell_type": "code",
   "execution_count": 36,
   "metadata": {},
   "outputs": [
    {
     "data": {
      "text/plain": [
       "3"
      ]
     },
     "execution_count": 36,
     "metadata": {},
     "output_type": "execute_result"
    }
   ],
   "source": [
    "# maximum number of emoji available in the text of real news \n",
    "true[\"num_emoji_txt\"]= true.text.apply(extract_pattern, pattern=emoji)\n",
    "\n",
    "true.num_emoji_txt.max() # Extract the data title with max number of emoji on it "
   ]
  },
  {
   "cell_type": "code",
   "execution_count": 37,
   "metadata": {},
   "outputs": [
    {
     "data": {
      "text/html": [
       "<div>\n",
       "<style scoped>\n",
       "    .dataframe tbody tr th:only-of-type {\n",
       "        vertical-align: middle;\n",
       "    }\n",
       "\n",
       "    .dataframe tbody tr th {\n",
       "        vertical-align: top;\n",
       "    }\n",
       "\n",
       "    .dataframe thead th {\n",
       "        text-align: right;\n",
       "    }\n",
       "</style>\n",
       "<table border=\"1\" class=\"dataframe\">\n",
       "  <thead>\n",
       "    <tr style=\"text-align: right;\">\n",
       "      <th></th>\n",
       "      <th>title</th>\n",
       "      <th>text</th>\n",
       "      <th>subject</th>\n",
       "      <th>date</th>\n",
       "      <th>label</th>\n",
       "      <th>num_emoji_ttl</th>\n",
       "      <th>num_emoji_txt</th>\n",
       "    </tr>\n",
       "  </thead>\n",
       "  <tbody>\n",
       "    <tr>\n",
       "      <th>1179</th>\n",
       "      <td>Trump on Twitter (Oct 17) - Tom Marino, Greek ...</td>\n",
       "      <td>The following statements were posted to the ve...</td>\n",
       "      <td>politicsNews</td>\n",
       "      <td>2017-10-17</td>\n",
       "      <td>true</td>\n",
       "      <td>0</td>\n",
       "      <td>1</td>\n",
       "    </tr>\n",
       "    <tr>\n",
       "      <th>2023</th>\n",
       "      <td>Factbox: Trump on Twitter (Aug 24) - Debt ceil...</td>\n",
       "      <td>The following statements were posted to the ve...</td>\n",
       "      <td>politicsNews</td>\n",
       "      <td>2017-08-24</td>\n",
       "      <td>true</td>\n",
       "      <td>0</td>\n",
       "      <td>3</td>\n",
       "    </tr>\n",
       "    <tr>\n",
       "      <th>3673</th>\n",
       "      <td>Traveling abroad, Trump struggles to escape cr...</td>\n",
       "      <td>RIYADH (Reuters) - President Donald Trump was ...</td>\n",
       "      <td>politicsNews</td>\n",
       "      <td>2017-05-20</td>\n",
       "      <td>true</td>\n",
       "      <td>0</td>\n",
       "      <td>1</td>\n",
       "    </tr>\n",
       "  </tbody>\n",
       "</table>\n",
       "</div>"
      ],
      "text/plain": [
       "                                                  title  \\\n",
       "1179  Trump on Twitter (Oct 17) - Tom Marino, Greek ...   \n",
       "2023  Factbox: Trump on Twitter (Aug 24) - Debt ceil...   \n",
       "3673  Traveling abroad, Trump struggles to escape cr...   \n",
       "\n",
       "                                                   text       subject  \\\n",
       "1179  The following statements were posted to the ve...  politicsNews   \n",
       "2023  The following statements were posted to the ve...  politicsNews   \n",
       "3673  RIYADH (Reuters) - President Donald Trump was ...  politicsNews   \n",
       "\n",
       "           date label  num_emoji_ttl  num_emoji_txt  \n",
       "1179 2017-10-17  true              0              1  \n",
       "2023 2017-08-24  true              0              3  \n",
       "3673 2017-05-20  true              0              1  "
      ]
     },
     "execution_count": 37,
     "metadata": {},
     "output_type": "execute_result"
    }
   ],
   "source": [
    "true[true.num_emoji_txt>0] # There are three news with emoji symbol in real news "
   ]
  },
  {
   "cell_type": "code",
   "execution_count": 38,
   "metadata": {},
   "outputs": [
    {
     "name": "stdout",
     "output_type": "stream",
     "text": [
      "['➡️']\n",
      "['☑️', '☑️', '☑️']\n",
      "['ツ']\n"
     ]
    }
   ],
   "source": [
    "# the type of emoji symbols  found in the text of real news\n",
    "text_emoji=true.text.apply(lambda x: re.findall(emoji,x))\n",
    "for idx in [1179, 2023, 3673]:\n",
    "    print(text_emoji.loc[idx])"
   ]
  },
  {
   "cell_type": "markdown",
   "metadata": {},
   "source": [
    "### Number of url links in fake and real news\n",
    "\n",
    "#### Number of url links in title\n",
    "There are 9 fake news title with url links but none of the title on real news have url link "
   ]
  },
  {
   "cell_type": "code",
   "execution_count": 39,
   "metadata": {},
   "outputs": [],
   "source": [
    "# url pattern\n",
    "url= re.compile(\"https?://\\S+|www\\.\\S+\")"
   ]
  },
  {
   "cell_type": "code",
   "execution_count": 40,
   "metadata": {},
   "outputs": [
    {
     "data": {
      "text/plain": [
       "9"
      ]
     },
     "execution_count": 40,
     "metadata": {},
     "output_type": "execute_result"
    }
   ],
   "source": [
    "fake[\"num_url_ttl\"]= fake.title.apply(extract_pattern, pattern=url)\n",
    "\n",
    "len(fake[fake.num_url_ttl>0]) # number of news title with url link "
   ]
  },
  {
   "cell_type": "code",
   "execution_count": 41,
   "metadata": {},
   "outputs": [],
   "source": [
    "fake[fake.num_url_ttl>0];"
   ]
  },
  {
   "cell_type": "code",
   "execution_count": 42,
   "metadata": {},
   "outputs": [
    {
     "data": {
      "text/plain": [
       "0"
      ]
     },
     "execution_count": 42,
     "metadata": {},
     "output_type": "execute_result"
    }
   ],
   "source": [
    "true[\"num_url_ttl\"]= true.title.apply(extract_pattern, pattern=url)\n",
    "\n",
    "len(true[true.num_url_ttl>0])  # number of news title with url link "
   ]
  },
  {
   "cell_type": "markdown",
   "metadata": {},
   "source": [
    "#### Number of url links in text"
   ]
  },
  {
   "cell_type": "code",
   "execution_count": 43,
   "metadata": {},
   "outputs": [
    {
     "data": {
      "text/plain": [
       "3356"
      ]
     },
     "execution_count": 43,
     "metadata": {},
     "output_type": "execute_result"
    }
   ],
   "source": [
    "fake[\"num_url_txt\"]= fake.text.apply(extract_pattern, pattern=url)\n",
    "\n",
    "len(fake[fake.num_url_txt>0]) # number of news title with url link "
   ]
  },
  {
   "cell_type": "code",
   "execution_count": 44,
   "metadata": {},
   "outputs": [
    {
     "data": {
      "text/plain": [
       "41"
      ]
     },
     "execution_count": 44,
     "metadata": {},
     "output_type": "execute_result"
    }
   ],
   "source": [
    "true[\"num_url_txt\"]= true.text.apply(extract_pattern, pattern=url)\n",
    "\n",
    "len(true[true.num_url_txt>0]) # number of news title with url link "
   ]
  },
  {
   "cell_type": "code",
   "execution_count": 45,
   "metadata": {},
   "outputs": [
    {
     "data": {
      "image/png": "[encoded data removed]",
      "text/plain": [
       "<Figure size 720x288 with 2 Axes>"
      ]
     },
     "metadata": {
      "needs_background": "light"
     },
     "output_type": "display_data"
    }
   ],
   "source": [
    "plt.figure(figsize=(10,4))\n",
    "\n",
    "# plot number of fake news url \n",
    "plt.subplot(121)\n",
    "fake.num_url_txt.plot(kind=\"hist\",bins=100, title=\"Number of Url in Fake News Text\")\n",
    "plt.yscale(\"log\")\n",
    "plt.xlabel(\"Number of Url\")\n",
    "plt.ylabel(\"Number of news\")\n",
    "\n",
    "# plot number of true news url\n",
    "plt.subplot(122)\n",
    "true.num_url_txt.plot(kind=\"hist\",bins=100, title=\"Number of Url in Real News Text\")\n",
    "plt.yscale(\"log\")\n",
    "plt.xlabel(\"Number of Url\")\n",
    "plt.ylabel(\"Number of News\")\n",
    "plt.tight_layout()\n",
    "plt.show()"
   ]
  },
  {
   "cell_type": "markdown",
   "metadata": {},
   "source": [
    "### Tag , mension and & smbols \n",
    "\n",
    "#### Tag , mension and & smbols in title "
   ]
  },
  {
   "cell_type": "code",
   "execution_count": 46,
   "metadata": {},
   "outputs": [],
   "source": [
    "#pattern for tag(#), mension(@) and & symbols\n",
    "tag_mensn= \"[#@&]+\""
   ]
  },
  {
   "cell_type": "code",
   "execution_count": 47,
   "metadata": {},
   "outputs": [
    {
     "data": {
      "text/plain": [
       "862"
      ]
     },
     "execution_count": 47,
     "metadata": {},
     "output_type": "execute_result"
    }
   ],
   "source": [
    "fake[\"num_tag_ttl\"]= fake.title.apply(extract_pattern, pattern=tag_mensn)\n",
    "\n",
    "len(fake[fake.num_tag_ttl>0]) "
   ]
  },
  {
   "cell_type": "code",
   "execution_count": 48,
   "metadata": {},
   "outputs": [
    {
     "data": {
      "text/plain": [
       "25"
      ]
     },
     "execution_count": 48,
     "metadata": {},
     "output_type": "execute_result"
    }
   ],
   "source": [
    "true[\"num_tag_ttl\"]= true.title.apply(extract_pattern, pattern=tag_mensn)\n",
    "\n",
    "len(true[true.num_tag_ttl>0]) "
   ]
  },
  {
   "cell_type": "markdown",
   "metadata": {},
   "source": [
    "#### Tag , mension and & smbols int text"
   ]
  },
  {
   "cell_type": "code",
   "execution_count": 49,
   "metadata": {},
   "outputs": [
    {
     "data": {
      "text/plain": [
       "7682"
      ]
     },
     "execution_count": 49,
     "metadata": {},
     "output_type": "execute_result"
    }
   ],
   "source": [
    "fake[\"num_tag_txt\"]= fake.text.apply(extract_pattern, pattern=tag_mensn)\n",
    "\n",
    "len(fake[fake.num_tag_txt>0]) "
   ]
  },
  {
   "cell_type": "code",
   "execution_count": 50,
   "metadata": {},
   "outputs": [
    {
     "data": {
      "text/plain": [
       "934"
      ]
     },
     "execution_count": 50,
     "metadata": {},
     "output_type": "execute_result"
    }
   ],
   "source": [
    "fake.num_tag_txt.max()"
   ]
  },
  {
   "cell_type": "code",
   "execution_count": 51,
   "metadata": {},
   "outputs": [],
   "source": [
    "fake.text[2902];"
   ]
  },
  {
   "cell_type": "code",
   "execution_count": 52,
   "metadata": {},
   "outputs": [
    {
     "data": {
      "text/plain": [
       "1171"
      ]
     },
     "execution_count": 52,
     "metadata": {},
     "output_type": "execute_result"
    }
   ],
   "source": [
    "true[\"num_tag_txt\"]= true.text.apply(extract_pattern, pattern=tag_mensn)\n",
    "\n",
    "len(true[true.num_tag_txt>0]) "
   ]
  },
  {
   "cell_type": "code",
   "execution_count": 53,
   "metadata": {},
   "outputs": [
    {
     "data": {
      "text/plain": [
       "Text(0.5, 1.0, 'Frequency of tags in real news title')"
      ]
     },
     "execution_count": 53,
     "metadata": {},
     "output_type": "execute_result"
    },
    {
     "data": {
      "image/png": "[encoded data removed]",
      "text/plain": [
       "<Figure size 432x288 with 1 Axes>"
      ]
     },
     "metadata": {
      "needs_background": "light"
     },
     "output_type": "display_data"
    }
   ],
   "source": [
    "true.num_tag_txt.plot(kind=\"hist\", bins=100)\n",
    "plt.yscale(\"log\")\n",
    "plt.title(\"Frequency of tags in real news title\")"
   ]
  },
  {
   "cell_type": "code",
   "execution_count": 54,
   "metadata": {},
   "outputs": [
    {
     "data": {
      "image/png": "[encoded data removed]",
      "text/plain": [
       "<Figure size 432x288 with 1 Axes>"
      ]
     },
     "metadata": {
      "needs_background": "light"
     },
     "output_type": "display_data"
    }
   ],
   "source": [
    "fake.num_tag_txt.plot(kind=\"hist\",bins=100, title=\"Number of tag in Fake News Text\")\n",
    "plt.yscale(\"log\")\n",
    "plt.xscale(\"log\")"
   ]
  },
  {
   "cell_type": "markdown",
   "metadata": {},
   "source": [
    "####  html pattern"
   ]
  },
  {
   "cell_type": "code",
   "execution_count": 55,
   "metadata": {},
   "outputs": [],
   "source": [
    "html= r'<.*?>'"
   ]
  },
  {
   "cell_type": "code",
   "execution_count": 56,
   "metadata": {},
   "outputs": [
    {
     "name": "stdout",
     "output_type": "stream",
     "text": [
      "Number of fake news title with html tag:  0\n",
      "Number of real news title with html tag:  0\n"
     ]
    }
   ],
   "source": [
    "# html in fake  news title\n",
    "fake[\"num_html_ttl\"]= fake.title.apply(extract_pattern, pattern=html)\n",
    "print(\"Number of fake news title with html tag: \", len(fake[fake.num_html_ttl>0]))\n",
    "\n",
    "# html in real news  title\n",
    "true[\"num_html_ttl\"]= true.title.apply(extract_pattern, pattern=html)\n",
    "print(\"Number of real news title with html tag: \",len(true[true.num_html_ttl>0]))"
   ]
  },
  {
   "cell_type": "code",
   "execution_count": 57,
   "metadata": {},
   "outputs": [
    {
     "name": "stdout",
     "output_type": "stream",
     "text": [
      "Number of fake news text with html tag:  79\n",
      "Number of real news text with html tag:  8\n"
     ]
    }
   ],
   "source": [
    "# html in fake news text\n",
    "fake[\"num_html_txt\"]= fake.text.apply(extract_pattern, pattern=html)\n",
    "print(\"Number of fake news text with html tag: \", len(fake[fake.num_html_txt>0]))\n",
    "\n",
    "\n",
    "true[\"num_html_txt\"]= true.text.apply(extract_pattern, pattern=html)\n",
    "print(\"Number of real news text with html tag: \", len(true[true.num_html_txt>0])) "
   ]
  },
  {
   "cell_type": "markdown",
   "metadata": {},
   "source": [
    "#### Availablity of number"
   ]
  },
  {
   "cell_type": "code",
   "execution_count": 58,
   "metadata": {},
   "outputs": [],
   "source": [
    "num=r\"\\S*\\d+\\S*\" # similar result with re.compile('\\d+')"
   ]
  },
  {
   "cell_type": "code",
   "execution_count": 59,
   "metadata": {},
   "outputs": [
    {
     "name": "stdout",
     "output_type": "stream",
     "text": [
      "Number of fake news title with digits:  3008\n",
      "Number of real news title with digit:  1799\n"
     ]
    }
   ],
   "source": [
    "# digits in fake  news title\n",
    "fake[\"num_dig_ttl\"]= fake.title.apply(extract_pattern, pattern=num)\n",
    "print(\"Number of fake news title with digits: \", len(fake[fake.num_dig_ttl>0]))\n",
    "\n",
    "# digits in real news  title\n",
    "true[\"num_dig_ttl\"]= true.title.apply(extract_pattern, pattern=num)\n",
    "print(\"Number of real news title with digit: \",len(true[true.num_dig_ttl>0]))"
   ]
  },
  {
   "cell_type": "code",
   "execution_count": 60,
   "metadata": {},
   "outputs": [
    {
     "name": "stdout",
     "output_type": "stream",
     "text": [
      "Number of fake news text with digits:  18945\n",
      "Number of real news text with digit:  17309\n"
     ]
    }
   ],
   "source": [
    "# digits in fake  news text\n",
    "fake[\"num_dig_ttl\"]= fake.text.apply(extract_pattern, pattern=num)\n",
    "print(\"Number of fake news text with digits: \", len(fake[fake.num_dig_ttl>0]))\n",
    "\n",
    "# digits in real news  text\n",
    "true[\"num_dig_ttl\"]= true.text.apply(extract_pattern, pattern=num)\n",
    "print(\"Number of real news text with digit: \",len(true[true.num_dig_ttl>0]))"
   ]
  },
  {
   "cell_type": "markdown",
   "metadata": {},
   "source": [
    "## 3)  Data Cleaning preprocessing:\n",
    "removing html tags, removing, url links, removing, specal characters, remove punctuations, emoji, punctuation, stopwords \n",
    "\n",
    "CountVectorizer handles stop words and special characters and punctuation.\n",
    "\n",
    "    - apply the remove_pattern function and use countvector(it can handle special character punctuation and stop words) to get features and make prediction \n",
    "    - also check to limit mx and min df for word count to be consideded as feature\n",
    "    -compair the result.\n",
    "    \n",
    "  title 15392, fake text 83,709, after cleaning with some paterns 78582, 73653 after removing words contining numbers,\n",
    "#the two data set together, the text has 122,002 features withoucleaning \n",
    "    "
   ]
  },
  {
   "cell_type": "markdown",
   "metadata": {},
   "source": [
    "###  Function to remove patterns(emoji, url, html , special characteres , digits...)"
   ]
  },
  {
   "cell_type": "code",
   "execution_count": 61,
   "metadata": {},
   "outputs": [],
   "source": [
    "#patterns= [emoji, url, html]\n",
    "def remove_pattern(text, patterns):\n",
    "    \"\"\"The function remove_pattern returns the new string with a set of patterns removed.\n",
    "       Parameters:\n",
    "       ------------\n",
    "       data: the text from which the pattern will be removed\n",
    "       patterns: is the set of patterns(iterable) we are intereted to remove from the text\n",
    "       \"\"\"\n",
    "           \n",
    "    for pattern in patterns:\n",
    "        new= re.sub(pattern, \"\", text)\n",
    "        text= new \n",
    "    return new"
   ]
  },
  {
   "cell_type": "code",
   "execution_count": 62,
   "metadata": {},
   "outputs": [],
   "source": [
    "# patterns to be extracted and to be removed from the data \n",
    "emoji = \"[\\U0001F300-\\U0001F5FF\\U0001F600-\\U0001F64F\\U0001F680-\\U0001F6FF\\u2600-\\u26FF\\u2700-\\u27BF\\U000024C2-\\U0001F251]+\"\n",
    "url= re.compile(\"https?://\\S+|www\\.\\S+\")\n",
    "\n",
    "html= r'<.*?>' # pattern for html tag\n",
    "\n",
    "num_with_text= r\"\\S*\\d+\\S*\" # pattern for digit \n",
    "\n",
    "# collect the patterns \n",
    "patterns=[emoji, url, html, num_with_text]"
   ]
  },
  {
   "cell_type": "markdown",
   "metadata": {},
   "source": [
    "### 3.2)  Clean fake and real news dataframe separately\n",
    "\n",
    "The function remove_pattern() is defined above is used to remove special characters specified by the parameter pattern."
   ]
  },
  {
   "cell_type": "code",
   "execution_count": 63,
   "metadata": {},
   "outputs": [],
   "source": [
    "#clean the title of fake and real news using regular expression patterns\n",
    "fake_ttl_clean= fake.title.apply(remove_pattern, patterns= patterns)\n",
    "true_ttl_clean= true.title.apply(remove_pattern, patterns= patterns)"
   ]
  },
  {
   "cell_type": "code",
   "execution_count": 64,
   "metadata": {},
   "outputs": [],
   "source": [
    "# clean the text of fake and real news using regular expression patterns\n",
    "fake_txt_clean= fake.text.apply(remove_pattern, patterns= patterns)\n",
    "true_txt_clean= true.text.apply(remove_pattern, patterns= patterns)\n"
   ]
  },
  {
   "cell_type": "markdown",
   "metadata": {},
   "source": [
    "### 3.3) Clean merged data"
   ]
  },
  {
   "cell_type": "code",
   "execution_count": 68,
   "metadata": {},
   "outputs": [],
   "source": [
    "# Clean the title of merged data using regular expression patterns\n",
    "news_clean_title = news.title.apply(remove_pattern, patterns= patterns)\n",
    "news_clean_text= news.text.apply(remove_pattern, patterns= patterns)"
   ]
  },
  {
   "cell_type": "markdown",
   "metadata": {},
   "source": [
    "## 4) Feature vectore: create count vector for the cleaned data"
   ]
  },
  {
   "cell_type": "code",
   "execution_count": 69,
   "metadata": {},
   "outputs": [],
   "source": [
    "def count_vect(data, min_df):\n",
    "    \"\"\"returns the CountVectorizer object and the fitted count vector of the data with \n",
    "    the given number of minimum document frequancy.\n",
    "    parameter:\n",
    "    -------\n",
    "        data : collection of text document\n",
    "        min_df : the minimum document frequency When building the vocabulary \"\"\"\n",
    "    \n",
    "    cv= CountVectorizer(stop_words=\"english\", min_df=min_df)\n",
    "    trans= cv.fit_transform(data)\n",
    "    return cv, trans"
   ]
  },
  {
   "cell_type": "code",
   "execution_count": 70,
   "metadata": {},
   "outputs": [],
   "source": [
    "# count vector for title of the news \n",
    "fake_wc_ttl, fake_cv_title= count_vect(fake_ttl_clean,1)\n",
    "true_wc_ttl, true_cv_title= count_vect(true_ttl_clean, 1)"
   ]
  },
  {
   "cell_type": "code",
   "execution_count": 71,
   "metadata": {},
   "outputs": [],
   "source": [
    "# feature names for fake and real news title\n",
    "fake_feature_ttl= fake_wc_ttl.get_feature_names()\n",
    "true_feature_ttl= true_wc_ttl.get_feature_names()"
   ]
  },
  {
   "cell_type": "code",
   "execution_count": 72,
   "metadata": {},
   "outputs": [
    {
     "data": {
      "text/plain": [
       "matrix([[ 2,  3,  9, ..., 17,  4,  2]], dtype=int64)"
      ]
     },
     "execution_count": 72,
     "metadata": {},
     "output_type": "execute_result"
    }
   ],
   "source": [
    "fake_cv_title.sum(0) #value"
   ]
  },
  {
   "cell_type": "code",
   "execution_count": 73,
   "metadata": {},
   "outputs": [],
   "source": [
    "df=pd.DataFrame(fake_cv_title.toarray(), columns= fake_feature_ttl)"
   ]
  },
  {
   "cell_type": "code",
   "execution_count": 74,
   "metadata": {},
   "outputs": [
    {
     "data": {
      "text/html": [
       "<div>\n",
       "<style scoped>\n",
       "    .dataframe tbody tr th:only-of-type {\n",
       "        vertical-align: middle;\n",
       "    }\n",
       "\n",
       "    .dataframe tbody tr th {\n",
       "        vertical-align: top;\n",
       "    }\n",
       "\n",
       "    .dataframe thead th {\n",
       "        text-align: right;\n",
       "    }\n",
       "</style>\n",
       "<table border=\"1\" class=\"dataframe\">\n",
       "  <thead>\n",
       "    <tr style=\"text-align: right;\">\n",
       "      <th></th>\n",
       "      <th>aaron</th>\n",
       "      <th>aarp</th>\n",
       "      <th>abandon</th>\n",
       "      <th>abandoned</th>\n",
       "      <th>abandoning</th>\n",
       "      <th>abandons</th>\n",
       "      <th>abbott</th>\n",
       "      <th>abc</th>\n",
       "      <th>abdication</th>\n",
       "      <th>abdo</th>\n",
       "      <th>...</th>\n",
       "      <th>zombiehillary</th>\n",
       "      <th>zone</th>\n",
       "      <th>zones</th>\n",
       "      <th>zoning</th>\n",
       "      <th>zoo</th>\n",
       "      <th>zoolander</th>\n",
       "      <th>zucker</th>\n",
       "      <th>zuckerberg</th>\n",
       "      <th>état</th>\n",
       "      <th>žižek</th>\n",
       "    </tr>\n",
       "  </thead>\n",
       "  <tbody>\n",
       "    <tr>\n",
       "      <th>0</th>\n",
       "      <td>0</td>\n",
       "      <td>0</td>\n",
       "      <td>0</td>\n",
       "      <td>0</td>\n",
       "      <td>0</td>\n",
       "      <td>0</td>\n",
       "      <td>0</td>\n",
       "      <td>0</td>\n",
       "      <td>0</td>\n",
       "      <td>0</td>\n",
       "      <td>...</td>\n",
       "      <td>0</td>\n",
       "      <td>0</td>\n",
       "      <td>0</td>\n",
       "      <td>0</td>\n",
       "      <td>0</td>\n",
       "      <td>0</td>\n",
       "      <td>0</td>\n",
       "      <td>0</td>\n",
       "      <td>0</td>\n",
       "      <td>0</td>\n",
       "    </tr>\n",
       "    <tr>\n",
       "      <th>1</th>\n",
       "      <td>0</td>\n",
       "      <td>0</td>\n",
       "      <td>0</td>\n",
       "      <td>0</td>\n",
       "      <td>0</td>\n",
       "      <td>0</td>\n",
       "      <td>0</td>\n",
       "      <td>0</td>\n",
       "      <td>0</td>\n",
       "      <td>0</td>\n",
       "      <td>...</td>\n",
       "      <td>0</td>\n",
       "      <td>0</td>\n",
       "      <td>0</td>\n",
       "      <td>0</td>\n",
       "      <td>0</td>\n",
       "      <td>0</td>\n",
       "      <td>0</td>\n",
       "      <td>0</td>\n",
       "      <td>0</td>\n",
       "      <td>0</td>\n",
       "    </tr>\n",
       "  </tbody>\n",
       "</table>\n",
       "<p>2 rows × 14773 columns</p>\n",
       "</div>"
      ],
      "text/plain": [
       "   aaron  aarp  abandon  abandoned  abandoning  abandons  abbott  abc  \\\n",
       "0      0     0        0          0           0         0       0    0   \n",
       "1      0     0        0          0           0         0       0    0   \n",
       "\n",
       "   abdication  abdo  ...  zombiehillary  zone  zones  zoning  zoo  zoolander  \\\n",
       "0           0     0  ...              0     0      0       0    0          0   \n",
       "1           0     0  ...              0     0      0       0    0          0   \n",
       "\n",
       "   zucker  zuckerberg  état  žižek  \n",
       "0       0           0     0      0  \n",
       "1       0           0     0      0  \n",
       "\n",
       "[2 rows x 14773 columns]"
      ]
     },
     "execution_count": 74,
     "metadata": {},
     "output_type": "execute_result"
    }
   ],
   "source": [
    "df.head(2)"
   ]
  },
  {
   "cell_type": "code",
   "execution_count": 75,
   "metadata": {},
   "outputs": [
    {
     "data": {
      "image/png": "[encoded data removed]",
      "text/plain": [
       "<Figure size 432x288 with 1 Axes>"
      ]
     },
     "metadata": {
      "needs_background": "light"
     },
     "output_type": "display_data"
    }
   ],
   "source": [
    "df.sum(0).sort_values(ascending=False)[:10].plot(kind='bar') # frequency of words \n",
    "_=plt.title(\"Most frequent words in fake news title\")"
   ]
  },
  {
   "cell_type": "markdown",
   "metadata": {},
   "source": [
    "## 5) Story about the distribution of number of words appeared in a news and frequancy of words in the datasets\n",
    "\n",
    "- Note: sum(0) method on count vector object gives the numer of times a word appeared in the whole news article  not just the number of news articles containing a word. A word may appered more then one times in a news and sum up. "
   ]
  },
  {
   "cell_type": "code",
   "execution_count": 107,
   "metadata": {},
   "outputs": [],
   "source": [
    "def cum_dist(count_vector, axis): \n",
    "    \"\"\"Displays the emprical cumulative distribution function given the count vector of the text data and \n",
    "    the axis on which it is aggregated   \"\"\"\n",
    "    \n",
    " \n",
    "    if axis==1: # sum column wise to get the number of words in a news \n",
    "        num_words=count_vector.sum(1) # sum number of words in a news \n",
    "        x=np.sort(num_words.transpose()) # sort in ascending order\n",
    "        length=num_words.shape[0] # Number of news \n",
    "        xt=x.transpose()\n",
    "        y= np.arange(1,length+1)/length \n",
    "        xlabel=\"Number of words \"\n",
    "        #title= \"Cumulative distribution of news frequency \"\n",
    "               \n",
    "    elif axis==0 :    #sum row wise to get the number of documents a word appeared            \n",
    "        \n",
    "        freq= count_vector.sum(0) #number of times a word apeared in the data \n",
    "        length= freq.shape[1]  # number of unique words \n",
    "        x= np.sort(freq)\n",
    "        xt=x.transpose()\n",
    "        y= np.arange(1,length+1)/length\n",
    "        xlabel=\"Frequency of words\"\n",
    "       # title= \"Cumulative distribution of word frequency \"\n",
    "    else:\n",
    "        print(\"Invalid axis entry!\" )\n",
    "    \n",
    "    #percentil_80= np.percentile(xt,80) # 80% percentile\n",
    "    #print((percentil_80))\n",
    "    _=plt.plot(xt,y)\n",
    "    _=plt.xlabel(xlabel)\n",
    "    _=plt.ylabel(\"Emprical Cummulative Distribution Function\")\n",
    "    #_=plt.title(title)  \n",
    "    _=plt.xscale(\"log\")\n",
    " "
   ]
  },
  {
   "cell_type": "code",
   "execution_count": 93,
   "metadata": {},
   "outputs": [],
   "source": [
    "#fake_wc_ttl.vocabulary_ ;# dictionary of key= word and value is the indice"
   ]
  },
  {
   "cell_type": "code",
   "execution_count": 108,
   "metadata": {},
   "outputs": [
    {
     "data": {
      "image/png": "[encoded data removed]",
      "text/plain": [
       "<Figure size 432x288 with 1 Axes>"
      ]
     },
     "metadata": {
      "needs_background": "light"
     },
     "output_type": "display_data"
    }
   ],
   "source": [
    "# number of words in a news title \n",
    "cum_dist(fake_cv_title, axis=1)\n",
    "cum_dist(true_cv_title, axis=1)\n",
    "_=plt.title(\"Cumulative distribution of news frequency\")\n",
    "plt.legend([\"fake\", \"real\"])\n",
    "#t.hlines(0.8, linestyles=\"dashed\", xmin=1,xmax=12, color=\"black\")\n",
    "plt.plot((9,12),(0.8,0.8), \"ro\")\n",
    "plt.show()"
   ]
  },
  {
   "cell_type": "code",
   "execution_count": 104,
   "metadata": {},
   "outputs": [
    {
     "name": "stdout",
     "output_type": "stream",
     "text": [
      "13.0\n",
      "9.0\n"
     ]
    },
    {
     "data": {
      "image/png": "[encoded data removed]",
      "text/plain": [
       "<Figure size 432x288 with 1 Axes>"
      ]
     },
     "metadata": {
      "needs_background": "light"
     },
     "output_type": "display_data"
    }
   ],
   "source": [
    "#number of times a word apeared in different news titles  \n",
    "cum_dist(fake_cv_title, axis=0)\n",
    "cum_dist(true_cv_title, axis=0)\n",
    "_=plt.legend([\"fake\", \"real\"])"
   ]
  },
  {
   "cell_type": "code",
   "execution_count": 105,
   "metadata": {},
   "outputs": [],
   "source": [
    "# count vector for text of the news \n",
    "fake_wc_txt, fake_cv_text= count_vect(fake_txt_clean,1)\n",
    "true_wc_txt, true_cv_text= count_vect(true_txt_clean, 1) "
   ]
  },
  {
   "cell_type": "code",
   "execution_count": 109,
   "metadata": {},
   "outputs": [
    {
     "data": {
      "image/png": "[encoded data removed]",
      "text/plain": [
       "<Figure size 432x288 with 1 Axes>"
      ]
     },
     "metadata": {
      "needs_background": "light"
     },
     "output_type": "display_data"
    }
   ],
   "source": [
    "# number of words in a news text \n",
    "cum_dist(fake_cv_text,axis=1)\n",
    "cum_dist(true_cv_text, axis=1)\n",
    "plt.legend([\"fake\", \"real\"])\n",
    "plt.show()"
   ]
  },
  {
   "cell_type": "code",
   "execution_count": 110,
   "metadata": {},
   "outputs": [
    {
     "data": {
      "image/png": "[encoded data removed]",
      "text/plain": [
       "<Figure size 432x288 with 1 Axes>"
      ]
     },
     "metadata": {
      "needs_background": "light"
     },
     "output_type": "display_data"
    }
   ],
   "source": [
    "# number of times a word appeared in data \n",
    "cum_dist(fake_cv_text,axis=0)\n",
    "cum_dist(true_cv_text, axis=0)\n",
    "_=plt.legend([\"fake\", \"real\"])"
   ]
  },
  {
   "cell_type": "code",
   "execution_count": 111,
   "metadata": {},
   "outputs": [
    {
     "data": {
      "text/plain": [
       "(21417, 62933)"
      ]
     },
     "execution_count": 111,
     "metadata": {},
     "output_type": "execute_result"
    }
   ],
   "source": [
    "#Shape of the count vector of real news text\n",
    "true_cv_text.toarray().shape"
   ]
  },
  {
   "cell_type": "code",
   "execution_count": 112,
   "metadata": {},
   "outputs": [
    {
     "data": {
      "text/plain": [
       "(23481, 78935)"
      ]
     },
     "execution_count": 112,
     "metadata": {},
     "output_type": "execute_result"
    }
   ],
   "source": [
    "# shape  of the count vector of fake text\n",
    "fake_cv_text.toarray().shape"
   ]
  },
  {
   "cell_type": "code",
   "execution_count": 113,
   "metadata": {},
   "outputs": [],
   "source": [
    "cv_real=CountVectorizer(stop_words=\"english\")\n",
    "tt= cv_real.fit_transform(true.text)\n",
    "feature_tr=cv_real.get_feature_names()"
   ]
  },
  {
   "cell_type": "code",
   "execution_count": 114,
   "metadata": {},
   "outputs": [],
   "source": [
    "cv_fake=CountVectorizer(stop_words=\"english\")\n",
    "tt= cv_fake.fit_transform(fake.text)\n",
    "feature_fk=cv_fake.get_feature_names()"
   ]
  },
  {
   "cell_type": "markdown",
   "metadata": {},
   "source": [
    "## 4) Test statistics: Is the length of the titile determine the type of news? \n",
    "\n",
    "The length of fake news and real news title were compared after the data was cleaned. \n",
    "H0= the title of fake and real news have the same word length \n",
    "H1: Real news have shorter word length "
   ]
  },
  {
   "cell_type": "markdown",
   "metadata": {},
   "source": [
    "#### Step1: Formulate the null and alternative hypohesis :\n",
    "\n",
    "The null hypothesis: The title of fake and real news have the same word length. \n",
    "Althernative hypothesis : Real news title have shorter word length."
   ]
  },
  {
   "cell_type": "markdown",
   "metadata": {},
   "source": [
    "#### Step 2 : Set the significance level\n",
    "The significance level, 𝛼 , is set as 0.05(5%) ."
   ]
  },
  {
   "cell_type": "markdown",
   "metadata": {},
   "source": [
    "#### Step 3: Compute the mean of a concatenated title length\n",
    "To perform this hypothesis test, we need to shift the two data sets so that they will have the same mean and then use bootstrap sampling to compute the difference of means."
   ]
  },
  {
   "cell_type": "code",
   "execution_count": 115,
   "metadata": {},
   "outputs": [],
   "source": [
    "# Compute mean of combined data set: combined_mean\n",
    "news_clean_title = news.title.apply(remove_pattern, patterns= patterns)"
   ]
  },
  {
   "cell_type": "code",
   "execution_count": 116,
   "metadata": {},
   "outputs": [
    {
     "name": "stdout",
     "output_type": "stream",
     "text": [
      "8.957058220856164\n"
     ]
    }
   ],
   "source": [
    "#the mean length of title for both fake and real data are combined\n",
    "mean_len_ttl= count_vect(news_clean_title,1)[1].sum(1).mean()\n",
    "print(mean_len_ttl)"
   ]
  },
  {
   "cell_type": "markdown",
   "metadata": {},
   "source": [
    "#### Step 4: Shift the two groups data to get the same mean\n"
   ]
  },
  {
   "cell_type": "code",
   "execution_count": 117,
   "metadata": {},
   "outputs": [],
   "source": [
    "# Shift the samples\n",
    "fake_shifted = fake_cv_title.sum(1) -np.mean(fake_cv_title.sum(1))+ mean_len_ttl\n",
    "true_shifted = true_cv_title.sum(1) -np.mean(true_cv_title.sum(1))+ mean_len_ttl"
   ]
  },
  {
   "cell_type": "code",
   "execution_count": 118,
   "metadata": {
    "scrolled": true
   },
   "outputs": [
    {
     "data": {
      "image/png": "[encoded data removed]",
      "text/plain": [
       "<Figure size 432x288 with 1 Axes>"
      ]
     },
     "metadata": {
      "needs_background": "light"
     },
     "output_type": "display_data"
    }
   ],
   "source": [
    "_=plt.hist(fake_shifted,label=\"fake_news\")\n",
    "_=plt.hist(true_shifted,label=\"true_news\")\n",
    "_=plt.legend([\"fake_new\", \"true_news\"])\n",
    "_=plt.title(\"Distibution of mean shifted fake and real news title length\")"
   ]
  },
  {
   "cell_type": "markdown",
   "metadata": {},
   "source": [
    "#### Step 5: Get bootstrap replicates of shifted data sets\n",
    "Take 10,000 bootstrap replicates,bootstrap replicates are the statistics computed from resampled array(in this case mean), of the mean length of each type of news title."
   ]
  },
  {
   "cell_type": "code",
   "execution_count": 119,
   "metadata": {},
   "outputs": [],
   "source": [
    "def bs_repl(data, func, size):\n",
    "    \"\"\" boostrap replicates of the statistics defined by 'func' from bootstraped samples of size equal to 'size'\"\"\"\n",
    "    bs_replicate=np.empty(size)\n",
    "    for i in range(size):\n",
    "        bs_sample= np.random.choice(data, size=data.shape[0]) \n",
    "        bs_replicate[i]=func(bs_sample) #  the mean of bootstraped samples if the fucntion is mean\n",
    "    return bs_replicate"
   ]
  },
  {
   "cell_type": "code",
   "execution_count": 120,
   "metadata": {},
   "outputs": [],
   "source": [
    "bs_replicates_fake = bs_repl(pd.DataFrame(fake_shifted).iloc[:,0], np.mean,10000)\n",
    "bs_replicates_true = bs_repl(pd.DataFrame(true_shifted).iloc[:,0], np.mean,10000)\n",
    "\n",
    "#Compute replicates of difference of means: bs_diff_replicates\n",
    "bs_diff_replicates = bs_replicates_fake - bs_replicates_true"
   ]
  },
  {
   "cell_type": "code",
   "execution_count": 121,
   "metadata": {},
   "outputs": [
    {
     "data": {
      "image/png": "[encoded data removed]",
      "text/plain": [
       "<Figure size 432x288 with 1 Axes>"
      ]
     },
     "metadata": {
      "needs_background": "light"
     },
     "output_type": "display_data"
    }
   ],
   "source": [
    "plt.hist(bs_replicates_fake, histtype=\"step\", label=\"fake_news\")\n",
    "plt.hist(bs_replicates_true, histtype=\"step\", label=\"true_news\")\n",
    "_=plt.legend()\n",
    "_=plt.title(\"Distibution of bootstraped mean length of fake and real news title\")\n",
    "_=plt.xlabel(\"Bootstraped average number of words\")\n",
    "_=plt.ylabel(\"Number of news\")"
   ]
  },
  {
   "cell_type": "markdown",
   "metadata": {},
   "source": [
    "#### Step 6: Compute  p-value "
   ]
  },
  {
   "cell_type": "code",
   "execution_count": 122,
   "metadata": {},
   "outputs": [
    {
     "name": "stdout",
     "output_type": "stream",
     "text": [
      "Observed mean difference = 2.753675956525403\n",
      "p = 0.0\n"
     ]
    }
   ],
   "source": [
    "# observed mean diffence\n",
    "mean_diff_obs= np.mean(fake_cv_title.sum(1))-np.mean(true_cv_title.sum(1))\n",
    "print(\"Observed mean difference =\",mean_diff_obs )\n",
    "\n",
    "# Compute the p-value\n",
    "p = np.sum(bs_diff_replicates >= mean_diff_obs)/len(bs_diff_replicates)\n",
    "\n",
    "# Print p-value\n",
    "print('p =', p)"
   ]
  },
  {
   "cell_type": "code",
   "execution_count": 123,
   "metadata": {},
   "outputs": [
    {
     "name": "stdout",
     "output_type": "stream",
     "text": [
      "Percentage of mean diffence below observed difference = 100.0\n",
      "95% confidence interval of bootstraped mean difference:  [-0.04370574  0.04402789]\n"
     ]
    }
   ],
   "source": [
    "\n",
    "# Percentage of mean diffence below observed diffence \n",
    "print(\"Percentage of mean diffence below observed difference =\",stats.percentileofscore(bs_diff_replicates,mean_diff_obs)) \n",
    "\n",
    "# compute confidence interval\n",
    "print(\"95% confidence interval of bootstraped mean difference: \", np.percentile(bs_diff_replicates,(2.5, 97.5) ))"
   ]
  },
  {
   "cell_type": "code",
   "execution_count": 124,
   "metadata": {},
   "outputs": [
    {
     "data": {
      "image/png": "[encoded data removed]",
      "text/plain": [
       "<Figure size 432x288 with 1 Axes>"
      ]
     },
     "metadata": {
      "needs_background": "light"
     },
     "output_type": "display_data"
    }
   ],
   "source": [
    "_=plt.hist(bs_diff_replicates, histtype=\"step\")\n",
    "_=plt.vlines(mean_diff_obs, ymin= 0, ymax=3010, color=\"red\", linestyles=\"dashed\")\n",
    "_=plt.annotate(\"observed\\ndifference\", xytext=(2, 2500), xy=(2.7,2400),arrowprops=dict(facecolor='red'))\n",
    "_=plt.xlabel(\"Bootstraped mean difference\")\n",
    "_=plt.title(\"Bootstraped replicates of mean difference\\nbetween fake and real news title length\")"
   ]
  },
  {
   "cell_type": "markdown",
   "metadata": {},
   "source": [
    "**Step 7: Interpretation**\n",
    "\n",
    "The p- value(0.0) is less than the prespecified significal level(0.05). Therefore, the mean length of fake news title is statistically different from the mean length of real news title. We can conclude that on average fake news title is longer than real news title.  "
   ]
  },
  {
   "cell_type": "code",
   "execution_count": null,
   "metadata": {},
   "outputs": [],
   "source": []
  }
 ],
 "metadata": {
  "kernelspec": {
   "display_name": "Python 3",
   "language": "python",
   "name": "python3"
  },
  "language_info": {
   "codemirror_mode": {
    "name": "ipython",
    "version": 3
   },
   "file_extension": ".py",
   "mimetype": "text/x-python",
   "name": "python",
   "nbconvert_exporter": "python",
   "pygments_lexer": "ipython3",
   "version": "3.7.6"
  }
 },
 "nbformat": 4,
 "nbformat_minor": 4
}
