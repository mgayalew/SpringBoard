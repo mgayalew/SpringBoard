{
 "cells": [
  {
   "cell_type": "markdown",
   "metadata": {},
   "source": [
    "\n",
    "# Is the price of hotel more expensive than other listings?\n",
    "\n",
    "   ###   Hypothesis Testing  using NYC Airbnb data \n",
    "\n",
    "                            By Muluemebet Ayalew\n",
    "                               March,2020"
   ]
  },
  {
   "cell_type": "code",
   "execution_count": 100,
   "metadata": {},
   "outputs": [],
   "source": [
    "#Important libraries\n",
    "\n",
    "import pandas as pd \n",
    "import matplotlib.pyplot as plt\n",
    "import numpy as np\n",
    "import seaborn as sns\n",
    "from scipy import stats \n",
    "%matplotlib inline"
   ]
  },
  {
   "cell_type": "markdown",
   "metadata": {},
   "source": [
    "## Read the cleaned data \n",
    "This data has non zero price, none NaN for reviews_per_month. New features such as is_hotel, distance from some point of interest."
   ]
  },
  {
   "cell_type": "code",
   "execution_count": 11,
   "metadata": {},
   "outputs": [],
   "source": [
    "# read the cleaned data for further analysis\n",
    "new_ny= pd.read_csv(\"NYC_cleaned.csv\", parse_dates=[\"last_review\"])"
   ]
  },
  {
   "cell_type": "code",
   "execution_count": 12,
   "metadata": {},
   "outputs": [
    {
     "data": {
      "text/plain": [
       "(50583, 22)"
      ]
     },
     "execution_count": 12,
     "metadata": {},
     "output_type": "execute_result"
    }
   ],
   "source": [
    "new_ny.shape # now the shape of the dataframe is changed\n"
   ]
  },
  {
   "cell_type": "code",
   "execution_count": 9,
   "metadata": {},
   "outputs": [
    {
     "data": {
      "text/plain": [
       "Index(['id', 'name', 'host_id', 'host_name', 'neighbourhood_group',\n",
       "       'neighbourhood', 'latitude', 'longitude', 'room_type', 'price',\n",
       "       'minimum_nights', 'number_of_reviews', 'last_review',\n",
       "       'reviews_per_month', 'calculated_host_listings_count',\n",
       "       'availability_365', 'is_hotel', 'location',\n",
       "       'dist_nearest_SubwayStation', 'dist_nearest_SubwayEntrance',\n",
       "       'dist_from_TimeSqr', 'dist_from_PennStation'],\n",
       "      dtype='object')"
      ]
     },
     "execution_count": 9,
     "metadata": {},
     "output_type": "execute_result"
    }
   ],
   "source": [
    "new_ny.columns"
   ]
  },
  {
   "cell_type": "markdown",
   "metadata": {},
   "source": [
    "## Is hotel expensive than other listings  ?\n",
    "We are interested if the mean price of hotel and non hotel listings are statistically different. \n",
    "\n",
    "    "
   ]
  },
  {
   "cell_type": "markdown",
   "metadata": {},
   "source": [
    "### Step 1:  Formulate the null and alternative hypothesis\n",
    "    The null hypothesis: The mean price of hotel and non-hotel listings are the same in New York city\n",
    "    Althernative hypothesis : The mean price of hotel is greater than the mean price of non-hotel listing in New York city\n"
   ]
  },
  {
   "cell_type": "code",
   "execution_count": 46,
   "metadata": {},
   "outputs": [
    {
     "data": {
      "image/png": "[encoded data removed]",
      "text/plain": [
       "<Figure size 432x288 with 1 Axes>"
      ]
     },
     "metadata": {
      "needs_background": "light"
     },
     "output_type": "display_data"
    }
   ],
   "source": [
    "# Box plot of hotel and non hotel price\n",
    "_=sns.boxplot(\"is_hotel\", \"price\", data=new_ny)\n",
    "_=plt.yscale(\"log\")\n",
    "_=plt.title(\"Box plot of non-hotel(0) and hotel (1) rentals\")"
   ]
  },
  {
   "cell_type": "code",
   "execution_count": 54,
   "metadata": {},
   "outputs": [
    {
     "name": "stdout",
     "output_type": "stream",
     "text": [
      "Hotel_mean_price =  554.4195933456562\n",
      "Not_hotel_mean_price =  153.93855161664203\n",
      "Hotel_std =  1714.0510120765289\n",
      "Not_hotel_std =  298.37401113118864\n"
     ]
    }
   ],
   "source": [
    "#get rental price for hotel and non-hotel \n",
    "hotel=new_ny[new_ny.is_hotel==1][\"price\"]\n",
    "not_hotel= new_ny[new_ny.is_hotel==0][\"price\"]\n",
    "\n",
    "# compute the means\n",
    "print(\"Hotel_mean_price = \" , hotel.mean())\n",
    "print(\"Not_hotel_mean_price = \", not_hotel.mean())\n",
    "\n",
    "# standard deviation \n",
    "h_std=np.std(hotel)\n",
    "nh_std= np.std(not_hotel)\n",
    "print(\"Hotel_std = \" , h_std)\n",
    "print(\"Not_hotel_std = \", nh_std)"
   ]
  },
  {
   "cell_type": "markdown",
   "metadata": {},
   "source": [
    "### Step 2:  Define test statistics \n",
    "The formula for two smaple t-test assuming hotel and non-hotel rental price have the same variance is :\n",
    "\n",
    "standard deviation of the two groups is given by\n",
    "\\begin{equation}\n",
    "s_p = \\sqrt{\\frac{(n_0 - 1)s^2_0 + (n_1 - 1)s^2_1}{n_0 + n_1 - 2}}\n",
    "\\end{equation}\n",
    "\n",
    "and the *t* test statistic is then given by\n",
    "\n",
    "\\begin{equation}\n",
    "t = \\frac{\\bar{x}_0 - \\bar{x}_1}{s_p \\sqrt{1/n_0 + 1/n_1}}.\n",
    "\\end{equation}\n",
    "\n",
    "Where; n0,n1, s0,s1,bar{x}_0,\\bar{x}_1} are the number of observation, standard deviation and mean of group_0 and group_1, respectively."
   ]
  },
  {
   "cell_type": "markdown",
   "metadata": {},
   "source": [
    "### Step 3 : Check the assumption to use the test statistics"
   ]
  },
  {
   "cell_type": "markdown",
   "metadata": {},
   "source": [
    "Inorder to use the above test statistic, the two groups(hotel and none-hotel rentals) should have the same variance. We need to test if the variance differerence for the two groups are statistically insignificant to use the above formula. \n",
    "\n",
    "Let us define another hypothesis to test if the variance of the two group is the same. Since variance is the square of standard deviation, we can define the hypothesis using standard deviation. If the two groups have the same variance they can also have the same standard deviation. \n",
    "\n",
    "    Null hypothesis: The standard deviations of listing price for hotel and non-hotel are the same\n",
    "    Alternative Hypothesis: The standard deviation of listing price for hotel and non-hotel is the same(two taild)"
   ]
  },
  {
   "cell_type": "code",
   "execution_count": 55,
   "metadata": {},
   "outputs": [],
   "source": [
    "def bs_repl(data, func, size):\n",
    "    \"\"\" boostrap replicates of the statistics defined by 'func' from bootstraped samples of size equal to 'size'\"\"\"\n",
    "    bs_replicate=np.empty(size)\n",
    "    for i in range(size):\n",
    "        bs_sample= np.random.choice(data, size=len(data)) #  the mean of bootstraped samples\n",
    "        bs_replicate[i]=func(bs_sample)\n",
    "    return bs_replicate\n"
   ]
  },
  {
   "cell_type": "markdown",
   "metadata": {},
   "source": [
    "**Bootstraped  samples of standard deviation**"
   ]
  },
  {
   "cell_type": "code",
   "execution_count": 51,
   "metadata": {},
   "outputs": [],
   "source": [
    "np.random.seed(47) # fix the seed to get the same result\n",
    "N_rep = 10000\n",
    "# bootstrap replicate of price for hotel \n",
    "bs_rep_hotel=bs_repl(hotel, np.std, N_rep) \n",
    "\n",
    "# bootstrap replicate of price for non-hotel \n",
    "bs_rep_nothotel= bs_repl(not_hotel, np.std, N_rep)\n",
    "# differnce\n",
    "bs_diff= bs_rep_hotel - bs_rep_nothotel"
   ]
  },
  {
   "cell_type": "markdown",
   "metadata": {},
   "source": [
    "**Confidence interval, 95%**"
   ]
  },
  {
   "cell_type": "code",
   "execution_count": 57,
   "metadata": {},
   "outputs": [
    {
     "name": "stdout",
     "output_type": "stream",
     "text": [
      "confidence interval =  [ 990.29721559 1782.66286541]\n"
     ]
    }
   ],
   "source": [
    "# Compute 95% confidence interval, two-tailed test\n",
    "conf_int = np.percentile(bs_diff,(2.5,97.5))\n",
    "print(\"confidence interval = \", conf_int)"
   ]
  },
  {
   "cell_type": "code",
   "execution_count": 93,
   "metadata": {},
   "outputs": [
    {
     "name": "stdout",
     "output_type": "stream",
     "text": [
      "observed std_difference =  1415.6770009453403\n"
     ]
    }
   ],
   "source": [
    "#observed standard deviation difference of the two groups\n",
    "obsr_diff= h_std-nh_std\n",
    "print(\"observed std_difference = \", obsr_diff)"
   ]
  },
  {
   "cell_type": "markdown",
   "metadata": {},
   "source": [
    "**Plot the bootstraped standard deviation**"
   ]
  },
  {
   "cell_type": "code",
   "execution_count": 121,
   "metadata": {},
   "outputs": [
    {
     "data": {
      "image/png": "[encoded data removed]",
      "text/plain": [
       "<Figure size 504x360 with 1 Axes>"
      ]
     },
     "metadata": {
      "needs_background": "light"
     },
     "output_type": "display_data"
    }
   ],
   "source": [
    "plt.figure(figsize=(7,5))\n",
    "\n",
    "# plot the bootstraped difference of standard deviation , 95% confidence interval and observed difference\n",
    "_=plt.hist(bs_diff, histtype=\"step\", density=True, bins=50)\n",
    "_=plt.vlines(conf_int, 0, 0.0024, colors=\"red\")\n",
    "_=plt.xlabel(\"Bootstraped difference of std\")\n",
    "_=plt.ylabel(\"PDF\") # probablity density function\n",
    "_=plt.title(\"Bootstraped distribution of the difference of standard deviation \\nof hotel and non-hotel listings\")\n",
    "_=plt.vlines(obsr_diff,0, 0.002, linestyles=\"dotted\") # observed difference\n",
    "_=plt.annotate(\"observed\\ndifference\", (1300, 0.00074))\n",
    "_=plt.annotate(\"95% confidence interval\", (1100, 0.0023))"
   ]
  },
  {
   "cell_type": "code",
   "execution_count": 107,
   "metadata": {},
   "outputs": [
    {
     "data": {
      "text/plain": [
       "0.4736"
      ]
     },
     "execution_count": 107,
     "metadata": {},
     "output_type": "execute_result"
    }
   ],
   "source": [
    "# compute p-value\n",
    "p_value= np.sum(bs_diff> obsr_diff)/len(bs_diff) # proportion of observations above the observed difference\n",
    "p_value"
   ]
  },
  {
   "cell_type": "markdown",
   "metadata": {},
   "source": [
    "The p-value is very large (>> 0.05(the significance leve)).The p-value the probablity to get an outcome at least as extreme as what was observed. Therefore, the difference of standard devation of price for hotel and none-hotel listing is statistically not significant. We can accept the null hypothesis and assume that the two groups have the same variance.  "
   ]
  },
  {
   "cell_type": "markdown",
   "metadata": {},
   "source": [
    "## Step 4: Choose the significance level  \n",
    "The significance level, $\\alpha$, is set as 0.05(5%). If the p-value is smaller than the significance leve, the null hypothesis is rejected and alternative hypothesis is accepted. Else p-value is larger, the null hypothesis will be accepted."
   ]
  },
  {
   "cell_type": "markdown",
   "metadata": {},
   "source": [
    "##  Step 4 : Calculate the test statistics\n",
    "\n",
    "Use the equation in step 2 to compute the test statistics. "
   ]
  },
  {
   "cell_type": "code",
   "execution_count": 102,
   "metadata": {},
   "outputs": [
    {
     "name": "stdout",
     "output_type": "stream",
     "text": [
      "t_value = 26.80814104107958\n"
     ]
    }
   ],
   "source": [
    "n0= len(hotel) # number of hotel listings \n",
    "n1= len(not_hotel) # number of none-hotel listings\n",
    "\n",
    "m0= hotel.mean()    # mean price of hotel listing\n",
    "m1=not_hotel.mean() # mean price of \n",
    "sp=np.sqrt(((n0-1)*h_std**2 +(n1-1)*nh_std**2)/(n0+n1-2)) # pooled standard deviation \n",
    "t_value= (m0-m1)/(sp*np.sqrt((1/n0) + (1/n1))) # t-value\n",
    "print(\"t_value =\", t_value)"
   ]
  },
  {
   "cell_type": "markdown",
   "metadata": {},
   "source": [
    "### Interpretation"
   ]
  },
  {
   "cell_type": "markdown",
   "metadata": {},
   "source": [
    "With (n0+n1-2)= (541+50042-2)= 50581 degree of freedom , 5% significance level and one tailed test we can get the t-score of 1.6449. If it was two tailed test, the t-score would be +/-1.96. The calculated t-value(~26.808) is very large and the probablity to get t-scores above this point is very very small.Therefore, the the difference in mean price between hotel and non-hotel listing is statistically significant. We can also proof this using scipy.stats module. Please note that the p-value computed using the stats method ttest_ind_from_stats() is based on two-tailed test."
   ]
  },
  {
   "cell_type": "code",
   "execution_count": 103,
   "metadata": {},
   "outputs": [
    {
     "data": {
      "text/plain": [
       "Ttest_indResult(statistic=26.80814104107958, pvalue=3.279534172257377e-157)"
      ]
     },
     "execution_count": 103,
     "metadata": {},
     "output_type": "execute_result"
    }
   ],
   "source": [
    "stats.ttest_ind_from_stats(m0,h_std,n0,m1,nh_std,n1)  # p-value for two tailed test"
   ]
  },
  {
   "cell_type": "markdown",
   "metadata": {},
   "source": [
    "##  Bootstrapped Hypothesis test\n",
    "Another way to test the hypothesis defined above."
   ]
  },
  {
   "cell_type": "markdown",
   "metadata": {},
   "source": [
    "### Step1: Formulate the null and alternative hypohesis :\n",
    " It is the same as defined above.\n",
    " \n",
    "    The null hypothesis: The mean price of hotel and non-hotel listings are the same in New York city\n",
    "    Althernative hypothesis : The mean price of hotel is greater than the mean price of non-hotel listing in New York city\n"
   ]
  },
  {
   "cell_type": "markdown",
   "metadata": {},
   "source": [
    "### Step 2 : Set the significance level\n",
    "The significance level,  𝛼 , is set as 0.05(5%) the same as the earlier test."
   ]
  },
  {
   "cell_type": "markdown",
   "metadata": {},
   "source": [
    "### Step 3: Compute the mean of a concatenated array of the two groups\n",
    "To perform this hypothesis test, we need to shift the two data sets so that they have the same mean and then use bootstrap sampling to compute the difference of means."
   ]
  },
  {
   "cell_type": "code",
   "execution_count": 123,
   "metadata": {},
   "outputs": [],
   "source": [
    "# Compute mean of combined data set: combined_mean\n",
    "combined_mean = np.mean(np.concatenate((hotel, not_hotel)))"
   ]
  },
  {
   "cell_type": "markdown",
   "metadata": {},
   "source": [
    "### Step 4: Shift the two groups data to get the same mean\n",
    "Shift hotel and non- hotel listing to get the same mean as the concatinated datahotel and non- hotel listing to get the same mean as the concatinated data"
   ]
  },
  {
   "cell_type": "code",
   "execution_count": 124,
   "metadata": {},
   "outputs": [],
   "source": [
    "# Shift the samples\n",
    "hotel_shifted = hotel -np.mean(hotel)+ combined_mean\n",
    "nothotel_shifted = not_hotel - np.mean(not_hotel) + combined_mean"
   ]
  },
  {
   "cell_type": "markdown",
   "metadata": {},
   "source": [
    "### Step 5: Get bootstrap replicates of shifted data sets\n",
    "Take 10,000 bootstrap replicates,bootstrap replicates are the statistics computed from resampled array(in this case mean), of the mean for each hotel and non-hotel listing."
   ]
  },
  {
   "cell_type": "code",
   "execution_count": 126,
   "metadata": {},
   "outputs": [],
   "source": [
    "# Get bootstrap replicates of shifted data sets\n",
    "bs_replicates_hotel = bs_repl(hotel_shifted, np.mean,10000)\n",
    "bs_replicates_nothotel = bs_repl(nothotel_shifted, np.mean,10000)\n",
    "\n",
    "# Compute replicates of difference of means: bs_diff_replicates\n",
    "bs_diff_replicates = bs_replicates_hotel - bs_replicates_nothotel\n"
   ]
  },
  {
   "cell_type": "code",
   "execution_count": 160,
   "metadata": {},
   "outputs": [
    {
     "data": {
      "image/png": "[encoded data removed]",
      "text/plain": [
       "<Figure size 432x288 with 1 Axes>"
      ]
     },
     "metadata": {
      "needs_background": "light"
     },
     "output_type": "display_data"
    }
   ],
   "source": [
    "_=plt.hist(bs_diff_replicates, bins=50, density=True, histtype=\"step\")\n",
    "_=plt.vlines((np.mean(hotel)-np.mean(not_hotel)), 0,0.006, colors=\"red\", linestyles=\"dashed\") # observed mean difference\n",
    "_=plt.annotate(\"observed\\ndifference\", xytext=(200, 0.004), xy=(390,0.003),arrowprops=dict(facecolor='red'))\n",
    "_=plt.xlabel(\"Bootstraped mean difference\")\n",
    "_=plt.ylabel(\"PDF\")\n",
    "_=plt.title(\"Bootstraped replicates of mean difference\\nbetween hotel and non-hotel listing\")\n"
   ]
  },
  {
   "cell_type": "markdown",
   "metadata": {},
   "source": [
    " ### Step 6: Compute the p-value"
   ]
  },
  {
   "cell_type": "code",
   "execution_count": 145,
   "metadata": {},
   "outputs": [
    {
     "name": "stdout",
     "output_type": "stream",
     "text": [
      "p = 0.0001\n"
     ]
    }
   ],
   "source": [
    "# Compute the p-value\n",
    "p = np.sum(bs_diff_replicates >= (np.mean(hotel)-np.mean(not_hotel))) / len(bs_diff_replicates)\n",
    "\n",
    "# Print p-value\n",
    "print('p =', p)\n"
   ]
  },
  {
   "cell_type": "markdown",
   "metadata": {},
   "source": [
    "#### Interpretation \n",
    "The p- value(0.0001) is less than the prespecified significal level(0.05). Therefore, the mean price difference between hotel and non-hotel listing is statistically significant. Hotel listing is more expensive than other listing. "
   ]
  },
  {
   "cell_type": "code",
   "execution_count": null,
   "metadata": {},
   "outputs": [],
   "source": []
  }
 ],
 "metadata": {
  "kernelspec": {
   "display_name": "Python 3",
   "language": "python",
   "name": "python3"
  },
  "language_info": {
   "codemirror_mode": {
    "name": "ipython",
    "version": 3
   },
   "file_extension": ".py",
   "mimetype": "text/x-python",
   "name": "python",
   "nbconvert_exporter": "python",
   "pygments_lexer": "ipython3",
   "version": "3.7.3"
  }
 },
 "nbformat": 4,
 "nbformat_minor": 2
}
