{
 "cells": [
  {
   "cell_type": "markdown",
   "metadata": {},
   "source": [
    "##   NYC Airbnb data - Modeling the listing price\n",
    "\n",
    "    By Muluemebet Ayalew\n",
    "       April,2020"
   ]
  },
  {
   "cell_type": "code",
   "execution_count": 1,
   "metadata": {},
   "outputs": [],
   "source": [
    "#Important libraries\n",
    "\n",
    "import pandas as pd \n",
    "import matplotlib.pyplot as plt\n",
    "import numpy as np\n",
    "import seaborn as sns\n",
    "from scipy.stats import skew, zscore    # to calculate the skewness of numerical columns and compute z score\n",
    "import statsmodels.api as sm     # to graph QQplot\n",
    "from statsmodels.formula.api import ols  # for regression,OLS\n",
    "\n",
    "from sklearn import preprocessing  # to use label encoding\n",
    "from sklearn.model_selection import train_test_split # to split the data into training and test set\n",
    "\n",
    "# to select parameters using cross validation\n",
    "from sklearn.model_selection import GridSearchCV\n",
    "from sklearn.model_selection import cross_val_score\n",
    "from sklearn.metrics import mean_squared_error, r2_score,  mean_absolute_error # performance measures\n",
    "\n",
    "# to make models\n",
    "from sklearn.linear_model import LinearRegression    # to make regression model\n",
    "from sklearn.linear_model import Lasso, LassoCV\n",
    "from sklearn.neighbors import KNeighborsRegressor\n",
    "from sklearn.tree import DecisionTreeRegressor\n",
    "from sklearn.ensemble import RandomForestRegressor\n",
    "from catboost import Pool, CatBoostRegressor\n",
    "#from sklearn.tree import export_graphviz  # make the tree graph\n",
    "%matplotlib inline\n"
   ]
  },
  {
   "cell_type": "markdown",
   "metadata": {},
   "source": [
    "## 1) Get the original and cleaned data "
   ]
  },
  {
   "cell_type": "code",
   "execution_count": 2,
   "metadata": {},
   "outputs": [],
   "source": [
    "#original data downloaded on end of January\n",
    "ny= pd.read_csv(\"listings.csv\", parse_dates=[\"last_review\"]) # read the last_review column as datetime"
   ]
  },
  {
   "cell_type": "code",
   "execution_count": 3,
   "metadata": {},
   "outputs": [
    {
     "data": {
      "text/plain": [
       "Index(['id', 'name', 'host_id', 'host_name', 'neighbourhood_group',\n",
       "       'neighbourhood', 'latitude', 'longitude', 'room_type', 'price',\n",
       "       'minimum_nights', 'number_of_reviews', 'last_review',\n",
       "       'reviews_per_month', 'calculated_host_listings_count',\n",
       "       'availability_365'],\n",
       "      dtype='object')"
      ]
     },
     "execution_count": 3,
     "metadata": {},
     "output_type": "execute_result"
    }
   ],
   "source": [
    "ny.columns  # list of column names"
   ]
  },
  {
   "cell_type": "markdown",
   "metadata": {},
   "source": [
    "## Read the cleaned data \n",
    "This data has non zero price, none NaN for reviews_per_month. New features such as is_hotel, distance from some point of interest."
   ]
  },
  {
   "cell_type": "code",
   "execution_count": 4,
   "metadata": {},
   "outputs": [],
   "source": [
    "# read the cleaned data for further analysis\n",
    "new_ny= pd.read_csv(\"NYC_cleaned.csv\", parse_dates=[\"last_review\"])"
   ]
  },
  {
   "cell_type": "code",
   "execution_count": 5,
   "metadata": {},
   "outputs": [
    {
     "data": {
      "text/plain": [
       "(50583, 22)"
      ]
     },
     "execution_count": 5,
     "metadata": {},
     "output_type": "execute_result"
    }
   ],
   "source": [
    "new_ny.shape # now the shape of the dataframe is changed\n"
   ]
  },
  {
   "cell_type": "code",
   "execution_count": 6,
   "metadata": {},
   "outputs": [
    {
     "data": {
      "text/plain": [
       "Index(['id', 'name', 'host_id', 'host_name', 'neighbourhood_group',\n",
       "       'neighbourhood', 'latitude', 'longitude', 'room_type', 'price',\n",
       "       'minimum_nights', 'number_of_reviews', 'last_review',\n",
       "       'reviews_per_month', 'calculated_host_listings_count',\n",
       "       'availability_365', 'is_hotel', 'location',\n",
       "       'dist_nearest_SubwayStation', 'dist_nearest_SubwayEntrance',\n",
       "       'dist_from_TimeSqr', 'dist_from_PennStation'],\n",
       "      dtype='object')"
      ]
     },
     "execution_count": 6,
     "metadata": {},
     "output_type": "execute_result"
    }
   ],
   "source": [
    "new_ny.columns"
   ]
  },
  {
   "cell_type": "markdown",
   "metadata": {},
   "source": [
    "## 2) Dealing with Outliers \n",
    " \n",
    " The data with price beyond three standard deviation from the mean price are removed from the analysis. For both training and test data the price above 1202 is considered outlier. This number is obtained by computing mean plus three standard deviation of the whole data set. The price above this value is treated as outlier. "
   ]
  },
  {
   "cell_type": "code",
   "execution_count": 7,
   "metadata": {},
   "outputs": [
    {
     "data": {
      "image/png": "[encoded data removed]",
      "text/plain": [
       "<Figure size 432x288 with 1 Axes>"
      ]
     },
     "metadata": {
      "needs_background": "light"
     },
     "output_type": "display_data"
    }
   ],
   "source": [
    "_=sns.boxplot(\"price\", data=new_ny) \n",
    "_=plt.xscale(\"log\")"
   ]
  },
  {
   "cell_type": "code",
   "execution_count": 9,
   "metadata": {},
   "outputs": [],
   "source": [
    "# removing outliers  beyond three standard deviation from the mean\n",
    "mean_p=new_ny[\"price\"].mean()\n",
    "std_p=new_ny[\"price\"].std()\n",
    "three_sigma= mean_p + (3*std_p)"
   ]
  },
  {
   "cell_type": "code",
   "execution_count": 10,
   "metadata": {},
   "outputs": [
    {
     "data": {
      "text/plain": [
       "1202.6215388898568"
      ]
     },
     "execution_count": 10,
     "metadata": {},
     "output_type": "execute_result"
    }
   ],
   "source": [
    "three_sigma # upper limit for price"
   ]
  },
  {
   "cell_type": "code",
   "execution_count": 11,
   "metadata": {},
   "outputs": [
    {
     "data": {
      "text/plain": [
       "(50352, 22)"
      ]
     },
     "execution_count": 11,
     "metadata": {},
     "output_type": "execute_result"
    }
   ],
   "source": [
    "# detaframe with prices below (mean +3 *standard_deviation)\n",
    "clean_ny= new_ny[new_ny[\"price\"]<three_sigma]\n",
    "# the new dataframe after prices above three standard deviations from the mean removed \n",
    "clean_ny.shape"
   ]
  },
  {
   "cell_type": "markdown",
   "metadata": {},
   "source": [
    "## 3) Feature Encoding \n",
    "\n",
    "The data has catagorical variables. we need to encode those variables.  For the variables neighbourhood_group and room_type, dummy variables are created using pandas method get_dummies(). However, the variable neighbourhood contains 223 unique values and creating dummy makes the model complex and computationaly expensive. A better way to hand this is by using target encoding. The median price for each group is computed and used as a predictor variable. But this has to be done after spliting the data into training and test data. "
   ]
  },
  {
   "cell_type": "markdown",
   "metadata": {},
   "source": [
    "#### Creat dummies for nighbourhood_group and room_type"
   ]
  },
  {
   "cell_type": "code",
   "execution_count": 13,
   "metadata": {},
   "outputs": [
    {
     "data": {
      "text/plain": [
       "Index(['name', 'host_name', 'neighbourhood_group', 'neighbourhood',\n",
       "       'room_type', 'location'],\n",
       "      dtype='object')"
      ]
     },
     "execution_count": 13,
     "metadata": {},
     "output_type": "execute_result"
    }
   ],
   "source": [
    "# get catagorical columns\n",
    "clean_ny.select_dtypes(\"object\").columns"
   ]
  },
  {
   "cell_type": "markdown",
   "metadata": {},
   "source": [
    "Right now, we are interested with neighbourhood_group and room_type. We will deal with neighbourhood later.  "
   ]
  },
  {
   "cell_type": "code",
   "execution_count": 13,
   "metadata": {},
   "outputs": [],
   "source": [
    "#convert neighbourhood_group and room_type into dummy variables\n",
    "neighbourg_room= pd.get_dummies(clean_ny[[\"neighbourhood_group\", \"room_type\"]],drop_first=True)"
   ]
  },
  {
   "cell_type": "code",
   "execution_count": 14,
   "metadata": {},
   "outputs": [
    {
     "data": {
      "text/html": [
       "<div>\n",
       "<style scoped>\n",
       "    .dataframe tbody tr th:only-of-type {\n",
       "        vertical-align: middle;\n",
       "    }\n",
       "\n",
       "    .dataframe tbody tr th {\n",
       "        vertical-align: top;\n",
       "    }\n",
       "\n",
       "    .dataframe thead th {\n",
       "        text-align: right;\n",
       "    }\n",
       "</style>\n",
       "<table border=\"1\" class=\"dataframe\">\n",
       "  <thead>\n",
       "    <tr style=\"text-align: right;\">\n",
       "      <th></th>\n",
       "      <th>neighbourhood_group_Brooklyn</th>\n",
       "      <th>neighbourhood_group_Manhattan</th>\n",
       "      <th>neighbourhood_group_Queens</th>\n",
       "      <th>neighbourhood_group_Staten Island</th>\n",
       "      <th>room_type_Hotel room</th>\n",
       "      <th>room_type_Private room</th>\n",
       "      <th>room_type_Shared room</th>\n",
       "    </tr>\n",
       "  </thead>\n",
       "  <tbody>\n",
       "    <tr>\n",
       "      <th>0</th>\n",
       "      <td>0</td>\n",
       "      <td>1</td>\n",
       "      <td>0</td>\n",
       "      <td>0</td>\n",
       "      <td>0</td>\n",
       "      <td>0</td>\n",
       "      <td>0</td>\n",
       "    </tr>\n",
       "    <tr>\n",
       "      <th>1</th>\n",
       "      <td>1</td>\n",
       "      <td>0</td>\n",
       "      <td>0</td>\n",
       "      <td>0</td>\n",
       "      <td>0</td>\n",
       "      <td>0</td>\n",
       "      <td>0</td>\n",
       "    </tr>\n",
       "  </tbody>\n",
       "</table>\n",
       "</div>"
      ],
      "text/plain": [
       "   neighbourhood_group_Brooklyn  neighbourhood_group_Manhattan  \\\n",
       "0                             0                              1   \n",
       "1                             1                              0   \n",
       "\n",
       "   neighbourhood_group_Queens  neighbourhood_group_Staten Island  \\\n",
       "0                           0                                  0   \n",
       "1                           0                                  0   \n",
       "\n",
       "   room_type_Hotel room  room_type_Private room  room_type_Shared room  \n",
       "0                     0                       0                      0  \n",
       "1                     0                       0                      0  "
      ]
     },
     "execution_count": 14,
     "metadata": {},
     "output_type": "execute_result"
    }
   ],
   "source": [
    "neighbourg_room.head(2) # see the dummy variables"
   ]
  },
  {
   "cell_type": "code",
   "execution_count": 15,
   "metadata": {},
   "outputs": [],
   "source": [
    "# merge the dataframes with dummy variables to the original data\n",
    "merged= pd.concat([clean_ny,neighbourg_room], axis=1)\n"
   ]
  },
  {
   "cell_type": "code",
   "execution_count": 16,
   "metadata": {},
   "outputs": [
    {
     "data": {
      "text/plain": [
       "(50352, 29)"
      ]
     },
     "execution_count": 16,
     "metadata": {},
     "output_type": "execute_result"
    }
   ],
   "source": [
    "merged.shape # the shape after creating dummy variebles"
   ]
  },
  {
   "cell_type": "markdown",
   "metadata": {},
   "source": [
    "## 4) Split the data into training and test set \n",
    "Before performing target encoding we need to split the data into training and validating. Variables such as distance form Time Square and distance from Penn Station are highly correlated. Only one variable(distance from Penn Station) is included in the analysis. Distance from subwy entrance and distance from subway station are also correlated. Only distance from subwy entrance is included in the model. \n",
    "The whole data set including the response variable is splited into training and test data. To make the follow up modelling easier, the training and test data contains all the variables including variables that will not be included in the model. Base on the need and type of encoding needed for specific algorithm, we will modify or choose predictor variables from the whole list. "
   ]
  },
  {
   "cell_type": "code",
   "execution_count": 17,
   "metadata": {},
   "outputs": [],
   "source": [
    "X=merged   # the whole data set\n",
    "y=merged[\"price\"]  # target,response variable\n",
    "\n",
    "# split training(70%) and test data(30%)\n",
    "X_train, X_test, y_train, y_test = train_test_split(X, y,test_size = 0.3, random_state=42)"
   ]
  },
  {
   "cell_type": "code",
   "execution_count": 18,
   "metadata": {},
   "outputs": [
    {
     "name": "stdout",
     "output_type": "stream",
     "text": [
      "training_data_shape :  (35246, 29)\n",
      "test_data_shape :  (15106, 29)\n"
     ]
    }
   ],
   "source": [
    "print(\"training_data_shape : \", X_train.shape)\n",
    "print(\"test_data_shape : \", X_test.shape)"
   ]
  },
  {
   "cell_type": "markdown",
   "metadata": {},
   "source": [
    "### Target encoding for neighbourhood\n",
    "Since nighbourhood has large categories, target encoding is used. Target encoding is performed for both training and test data separately. "
   ]
  },
  {
   "cell_type": "markdown",
   "metadata": {},
   "source": [
    "**Encoding for training data**"
   ]
  },
  {
   "cell_type": "code",
   "execution_count": 19,
   "metadata": {},
   "outputs": [
    {
     "data": {
      "text/html": [
       "<div>\n",
       "<style scoped>\n",
       "    .dataframe tbody tr th:only-of-type {\n",
       "        vertical-align: middle;\n",
       "    }\n",
       "\n",
       "    .dataframe tbody tr th {\n",
       "        vertical-align: top;\n",
       "    }\n",
       "\n",
       "    .dataframe thead th {\n",
       "        text-align: right;\n",
       "    }\n",
       "</style>\n",
       "<table border=\"1\" class=\"dataframe\">\n",
       "  <thead>\n",
       "    <tr style=\"text-align: right;\">\n",
       "      <th></th>\n",
       "      <th>neighbourhood</th>\n",
       "      <th>median price</th>\n",
       "    </tr>\n",
       "  </thead>\n",
       "  <tbody>\n",
       "    <tr>\n",
       "      <th>0</th>\n",
       "      <td>Allerton</td>\n",
       "      <td>65.0</td>\n",
       "    </tr>\n",
       "    <tr>\n",
       "      <th>1</th>\n",
       "      <td>Arden Heights</td>\n",
       "      <td>75.0</td>\n",
       "    </tr>\n",
       "  </tbody>\n",
       "</table>\n",
       "</div>"
      ],
      "text/plain": [
       "   neighbourhood  median price\n",
       "0       Allerton          65.0\n",
       "1  Arden Heights          75.0"
      ]
     },
     "execution_count": 19,
     "metadata": {},
     "output_type": "execute_result"
    }
   ],
   "source": [
    "# # group the neighbourhood by median price\n",
    "train=X_train.groupby(\"neighbourhood\")[\"price\"].agg(\"median\").reset_index()\n",
    "\n",
    "# encode the neighbourhood by its median price \n",
    "train_encoder= {train.neighbourhood[i]: train.price[i] for i in range(train.shape[0])}\n",
    "\n",
    "# map the encoder\n",
    "X_train=X_train.copy()\n",
    "X_train[\"neighb_encoded\"] = X_train[\"neighbourhood\"].map(train_encoder)\n",
    "\n",
    "# look at the group median price\n",
    "train.columns=['neighbourhood', 'median price']\n",
    "train.head(2) \n"
   ]
  },
  {
   "cell_type": "markdown",
   "metadata": {},
   "source": [
    "**Encoding for test data**"
   ]
  },
  {
   "cell_type": "code",
   "execution_count": 20,
   "metadata": {},
   "outputs": [],
   "source": [
    "# group the neighbourhood by median price\n",
    "test=X_test.groupby(\"neighbourhood\")[\"price\"].agg(\"median\").reset_index()\n",
    "\n",
    "# encode the neighbourhood by its median price \n",
    "test_encoder= {test.neighbourhood[i]: test.price[i] for i in range(test.shape[0])}\n",
    "\n",
    "# map the encoder\n",
    "X_test= X_test.copy()\n",
    "X_test[\"neighb_encoded\"] = X_test[\"neighbourhood\"].map(test_encoder) \n"
   ]
  },
  {
   "cell_type": "markdown",
   "metadata": {},
   "source": [
    "\n",
    "\n",
    "## 5) Prediction "
   ]
  },
  {
   "cell_type": "markdown",
   "metadata": {},
   "source": [
    "## 5.1)  Linear model with two senarios"
   ]
  },
  {
   "cell_type": "markdown",
   "metadata": {},
   "source": [
    "   ### a) Without transformation of response variable"
   ]
  },
  {
   "cell_type": "code",
   "execution_count": 21,
   "metadata": {},
   "outputs": [
    {
     "name": "stdout",
     "output_type": "stream",
     "text": [
      "16\n"
     ]
    }
   ],
   "source": [
    "# all the selected features \n",
    "col=['neighb_encoded', 'minimum_nights', 'number_of_reviews', 'reviews_per_month', \\\n",
    "     'calculated_host_listings_count', 'availability_365', 'is_hotel', \\\n",
    "     'dist_nearest_SubwayEntrance','dist_from_PennStation', 'neighbourhood_group_Brooklyn', \\\n",
    "     'neighbourhood_group_Manhattan', 'neighbourhood_group_Queens', \\\n",
    "     'neighbourhood_group_Staten Island', 'room_type_Hotel room', 'room_type_Private room', \\\n",
    "     'room_type_Shared room']\n",
    "print(len(col)) # number of predictor variables"
   ]
  },
  {
   "cell_type": "code",
   "execution_count": 22,
   "metadata": {},
   "outputs": [],
   "source": [
    "# fit with Linear regrassion with the selected predictor variables\n",
    "Xl_train= X_train[col]\n",
    "Xl_test= X_test[col]\n",
    "linear=LinearRegression().fit(Xl_train,y_train)#Xl_train,y_train)"
   ]
  },
  {
   "cell_type": "code",
   "execution_count": 23,
   "metadata": {},
   "outputs": [
    {
     "data": {
      "text/plain": [
       "0.32649306462170424"
      ]
     },
     "execution_count": 23,
     "metadata": {},
     "output_type": "execute_result"
    }
   ],
   "source": [
    "linear.score(Xl_test,y_test) # R2 for test data set"
   ]
  },
  {
   "cell_type": "code",
   "execution_count": 110,
   "metadata": {},
   "outputs": [],
   "source": [
    "# Predict for training data\n",
    "trainl_pred=linear.predict(Xl_train)\n",
    "\n",
    "#predict for test data\n",
    "testl_pred= linear.predict(Xl_test)"
   ]
  },
  {
   "cell_type": "markdown",
   "metadata": {},
   "source": [
    "### See the performance of the model for training and test data"
   ]
  },
  {
   "cell_type": "code",
   "execution_count": 25,
   "metadata": {},
   "outputs": [],
   "source": [
    "def model_output(y_true, y_pred):\n",
    "    _=plt.scatter(y_true, y_pred) # see the predicted and actual values\n",
    "    _=plt.xlabel(\"Actual\")\n",
    "    _=plt.ylabel(\"Predicted\")\n",
    "    \n",
    "    #performance measure\n",
    "    print(\"r2 = \",r2_score(y_true,y_pred)) # r2\n",
    "    print(\"mean_absolute_error = \", mean_absolute_error(y_true,y_pred))\n",
    "    print(\"mean_squared_error = \", mean_squared_error(y_true, y_pred))    \n",
    "    "
   ]
  },
  {
   "cell_type": "code",
   "execution_count": 26,
   "metadata": {},
   "outputs": [
    {
     "name": "stdout",
     "output_type": "stream",
     "text": [
      "\u001b[1m Performance of training data\u001b[0m\n",
      "r2 =  0.326612798786566\n",
      "mean_absolute_error =  55.14786732246464\n",
      "mean_squared_error =  9671.908373854427\n",
      "\u001b[1m Performance of test data \u001b[0m\n",
      "r2 =  0.32649306462170424\n",
      "mean_absolute_error =  56.10848811973174\n",
      "mean_squared_error =  9970.002325807229\n"
     ]
    },
    {
     "data": {
      "image/png": "[encoded data removed]",
      "text/plain": [
       "<Figure size 720x288 with 2 Axes>"
      ]
     },
     "metadata": {
      "needs_background": "light"
     },
     "output_type": "display_data"
    }
   ],
   "source": [
    "plt.figure(figsize=(10,4))\n",
    "plt.subplot(1,2,1)\n",
    "print(\"\\033[1m Performance of training data\\033[0m\")# print in bold\n",
    "model_output(y_train,trainl_pred)\n",
    "plt.title(\"Training data\")\n",
    "\n",
    "plt.subplot(1,2,2)\n",
    "print(\"\\033[1m Performance of test data \\033[0m\") # print in bold\n",
    "model_output(y_test,testl_pred)\n",
    "plt.title(\"Test data\")\n",
    "plt.tight_layout()\n"
   ]
  },
  {
   "cell_type": "markdown",
   "metadata": {},
   "source": [
    "As we can see from the above plot and performace measures, the model doesn't perform well. Let us see how we can improve the preformance of the model. First let us check if the assumptions for linear regession are satisfied."
   ]
  },
  {
   "cell_type": "markdown",
   "metadata": {},
   "source": [
    "## Check  the assumptions to use  linear regression\n",
    "The package statsmodels is used to diagnose the assumption for linear regression."
   ]
  },
  {
   "cell_type": "code",
   "execution_count": 31,
   "metadata": {},
   "outputs": [],
   "source": [
    "# Import regression modules\n",
    "#import statsmodels.api as sm\n",
    "#from statsmodels.formula.api import ols"
   ]
  },
  {
   "cell_type": "code",
   "execution_count": 27,
   "metadata": {},
   "outputs": [],
   "source": [
    "datalm=pd.concat((Xl_train, y_train), axis=1) # train data "
   ]
  },
  {
   "cell_type": "code",
   "execution_count": 28,
   "metadata": {},
   "outputs": [
    {
     "data": {
      "text/plain": [
       "(35246, 17)"
      ]
     },
     "execution_count": 28,
     "metadata": {},
     "output_type": "execute_result"
    }
   ],
   "source": [
    "datalm.shape"
   ]
  },
  {
   "cell_type": "code",
   "execution_count": 29,
   "metadata": {},
   "outputs": [],
   "source": [
    "# make appropriate formate for column naming\n",
    "datalm.columns= ['neighb_encoded', 'minimum_nights', 'number_of_reviews',\n",
    "       'reviews_per_month', 'calculated_host_listings_count',\n",
    "       'availability_365', 'is_hotel', 'dist_nearest_SubwayEntrance',\n",
    "       'dist_from_PennStation', 'neighbourhood_group_Brooklyn',\n",
    "       'neighbourhood_group_Manhattan', 'neighbourhood_group_Queens',\n",
    "       'neighbourhood_group_Staten_Island', 'room_type_Hotel_room',\n",
    "       'room_type_Private_room', 'room_type_Shared_room',\"price\"]"
   ]
  },
  {
   "cell_type": "code",
   "execution_count": 31,
   "metadata": {},
   "outputs": [],
   "source": [
    "# Linear model using ordinary least square\n",
    "lm=ols(\"price ~ neighb_encoded \\\n",
    "+ minimum_nights + number_of_reviews + reviews_per_month \\\n",
    "+ calculated_host_listings_count+availability_365 +\\\n",
    " +is_hotel + dist_nearest_SubwayEntrance+ dist_from_PennStation\\\n",
    " +neighbourhood_group_Brooklyn+ neighbourhood_group_Manhattan \\\n",
    " + neighbourhood_group_Queens+ neighbourhood_group_Staten_Island\\\n",
    "+ room_type_Hotel_room +  room_type_Private_room+ room_type_Shared_room\", datalm).fit()"
   ]
  },
  {
   "cell_type": "code",
   "execution_count": 32,
   "metadata": {
    "scrolled": true
   },
   "outputs": [
    {
     "data": {
      "text/html": [
       "<table class=\"simpletable\">\n",
       "<caption>OLS Regression Results</caption>\n",
       "<tr>\n",
       "  <th>Dep. Variable:</th>          <td>price</td>      <th>  R-squared:         </th>  <td>   0.327</td>  \n",
       "</tr>\n",
       "<tr>\n",
       "  <th>Model:</th>                   <td>OLS</td>       <th>  Adj. R-squared:    </th>  <td>   0.326</td>  \n",
       "</tr>\n",
       "<tr>\n",
       "  <th>Method:</th>             <td>Least Squares</td>  <th>  F-statistic:       </th>  <td>   1068.</td>  \n",
       "</tr>\n",
       "<tr>\n",
       "  <th>Date:</th>             <td>Fri, 24 Apr 2020</td> <th>  Prob (F-statistic):</th>   <td>  0.00</td>   \n",
       "</tr>\n",
       "<tr>\n",
       "  <th>Time:</th>                 <td>12:56:32</td>     <th>  Log-Likelihood:    </th> <td>-2.1174e+05</td>\n",
       "</tr>\n",
       "<tr>\n",
       "  <th>No. Observations:</th>      <td> 35246</td>      <th>  AIC:               </th>  <td>4.235e+05</td> \n",
       "</tr>\n",
       "<tr>\n",
       "  <th>Df Residuals:</th>          <td> 35229</td>      <th>  BIC:               </th>  <td>4.237e+05</td> \n",
       "</tr>\n",
       "<tr>\n",
       "  <th>Df Model:</th>              <td>    16</td>      <th>                     </th>      <td> </td>     \n",
       "</tr>\n",
       "<tr>\n",
       "  <th>Covariance Type:</th>      <td>nonrobust</td>    <th>                     </th>      <td> </td>     \n",
       "</tr>\n",
       "</table>\n",
       "<table class=\"simpletable\">\n",
       "<tr>\n",
       "                  <td></td>                     <th>coef</th>     <th>std err</th>      <th>t</th>      <th>P>|t|</th>  <th>[0.025</th>    <th>0.975]</th>  \n",
       "</tr>\n",
       "<tr>\n",
       "  <th>Intercept</th>                         <td>  104.7710</td> <td>    5.081</td> <td>   20.619</td> <td> 0.000</td> <td>   94.812</td> <td>  114.730</td>\n",
       "</tr>\n",
       "<tr>\n",
       "  <th>neighb_encoded</th>                    <td>    0.7409</td> <td>    0.020</td> <td>   36.924</td> <td> 0.000</td> <td>    0.702</td> <td>    0.780</td>\n",
       "</tr>\n",
       "<tr>\n",
       "  <th>minimum_nights</th>                    <td>   -0.3034</td> <td>    0.025</td> <td>  -11.920</td> <td> 0.000</td> <td>   -0.353</td> <td>   -0.254</td>\n",
       "</tr>\n",
       "<tr>\n",
       "  <th>number_of_reviews</th>                 <td>   -0.1267</td> <td>    0.014</td> <td>   -9.125</td> <td> 0.000</td> <td>   -0.154</td> <td>   -0.099</td>\n",
       "</tr>\n",
       "<tr>\n",
       "  <th>reviews_per_month</th>                 <td>   -0.7804</td> <td>    0.418</td> <td>   -1.868</td> <td> 0.062</td> <td>   -1.599</td> <td>    0.038</td>\n",
       "</tr>\n",
       "<tr>\n",
       "  <th>calculated_host_listings_count</th>    <td>   -0.1903</td> <td>    0.017</td> <td>  -11.233</td> <td> 0.000</td> <td>   -0.224</td> <td>   -0.157</td>\n",
       "</tr>\n",
       "<tr>\n",
       "  <th>availability_365</th>                  <td>    0.1034</td> <td>    0.004</td> <td>   24.634</td> <td> 0.000</td> <td>    0.095</td> <td>    0.112</td>\n",
       "</tr>\n",
       "<tr>\n",
       "  <th>is_hotel</th>                          <td>   89.0927</td> <td>   11.585</td> <td>    7.690</td> <td> 0.000</td> <td>   66.385</td> <td>  111.800</td>\n",
       "</tr>\n",
       "<tr>\n",
       "  <th>dist_nearest_SubwayEntrance</th>       <td>    0.3309</td> <td>    1.090</td> <td>    0.304</td> <td> 0.761</td> <td>   -1.805</td> <td>    2.466</td>\n",
       "</tr>\n",
       "<tr>\n",
       "  <th>dist_from_PennStation</th>             <td>   -1.4858</td> <td>    0.200</td> <td>   -7.427</td> <td> 0.000</td> <td>   -1.878</td> <td>   -1.094</td>\n",
       "</tr>\n",
       "<tr>\n",
       "  <th>neighbourhood_group_Brooklyn</th>      <td>    0.1563</td> <td>    3.596</td> <td>    0.043</td> <td> 0.965</td> <td>   -6.892</td> <td>    7.205</td>\n",
       "</tr>\n",
       "<tr>\n",
       "  <th>neighbourhood_group_Manhattan</th>     <td>    2.5437</td> <td>    3.843</td> <td>    0.662</td> <td> 0.508</td> <td>   -4.989</td> <td>   10.077</td>\n",
       "</tr>\n",
       "<tr>\n",
       "  <th>neighbourhood_group_Queens</th>        <td>    1.9851</td> <td>    3.792</td> <td>    0.524</td> <td> 0.601</td> <td>   -5.447</td> <td>    9.417</td>\n",
       "</tr>\n",
       "<tr>\n",
       "  <th>neighbourhood_group_Staten_Island</th> <td>   -2.1538</td> <td>    7.021</td> <td>   -0.307</td> <td> 0.759</td> <td>  -15.914</td> <td>   11.607</td>\n",
       "</tr>\n",
       "<tr>\n",
       "  <th>room_type_Hotel_room</th>              <td>  -99.7735</td> <td>   12.909</td> <td>   -7.729</td> <td> 0.000</td> <td> -125.076</td> <td>  -74.471</td>\n",
       "</tr>\n",
       "<tr>\n",
       "  <th>room_type_Private_room</th>            <td>  -89.7841</td> <td>    1.122</td> <td>  -80.057</td> <td> 0.000</td> <td>  -91.982</td> <td>  -87.586</td>\n",
       "</tr>\n",
       "<tr>\n",
       "  <th>room_type_Shared_room</th>             <td> -112.9239</td> <td>    3.436</td> <td>  -32.869</td> <td> 0.000</td> <td> -119.658</td> <td> -106.190</td>\n",
       "</tr>\n",
       "</table>\n",
       "<table class=\"simpletable\">\n",
       "<tr>\n",
       "  <th>Omnibus:</th>       <td>30319.244</td> <th>  Durbin-Watson:     </th>  <td>   1.990</td>  \n",
       "</tr>\n",
       "<tr>\n",
       "  <th>Prob(Omnibus):</th>  <td> 0.000</td>   <th>  Jarque-Bera (JB):  </th> <td>1086661.263</td>\n",
       "</tr>\n",
       "<tr>\n",
       "  <th>Skew:</th>           <td> 4.055</td>   <th>  Prob(JB):          </th>  <td>    0.00</td>  \n",
       "</tr>\n",
       "<tr>\n",
       "  <th>Kurtosis:</th>       <td>28.964</td>   <th>  Cond. No.          </th>  <td>6.34e+03</td>  \n",
       "</tr>\n",
       "</table><br/><br/>Warnings:<br/>[1] Standard Errors assume that the covariance matrix of the errors is correctly specified.<br/>[2] The condition number is large, 6.34e+03. This might indicate that there are<br/>strong multicollinearity or other numerical problems."
      ],
      "text/plain": [
       "<class 'statsmodels.iolib.summary.Summary'>\n",
       "\"\"\"\n",
       "                            OLS Regression Results                            \n",
       "==============================================================================\n",
       "Dep. Variable:                  price   R-squared:                       0.327\n",
       "Model:                            OLS   Adj. R-squared:                  0.326\n",
       "Method:                 Least Squares   F-statistic:                     1068.\n",
       "Date:                Fri, 24 Apr 2020   Prob (F-statistic):               0.00\n",
       "Time:                        12:56:32   Log-Likelihood:            -2.1174e+05\n",
       "No. Observations:               35246   AIC:                         4.235e+05\n",
       "Df Residuals:                   35229   BIC:                         4.237e+05\n",
       "Df Model:                          16                                         \n",
       "Covariance Type:            nonrobust                                         \n",
       "=====================================================================================================\n",
       "                                        coef    std err          t      P>|t|      [0.025      0.975]\n",
       "-----------------------------------------------------------------------------------------------------\n",
       "Intercept                           104.7710      5.081     20.619      0.000      94.812     114.730\n",
       "neighb_encoded                        0.7409      0.020     36.924      0.000       0.702       0.780\n",
       "minimum_nights                       -0.3034      0.025    -11.920      0.000      -0.353      -0.254\n",
       "number_of_reviews                    -0.1267      0.014     -9.125      0.000      -0.154      -0.099\n",
       "reviews_per_month                    -0.7804      0.418     -1.868      0.062      -1.599       0.038\n",
       "calculated_host_listings_count       -0.1903      0.017    -11.233      0.000      -0.224      -0.157\n",
       "availability_365                      0.1034      0.004     24.634      0.000       0.095       0.112\n",
       "is_hotel                             89.0927     11.585      7.690      0.000      66.385     111.800\n",
       "dist_nearest_SubwayEntrance           0.3309      1.090      0.304      0.761      -1.805       2.466\n",
       "dist_from_PennStation                -1.4858      0.200     -7.427      0.000      -1.878      -1.094\n",
       "neighbourhood_group_Brooklyn          0.1563      3.596      0.043      0.965      -6.892       7.205\n",
       "neighbourhood_group_Manhattan         2.5437      3.843      0.662      0.508      -4.989      10.077\n",
       "neighbourhood_group_Queens            1.9851      3.792      0.524      0.601      -5.447       9.417\n",
       "neighbourhood_group_Staten_Island    -2.1538      7.021     -0.307      0.759     -15.914      11.607\n",
       "room_type_Hotel_room                -99.7735     12.909     -7.729      0.000    -125.076     -74.471\n",
       "room_type_Private_room              -89.7841      1.122    -80.057      0.000     -91.982     -87.586\n",
       "room_type_Shared_room              -112.9239      3.436    -32.869      0.000    -119.658    -106.190\n",
       "==============================================================================\n",
       "Omnibus:                    30319.244   Durbin-Watson:                   1.990\n",
       "Prob(Omnibus):                  0.000   Jarque-Bera (JB):          1086661.263\n",
       "Skew:                           4.055   Prob(JB):                         0.00\n",
       "Kurtosis:                      28.964   Cond. No.                     6.34e+03\n",
       "==============================================================================\n",
       "\n",
       "Warnings:\n",
       "[1] Standard Errors assume that the covariance matrix of the errors is correctly specified.\n",
       "[2] The condition number is large, 6.34e+03. This might indicate that there are\n",
       "strong multicollinearity or other numerical problems.\n",
       "\"\"\""
      ]
     },
     "execution_count": 32,
     "metadata": {},
     "output_type": "execute_result"
    }
   ],
   "source": [
    "lm.summary()"
   ]
  },
  {
   "cell_type": "markdown",
   "metadata": {},
   "source": [
    "## Linearity \n",
    "The residual and fitted plot showed that the residual increases as the price increase.It is hard to assume linearity and constant variance. "
   ]
  },
  {
   "cell_type": "code",
   "execution_count": 33,
   "metadata": {
    "scrolled": true
   },
   "outputs": [
    {
     "data": {
      "image/png": "[encoded data removed]",
      "text/plain": [
       "<Figure size 432x288 with 1 Axes>"
      ]
     },
     "metadata": {
      "needs_background": "light"
     },
     "output_type": "display_data"
    }
   ],
   "source": [
    "#check linearity,is there systematic relation ship between price and residuals. \n",
    "_=plt.scatter(lm.fittedvalues,lm.resid) # residula is actual minus predcted value\n",
    "_=plt.xlabel(\"Fitted price\")\n",
    "_=plt.ylabel(\"Residual\")\n",
    "_=plt.hlines(0,-100,10**3)\n",
    "#_=plt.xscale(\"log\")\n"
   ]
  },
  {
   "cell_type": "markdown",
   "metadata": {},
   "source": [
    "## Normality assumption \n",
    "The residual plot is skeweed to the right. We may need to use log transformation to reduce the skewness. "
   ]
  },
  {
   "cell_type": "code",
   "execution_count": 34,
   "metadata": {},
   "outputs": [
    {
     "data": {
      "image/png": "[encoded data removed]",
      "text/plain": [
       "<Figure size 432x288 with 1 Axes>"
      ]
     },
     "metadata": {
      "needs_background": "light"
     },
     "output_type": "display_data"
    },
    {
     "data": {
      "image/png": "[encoded data removed]",
      "text/plain": [
       "<Figure size 432x288 with 1 Axes>"
      ]
     },
     "metadata": {
      "needs_background": "light"
     },
     "output_type": "display_data"
    }
   ],
   "source": [
    "#distribution plot\n",
    "sns.distplot(lm.resid)\n",
    "_=plt.title(\"Residual plot\")\n",
    "\n",
    "# normality chack using qqplot, it looks normal with some deviation on larger values.\n",
    "_=sm.qqplot(lm.resid, line=\"q\")\n"
   ]
  },
  {
   "cell_type": "markdown",
   "metadata": {},
   "source": [
    "### Outliers , Leveraging and influencial points\n",
    "Outlier are data points far from the rest of the data. Leveraging points are values that have unusual combination of predictor variables and influencial variables can influence parameter estimation. There are outliers and leveraging values from the data as displayed and computed below."
   ]
  },
  {
   "cell_type": "code",
   "execution_count": 35,
   "metadata": {},
   "outputs": [],
   "source": [
    " from statsmodels.stats import outliers_influence #.OLSInfluence"
   ]
  },
  {
   "cell_type": "code",
   "execution_count": 36,
   "metadata": {},
   "outputs": [
    {
     "data": {
      "image/png": "[encoded data removed]",
      "text/plain": [
       "<Figure size 720x576 with 1 Axes>"
      ]
     },
     "metadata": {
      "needs_background": "light"
     },
     "output_type": "display_data"
    }
   ],
   "source": [
    "# check leveraging values\n",
    "# data points with index  5379,35141, 2626 are leveraging points\n",
    "from statsmodels.graphics.regressionplots import *\n",
    "fig, ax = plt.subplots(figsize=(10,8))\n",
    "_=plot_leverage_resid2(lm, ax = ax)\n"
   ]
  },
  {
   "cell_type": "markdown",
   "metadata": {},
   "source": [
    "### Outliers"
   ]
  },
  {
   "cell_type": "code",
   "execution_count": 37,
   "metadata": {},
   "outputs": [],
   "source": [
    "stud_res= lm.resid_pearson  # residuals\n",
    "stud_res = pd.Series(stud_res) # store in panda series \n",
    "stud_res.index = lm.resid.index # get the index of the residuals\n",
    "\n",
    "# get the index of outliers having studentized residuals above and below 2\n",
    "outlier_index=stud_res[np.abs(stud_res)>2 ].index  \n",
    "outlier_index; # index of outliers"
   ]
  },
  {
   "cell_type": "markdown",
   "metadata": {},
   "source": [
    "### Leveraging points\n",
    " Leveraging points are data points with unusual combination of predictor variables. The first three indices(5379,35141, 2626) contain data containing the largerst minimum_night, the last two(23575, 2808) contain data that are farthest from PennStation. "
   ]
  },
  {
   "cell_type": "code",
   "execution_count": 38,
   "metadata": {},
   "outputs": [],
   "source": [
    "# leveraging indices\n",
    "leverge_index=[5379,35141, 2626, 23575, 2808]"
   ]
  },
  {
   "cell_type": "code",
   "execution_count": 40,
   "metadata": {},
   "outputs": [],
   "source": [
    "# combine the index for outlier are leveraging points\n",
    "out_lev=np.concatenate((outlier_index,leverge_index), axis=0) \n",
    "out_lev=pd.Series(out_lev) # store in panda series \n",
    "out_lev.drop_duplicates(inplace=True) # drop the duplicates of index\n",
    "out_lev=np.array(out_lev) # make array of indices"
   ]
  },
  {
   "cell_type": "code",
   "execution_count": 41,
   "metadata": {},
   "outputs": [
    {
     "data": {
      "image/png": "[encoded data removed]",
      "text/plain": [
       "<Figure size 432x288 with 1 Axes>"
      ]
     },
     "metadata": {
      "needs_background": "light"
     },
     "output_type": "display_data"
    }
   ],
   "source": [
    "#since the cookis distance is below 1 ,there are no  influencial values \n",
    "influence = lm.get_influence()\n",
    "#c is the distance and p is p-value\n",
    "(c, p) = influence.cooks_distance\n",
    "_=plt.stem(np.arange(len(c)), c, markerfmt=\",\", use_line_collection=True)\n",
    "_=plt.ylabel(\"Cook's distance\")\n",
    "#_=plt.xlim((350,370))"
   ]
  },
  {
   "cell_type": "code",
   "execution_count": null,
   "metadata": {},
   "outputs": [],
   "source": [
    "# influence plot, there are lots of outliers\n",
    "# studentized residuals below -2 and above 2 are outliers\n",
    "# \n",
    "_=influence_plot(lm)\n",
    "#_=plt.hlines(-2,0,0.2, linestyles=\"dashed\")\n",
    "#_=plt.hlines(2,0,0.2, linestyles=\"dashed\")"
   ]
  },
  {
   "cell_type": "markdown",
   "metadata": {},
   "source": [
    "## b) Model after taking corrective measures\n",
    "After removing the outliers and leveraging points, and log transformation of outcome variable, the model performs better. "
   ]
  },
  {
   "cell_type": "code",
   "execution_count": 42,
   "metadata": {},
   "outputs": [],
   "source": [
    "# linear model with log transformation of price(outcome variable) and removing outliers and leveraging points \n",
    "no_outlier_data= datalm.drop(out_lev, axis=0)\n",
    "lm_corrected=ols(\"np.log(price) ~ neighb_encoded \\\n",
    "+ minimum_nights + number_of_reviews + reviews_per_month \\\n",
    "+ calculated_host_listings_count+availability_365 +\\\n",
    " +is_hotel + dist_nearest_SubwayEntrance+ dist_from_PennStation\\\n",
    " +neighbourhood_group_Brooklyn+ neighbourhood_group_Manhattan \\\n",
    " + neighbourhood_group_Queens+ neighbourhood_group_Staten_Island\\\n",
    "+ room_type_Hotel_room +  room_type_Private_room+ room_type_Shared_room\", no_outlier_data).fit()"
   ]
  },
  {
   "cell_type": "code",
   "execution_count": 43,
   "metadata": {},
   "outputs": [
    {
     "data": {
      "text/html": [
       "<table class=\"simpletable\">\n",
       "<caption>OLS Regression Results</caption>\n",
       "<tr>\n",
       "  <th>Dep. Variable:</th>      <td>np.log(price)</td>  <th>  R-squared:         </th> <td>   0.610</td> \n",
       "</tr>\n",
       "<tr>\n",
       "  <th>Model:</th>                   <td>OLS</td>       <th>  Adj. R-squared:    </th> <td>   0.610</td> \n",
       "</tr>\n",
       "<tr>\n",
       "  <th>Method:</th>             <td>Least Squares</td>  <th>  F-statistic:       </th> <td>   3324.</td> \n",
       "</tr>\n",
       "<tr>\n",
       "  <th>Date:</th>             <td>Fri, 24 Apr 2020</td> <th>  Prob (F-statistic):</th>  <td>  0.00</td>  \n",
       "</tr>\n",
       "<tr>\n",
       "  <th>Time:</th>                 <td>13:00:16</td>     <th>  Log-Likelihood:    </th> <td> -15195.</td> \n",
       "</tr>\n",
       "<tr>\n",
       "  <th>No. Observations:</th>      <td> 34045</td>      <th>  AIC:               </th> <td>3.042e+04</td>\n",
       "</tr>\n",
       "<tr>\n",
       "  <th>Df Residuals:</th>          <td> 34028</td>      <th>  BIC:               </th> <td>3.057e+04</td>\n",
       "</tr>\n",
       "<tr>\n",
       "  <th>Df Model:</th>              <td>    16</td>      <th>                     </th>     <td> </td>    \n",
       "</tr>\n",
       "<tr>\n",
       "  <th>Covariance Type:</th>      <td>nonrobust</td>    <th>                     </th>     <td> </td>    \n",
       "</tr>\n",
       "</table>\n",
       "<table class=\"simpletable\">\n",
       "<tr>\n",
       "                  <td></td>                     <th>coef</th>     <th>std err</th>      <th>t</th>      <th>P>|t|</th>  <th>[0.025</th>    <th>0.975]</th>  \n",
       "</tr>\n",
       "<tr>\n",
       "  <th>Intercept</th>                         <td>    4.5964</td> <td>    0.020</td> <td>  230.052</td> <td> 0.000</td> <td>    4.557</td> <td>    4.636</td>\n",
       "</tr>\n",
       "<tr>\n",
       "  <th>neighb_encoded</th>                    <td>    0.0038</td> <td> 8.14e-05</td> <td>   46.557</td> <td> 0.000</td> <td>    0.004</td> <td>    0.004</td>\n",
       "</tr>\n",
       "<tr>\n",
       "  <th>minimum_nights</th>                    <td>   -0.0028</td> <td>    0.000</td> <td>  -23.907</td> <td> 0.000</td> <td>   -0.003</td> <td>   -0.003</td>\n",
       "</tr>\n",
       "<tr>\n",
       "  <th>number_of_reviews</th>                 <td>   -0.0002</td> <td> 5.39e-05</td> <td>   -3.416</td> <td> 0.001</td> <td>   -0.000</td> <td>-7.84e-05</td>\n",
       "</tr>\n",
       "<tr>\n",
       "  <th>reviews_per_month</th>                 <td>   -0.0013</td> <td>    0.002</td> <td>   -0.774</td> <td> 0.439</td> <td>   -0.004</td> <td>    0.002</td>\n",
       "</tr>\n",
       "<tr>\n",
       "  <th>calculated_host_listings_count</th>    <td>   -0.0005</td> <td> 6.63e-05</td> <td>   -7.205</td> <td> 0.000</td> <td>   -0.001</td> <td>   -0.000</td>\n",
       "</tr>\n",
       "<tr>\n",
       "  <th>availability_365</th>                  <td>    0.0004</td> <td> 1.66e-05</td> <td>   25.610</td> <td> 0.000</td> <td>    0.000</td> <td>    0.000</td>\n",
       "</tr>\n",
       "<tr>\n",
       "  <th>is_hotel</th>                          <td>    0.5643</td> <td>    0.047</td> <td>   12.050</td> <td> 0.000</td> <td>    0.473</td> <td>    0.656</td>\n",
       "</tr>\n",
       "<tr>\n",
       "  <th>dist_nearest_SubwayEntrance</th>       <td>    0.0170</td> <td>    0.004</td> <td>    4.017</td> <td> 0.000</td> <td>    0.009</td> <td>    0.025</td>\n",
       "</tr>\n",
       "<tr>\n",
       "  <th>dist_from_PennStation</th>             <td>   -0.0159</td> <td>    0.001</td> <td>  -20.148</td> <td> 0.000</td> <td>   -0.017</td> <td>   -0.014</td>\n",
       "</tr>\n",
       "<tr>\n",
       "  <th>neighbourhood_group_Brooklyn</th>      <td>    0.0488</td> <td>    0.014</td> <td>    3.496</td> <td> 0.000</td> <td>    0.021</td> <td>    0.076</td>\n",
       "</tr>\n",
       "<tr>\n",
       "  <th>neighbourhood_group_Manhattan</th>     <td>    0.0779</td> <td>    0.015</td> <td>    5.218</td> <td> 0.000</td> <td>    0.049</td> <td>    0.107</td>\n",
       "</tr>\n",
       "<tr>\n",
       "  <th>neighbourhood_group_Queens</th>        <td>    0.0300</td> <td>    0.015</td> <td>    2.037</td> <td> 0.042</td> <td>    0.001</td> <td>    0.059</td>\n",
       "</tr>\n",
       "<tr>\n",
       "  <th>neighbourhood_group_Staten_Island</th> <td>    0.0240</td> <td>    0.027</td> <td>    0.881</td> <td> 0.378</td> <td>   -0.029</td> <td>    0.077</td>\n",
       "</tr>\n",
       "<tr>\n",
       "  <th>room_type_Hotel_room</th>              <td>   -0.8561</td> <td>    0.052</td> <td>  -16.426</td> <td> 0.000</td> <td>   -0.958</td> <td>   -0.754</td>\n",
       "</tr>\n",
       "<tr>\n",
       "  <th>room_type_Private_room</th>            <td>   -0.6763</td> <td>    0.004</td> <td> -154.331</td> <td> 0.000</td> <td>   -0.685</td> <td>   -0.668</td>\n",
       "</tr>\n",
       "<tr>\n",
       "  <th>room_type_Shared_room</th>             <td>   -1.0875</td> <td>    0.013</td> <td>  -81.270</td> <td> 0.000</td> <td>   -1.114</td> <td>   -1.061</td>\n",
       "</tr>\n",
       "</table>\n",
       "<table class=\"simpletable\">\n",
       "<tr>\n",
       "  <th>Omnibus:</th>       <td>679.451</td> <th>  Durbin-Watson:     </th> <td>   2.011</td> \n",
       "</tr>\n",
       "<tr>\n",
       "  <th>Prob(Omnibus):</th> <td> 0.000</td>  <th>  Jarque-Bera (JB):  </th> <td> 980.641</td> \n",
       "</tr>\n",
       "<tr>\n",
       "  <th>Skew:</th>          <td> 0.231</td>  <th>  Prob(JB):          </th> <td>1.14e-213</td>\n",
       "</tr>\n",
       "<tr>\n",
       "  <th>Kurtosis:</th>      <td> 3.692</td>  <th>  Cond. No.          </th> <td>6.50e+03</td> \n",
       "</tr>\n",
       "</table><br/><br/>Warnings:<br/>[1] Standard Errors assume that the covariance matrix of the errors is correctly specified.<br/>[2] The condition number is large, 6.5e+03. This might indicate that there are<br/>strong multicollinearity or other numerical problems."
      ],
      "text/plain": [
       "<class 'statsmodels.iolib.summary.Summary'>\n",
       "\"\"\"\n",
       "                            OLS Regression Results                            \n",
       "==============================================================================\n",
       "Dep. Variable:          np.log(price)   R-squared:                       0.610\n",
       "Model:                            OLS   Adj. R-squared:                  0.610\n",
       "Method:                 Least Squares   F-statistic:                     3324.\n",
       "Date:                Fri, 24 Apr 2020   Prob (F-statistic):               0.00\n",
       "Time:                        13:00:16   Log-Likelihood:                -15195.\n",
       "No. Observations:               34045   AIC:                         3.042e+04\n",
       "Df Residuals:                   34028   BIC:                         3.057e+04\n",
       "Df Model:                          16                                         \n",
       "Covariance Type:            nonrobust                                         \n",
       "=====================================================================================================\n",
       "                                        coef    std err          t      P>|t|      [0.025      0.975]\n",
       "-----------------------------------------------------------------------------------------------------\n",
       "Intercept                             4.5964      0.020    230.052      0.000       4.557       4.636\n",
       "neighb_encoded                        0.0038   8.14e-05     46.557      0.000       0.004       0.004\n",
       "minimum_nights                       -0.0028      0.000    -23.907      0.000      -0.003      -0.003\n",
       "number_of_reviews                    -0.0002   5.39e-05     -3.416      0.001      -0.000   -7.84e-05\n",
       "reviews_per_month                    -0.0013      0.002     -0.774      0.439      -0.004       0.002\n",
       "calculated_host_listings_count       -0.0005   6.63e-05     -7.205      0.000      -0.001      -0.000\n",
       "availability_365                      0.0004   1.66e-05     25.610      0.000       0.000       0.000\n",
       "is_hotel                              0.5643      0.047     12.050      0.000       0.473       0.656\n",
       "dist_nearest_SubwayEntrance           0.0170      0.004      4.017      0.000       0.009       0.025\n",
       "dist_from_PennStation                -0.0159      0.001    -20.148      0.000      -0.017      -0.014\n",
       "neighbourhood_group_Brooklyn          0.0488      0.014      3.496      0.000       0.021       0.076\n",
       "neighbourhood_group_Manhattan         0.0779      0.015      5.218      0.000       0.049       0.107\n",
       "neighbourhood_group_Queens            0.0300      0.015      2.037      0.042       0.001       0.059\n",
       "neighbourhood_group_Staten_Island     0.0240      0.027      0.881      0.378      -0.029       0.077\n",
       "room_type_Hotel_room                 -0.8561      0.052    -16.426      0.000      -0.958      -0.754\n",
       "room_type_Private_room               -0.6763      0.004   -154.331      0.000      -0.685      -0.668\n",
       "room_type_Shared_room                -1.0875      0.013    -81.270      0.000      -1.114      -1.061\n",
       "==============================================================================\n",
       "Omnibus:                      679.451   Durbin-Watson:                   2.011\n",
       "Prob(Omnibus):                  0.000   Jarque-Bera (JB):              980.641\n",
       "Skew:                           0.231   Prob(JB):                    1.14e-213\n",
       "Kurtosis:                       3.692   Cond. No.                     6.50e+03\n",
       "==============================================================================\n",
       "\n",
       "Warnings:\n",
       "[1] Standard Errors assume that the covariance matrix of the errors is correctly specified.\n",
       "[2] The condition number is large, 6.5e+03. This might indicate that there are\n",
       "strong multicollinearity or other numerical problems.\n",
       "\"\"\""
      ]
     },
     "execution_count": 43,
     "metadata": {},
     "output_type": "execute_result"
    }
   ],
   "source": [
    "lm_corrected.summary()"
   ]
  },
  {
   "cell_type": "markdown",
   "metadata": {},
   "source": [
    "We can further simplify the model by removing the non-significant predictor variables that have large p-values. The variables reviews_per_month and neighbourhood_group_Staten_Island have high p-value. After removing those variables and making a model, we found that the variable neighbourhood_group_Queens has p-value greator than 0.05. Thus, it is removed from the model. The simplified version of the model is as follow. \n",
    " "
   ]
  },
  {
   "cell_type": "code",
   "execution_count": 44,
   "metadata": {},
   "outputs": [],
   "source": [
    "# to be removed , [6876, 7503,10500, 41896, 10156, 2703, 27426]\n",
    "lm_simplified=ols(\"np.log(price) ~ neighb_encoded \\\n",
    "+ minimum_nights + number_of_reviews  \\\n",
    "+ calculated_host_listings_count+availability_365 \\\n",
    " +is_hotel + dist_nearest_SubwayEntrance + dist_from_PennStation\\\n",
    " +neighbourhood_group_Brooklyn+ neighbourhood_group_Manhattan \\\n",
    "+ room_type_Hotel_room +  room_type_Private_room+ room_type_Shared_room\",\\\n",
    "                  no_outlier_data).fit()"
   ]
  },
  {
   "cell_type": "code",
   "execution_count": 45,
   "metadata": {},
   "outputs": [
    {
     "data": {
      "text/html": [
       "<table class=\"simpletable\">\n",
       "<caption>OLS Regression Results</caption>\n",
       "<tr>\n",
       "  <th>Dep. Variable:</th>      <td>np.log(price)</td>  <th>  R-squared:         </th> <td>   0.610</td> \n",
       "</tr>\n",
       "<tr>\n",
       "  <th>Model:</th>                   <td>OLS</td>       <th>  Adj. R-squared:    </th> <td>   0.610</td> \n",
       "</tr>\n",
       "<tr>\n",
       "  <th>Method:</th>             <td>Least Squares</td>  <th>  F-statistic:       </th> <td>   4091.</td> \n",
       "</tr>\n",
       "<tr>\n",
       "  <th>Date:</th>             <td>Fri, 24 Apr 2020</td> <th>  Prob (F-statistic):</th>  <td>  0.00</td>  \n",
       "</tr>\n",
       "<tr>\n",
       "  <th>Time:</th>                 <td>13:00:29</td>     <th>  Log-Likelihood:    </th> <td> -15198.</td> \n",
       "</tr>\n",
       "<tr>\n",
       "  <th>No. Observations:</th>      <td> 34045</td>      <th>  AIC:               </th> <td>3.042e+04</td>\n",
       "</tr>\n",
       "<tr>\n",
       "  <th>Df Residuals:</th>          <td> 34031</td>      <th>  BIC:               </th> <td>3.054e+04</td>\n",
       "</tr>\n",
       "<tr>\n",
       "  <th>Df Model:</th>              <td>    13</td>      <th>                     </th>     <td> </td>    \n",
       "</tr>\n",
       "<tr>\n",
       "  <th>Covariance Type:</th>      <td>nonrobust</td>    <th>                     </th>     <td> </td>    \n",
       "</tr>\n",
       "</table>\n",
       "<table class=\"simpletable\">\n",
       "<tr>\n",
       "                 <td></td>                   <th>coef</th>     <th>std err</th>      <th>t</th>      <th>P>|t|</th>  <th>[0.025</th>    <th>0.975]</th>  \n",
       "</tr>\n",
       "<tr>\n",
       "  <th>Intercept</th>                      <td>    4.6242</td> <td>    0.014</td> <td>  327.907</td> <td> 0.000</td> <td>    4.597</td> <td>    4.652</td>\n",
       "</tr>\n",
       "<tr>\n",
       "  <th>neighb_encoded</th>                 <td>    0.0038</td> <td> 8.06e-05</td> <td>   46.862</td> <td> 0.000</td> <td>    0.004</td> <td>    0.004</td>\n",
       "</tr>\n",
       "<tr>\n",
       "  <th>minimum_nights</th>                 <td>   -0.0027</td> <td>    0.000</td> <td>  -23.988</td> <td> 0.000</td> <td>   -0.003</td> <td>   -0.003</td>\n",
       "</tr>\n",
       "<tr>\n",
       "  <th>number_of_reviews</th>              <td>   -0.0002</td> <td> 4.38e-05</td> <td>   -4.729</td> <td> 0.000</td> <td>   -0.000</td> <td>   -0.000</td>\n",
       "</tr>\n",
       "<tr>\n",
       "  <th>calculated_host_listings_count</th> <td>   -0.0005</td> <td> 6.62e-05</td> <td>   -7.139</td> <td> 0.000</td> <td>   -0.001</td> <td>   -0.000</td>\n",
       "</tr>\n",
       "<tr>\n",
       "  <th>availability_365</th>               <td>    0.0004</td> <td> 1.65e-05</td> <td>   25.651</td> <td> 0.000</td> <td>    0.000</td> <td>    0.000</td>\n",
       "</tr>\n",
       "<tr>\n",
       "  <th>is_hotel</th>                       <td>    0.5650</td> <td>    0.047</td> <td>   12.068</td> <td> 0.000</td> <td>    0.473</td> <td>    0.657</td>\n",
       "</tr>\n",
       "<tr>\n",
       "  <th>dist_nearest_SubwayEntrance</th>    <td>    0.0184</td> <td>    0.004</td> <td>    4.419</td> <td> 0.000</td> <td>    0.010</td> <td>    0.027</td>\n",
       "</tr>\n",
       "<tr>\n",
       "  <th>dist_from_PennStation</th>          <td>   -0.0163</td> <td>    0.001</td> <td>  -21.283</td> <td> 0.000</td> <td>   -0.018</td> <td>   -0.015</td>\n",
       "</tr>\n",
       "<tr>\n",
       "  <th>neighbourhood_group_Brooklyn</th>   <td>    0.0242</td> <td>    0.007</td> <td>    3.630</td> <td> 0.000</td> <td>    0.011</td> <td>    0.037</td>\n",
       "</tr>\n",
       "<tr>\n",
       "  <th>neighbourhood_group_Manhattan</th>  <td>    0.0528</td> <td>    0.008</td> <td>    6.400</td> <td> 0.000</td> <td>    0.037</td> <td>    0.069</td>\n",
       "</tr>\n",
       "<tr>\n",
       "  <th>room_type_Hotel_room</th>           <td>   -0.8566</td> <td>    0.052</td> <td>  -16.438</td> <td> 0.000</td> <td>   -0.959</td> <td>   -0.754</td>\n",
       "</tr>\n",
       "<tr>\n",
       "  <th>room_type_Private_room</th>         <td>   -0.6762</td> <td>    0.004</td> <td> -154.333</td> <td> 0.000</td> <td>   -0.685</td> <td>   -0.668</td>\n",
       "</tr>\n",
       "<tr>\n",
       "  <th>room_type_Shared_room</th>          <td>   -1.0879</td> <td>    0.013</td> <td>  -81.317</td> <td> 0.000</td> <td>   -1.114</td> <td>   -1.062</td>\n",
       "</tr>\n",
       "</table>\n",
       "<table class=\"simpletable\">\n",
       "<tr>\n",
       "  <th>Omnibus:</th>       <td>682.486</td> <th>  Durbin-Watson:     </th> <td>   2.011</td> \n",
       "</tr>\n",
       "<tr>\n",
       "  <th>Prob(Omnibus):</th> <td> 0.000</td>  <th>  Jarque-Bera (JB):  </th> <td> 986.092</td> \n",
       "</tr>\n",
       "<tr>\n",
       "  <th>Skew:</th>          <td> 0.231</td>  <th>  Prob(JB):          </th> <td>7.46e-215</td>\n",
       "</tr>\n",
       "<tr>\n",
       "  <th>Kurtosis:</th>      <td> 3.694</td>  <th>  Cond. No.          </th> <td>6.50e+03</td> \n",
       "</tr>\n",
       "</table><br/><br/>Warnings:<br/>[1] Standard Errors assume that the covariance matrix of the errors is correctly specified.<br/>[2] The condition number is large, 6.5e+03. This might indicate that there are<br/>strong multicollinearity or other numerical problems."
      ],
      "text/plain": [
       "<class 'statsmodels.iolib.summary.Summary'>\n",
       "\"\"\"\n",
       "                            OLS Regression Results                            \n",
       "==============================================================================\n",
       "Dep. Variable:          np.log(price)   R-squared:                       0.610\n",
       "Model:                            OLS   Adj. R-squared:                  0.610\n",
       "Method:                 Least Squares   F-statistic:                     4091.\n",
       "Date:                Fri, 24 Apr 2020   Prob (F-statistic):               0.00\n",
       "Time:                        13:00:29   Log-Likelihood:                -15198.\n",
       "No. Observations:               34045   AIC:                         3.042e+04\n",
       "Df Residuals:                   34031   BIC:                         3.054e+04\n",
       "Df Model:                          13                                         \n",
       "Covariance Type:            nonrobust                                         \n",
       "==================================================================================================\n",
       "                                     coef    std err          t      P>|t|      [0.025      0.975]\n",
       "--------------------------------------------------------------------------------------------------\n",
       "Intercept                          4.6242      0.014    327.907      0.000       4.597       4.652\n",
       "neighb_encoded                     0.0038   8.06e-05     46.862      0.000       0.004       0.004\n",
       "minimum_nights                    -0.0027      0.000    -23.988      0.000      -0.003      -0.003\n",
       "number_of_reviews                 -0.0002   4.38e-05     -4.729      0.000      -0.000      -0.000\n",
       "calculated_host_listings_count    -0.0005   6.62e-05     -7.139      0.000      -0.001      -0.000\n",
       "availability_365                   0.0004   1.65e-05     25.651      0.000       0.000       0.000\n",
       "is_hotel                           0.5650      0.047     12.068      0.000       0.473       0.657\n",
       "dist_nearest_SubwayEntrance        0.0184      0.004      4.419      0.000       0.010       0.027\n",
       "dist_from_PennStation             -0.0163      0.001    -21.283      0.000      -0.018      -0.015\n",
       "neighbourhood_group_Brooklyn       0.0242      0.007      3.630      0.000       0.011       0.037\n",
       "neighbourhood_group_Manhattan      0.0528      0.008      6.400      0.000       0.037       0.069\n",
       "room_type_Hotel_room              -0.8566      0.052    -16.438      0.000      -0.959      -0.754\n",
       "room_type_Private_room            -0.6762      0.004   -154.333      0.000      -0.685      -0.668\n",
       "room_type_Shared_room             -1.0879      0.013    -81.317      0.000      -1.114      -1.062\n",
       "==============================================================================\n",
       "Omnibus:                      682.486   Durbin-Watson:                   2.011\n",
       "Prob(Omnibus):                  0.000   Jarque-Bera (JB):              986.092\n",
       "Skew:                           0.231   Prob(JB):                    7.46e-215\n",
       "Kurtosis:                       3.694   Cond. No.                     6.50e+03\n",
       "==============================================================================\n",
       "\n",
       "Warnings:\n",
       "[1] Standard Errors assume that the covariance matrix of the errors is correctly specified.\n",
       "[2] The condition number is large, 6.5e+03. This might indicate that there are\n",
       "strong multicollinearity or other numerical problems.\n",
       "\"\"\""
      ]
     },
     "execution_count": 45,
     "metadata": {},
     "output_type": "execute_result"
    }
   ],
   "source": [
    "lm_simplified.summary()"
   ]
  },
  {
   "cell_type": "code",
   "execution_count": 46,
   "metadata": {},
   "outputs": [],
   "source": [
    "Xl_test.columns = ['neighb_encoded', 'minimum_nights', 'number_of_reviews',\n",
    "       'reviews_per_month', 'calculated_host_listings_count',\n",
    "       'availability_365', 'is_hotel', 'dist_nearest_SubwayEntrance',\n",
    "       'dist_from_PennStation', 'neighbourhood_group_Brooklyn',\n",
    "       'neighbourhood_group_Manhattan', 'neighbourhood_group_Queens',\n",
    "       'neighbourhood_group_Staten_Island', 'room_type_Hotel_room',\n",
    "       'room_type_Private_room', 'room_type_Shared_room']"
   ]
  },
  {
   "cell_type": "code",
   "execution_count": 111,
   "metadata": {},
   "outputs": [],
   "source": [
    "trainl_corr_pred= lm_simplified.predict(datalm)\n",
    "testl_corr_pred= lm_simplified.predict(Xl_test) # predict for test data"
   ]
  },
  {
   "cell_type": "code",
   "execution_count": 52,
   "metadata": {},
   "outputs": [
    {
     "name": "stdout",
     "output_type": "stream",
     "text": [
      "\u001b[1m Performance of training data\u001b[0m\n",
      "r2 =  0.5550602525995451\n",
      "mean_absolute_error =  0.33059263399830646\n",
      "mean_squared_error =  0.20038930203320043\n",
      "\u001b[1m Performance of test data \u001b[0m\n",
      "r2 =  0.5539342001238523\n",
      "mean_absolute_error =  0.3301990034064161\n",
      "mean_squared_error =  0.20334831111094345\n"
     ]
    },
    {
     "data": {
      "image/png": "[encoded data removed]",
      "text/plain": [
       "<Figure size 720x288 with 2 Axes>"
      ]
     },
     "metadata": {
      "needs_background": "light"
     },
     "output_type": "display_data"
    }
   ],
   "source": [
    "plt.figure(figsize=(10,4))\n",
    "plt.subplot(1,2,1)\n",
    "print(\"\\033[1m Performance of training data\\033[0m\")\n",
    "model_output(np.log(y_train), trainl_pred)\n",
    "plt.title(\"Training data\")\n",
    "\n",
    "plt.subplot(1,2,2)\n",
    "print(\"\\033[1m Performance of test data \\033[0m\")\n",
    "model_output(np.log(y_test),testl_pred)\n",
    "plt.title(\"Test data\")\n",
    "plt.tight_layout()"
   ]
  },
  {
   "cell_type": "markdown",
   "metadata": {},
   "source": [
    "\n",
    "\n",
    "### With log transformation of outcome variable(price) and removing outlier and leveraging points in sklearn\n",
    "The model performed better after logtransformation of target variable(price)."
   ]
  },
  {
   "cell_type": "code",
   "execution_count": 53,
   "metadata": {},
   "outputs": [],
   "source": [
    "yl_train_log=np.log(y_train.drop(out_lev, axis=0)) # log transformation of price for training data\n",
    "yl_test_log= np.log(y_test) # log transformtion of price for test data"
   ]
  },
  {
   "cell_type": "code",
   "execution_count": 54,
   "metadata": {},
   "outputs": [],
   "source": [
    "linear_log= LinearRegression().fit(Xl_train.drop(out_lev, axis=0),yl_train_log)\n",
    "trainl_logpred= linear_log.predict(Xl_train.drop(out_lev, axis=0))\n",
    "testl_logpred=linear_log.predict(Xl_test)\n"
   ]
  },
  {
   "cell_type": "code",
   "execution_count": 55,
   "metadata": {},
   "outputs": [
    {
     "name": "stdout",
     "output_type": "stream",
     "text": [
      "\u001b[1m Performance of training data\u001b[0m\n",
      "r2 =  0.6098272416266359\n",
      "mean_absolute_error =  0.2969734455353672\n",
      "mean_squared_error =  0.1429549407671976\n",
      "\u001b[1m Performance of test data \u001b[0m\n",
      "r2 =  0.5539610375611389\n",
      "mean_absolute_error =  0.3302104155165739\n",
      "mean_squared_error =  0.2033360767106637\n"
     ]
    },
    {
     "data": {
      "image/png": "[encoded data removed]",
      "text/plain": [
       "<Figure size 720x288 with 2 Axes>"
      ]
     },
     "metadata": {
      "needs_background": "light"
     },
     "output_type": "display_data"
    }
   ],
   "source": [
    "plt.figure(figsize=(10,4))\n",
    "plt.subplot(1,2,1)\n",
    "print(\"\\033[1m Performance of training data\\033[0m\")\n",
    "model_output(yl_train_log, trainl_logpred)\n",
    "plt.title(\"Training data\")\n",
    "\n",
    "plt.subplot(1,2,2)\n",
    "print(\"\\033[1m Performance of test data \\033[0m\")\n",
    "model_output(yl_test_log,testl_logpred)\n",
    "plt.title(\"Test data\")\n",
    "plt.tight_layout()"
   ]
  },
  {
   "cell_type": "code",
   "execution_count": 56,
   "metadata": {},
   "outputs": [
    {
     "data": {
      "text/plain": [
       "array([0.6111325 , 0.61148855, 0.61709214, 0.61215972, 0.59302035])"
      ]
     },
     "execution_count": 56,
     "metadata": {},
     "output_type": "execute_result"
    }
   ],
   "source": [
    "# r2 for cross validation with 5-folds \n",
    "cross_val_score(linear_log, Xl_train.drop(out_lev, axis=0),yl_train_log, cv=5 )"
   ]
  },
  {
   "cell_type": "markdown",
   "metadata": {},
   "source": [
    "### 5.2) Lesso regression "
   ]
  },
  {
   "cell_type": "code",
   "execution_count": 57,
   "metadata": {},
   "outputs": [],
   "source": [
    "# fit the model with different alpha value, the optimal alpha will be used to prediction\n",
    "alphas=[0.0001,0.001, 0.01, 0.1, 1,10,20]\n",
    "lassocv = LassoCV(alphas=alphas, cv=4, normalize=True).fit(Xl_train,y_train)"
   ]
  },
  {
   "cell_type": "code",
   "execution_count": 58,
   "metadata": {},
   "outputs": [
    {
     "data": {
      "text/plain": [
       "0.001"
      ]
     },
     "execution_count": 58,
     "metadata": {},
     "output_type": "execute_result"
    }
   ],
   "source": [
    "lassocv.alpha_# the best alpha"
   ]
  },
  {
   "cell_type": "code",
   "execution_count": 59,
   "metadata": {},
   "outputs": [],
   "source": [
    "# using the optimal alpha\n",
    "train_lasso_pred=lassocv.predict(Xl_train)\n",
    "test_lasso_pred=lassocv.predict(Xl_test)"
   ]
  },
  {
   "cell_type": "code",
   "execution_count": 60,
   "metadata": {},
   "outputs": [
    {
     "name": "stdout",
     "output_type": "stream",
     "text": [
      "\u001b[1m Performance of training data\u001b[0m\n",
      "r2 =  0.32652717793095964\n",
      "mean_absolute_error =  55.09072397473016\n",
      "mean_squared_error =  9673.138152307038\n",
      "\u001b[1m Performance of test data \u001b[0m\n",
      "r2 =  0.3262165325026317\n",
      "mean_absolute_error =  56.041298062099685\n",
      "mean_squared_error =  9974.095863268376\n"
     ]
    },
    {
     "data": {
      "image/png": "[encoded data removed]",
      "text/plain": [
       "<Figure size 720x288 with 2 Axes>"
      ]
     },
     "metadata": {
      "needs_background": "light"
     },
     "output_type": "display_data"
    }
   ],
   "source": [
    "plt.figure(figsize=(10,4))\n",
    "plt.subplot(1,2,1)\n",
    "print(\"\\033[1m Performance of training data\\033[0m\")# print in bold\n",
    "model_output(y_train,train_lasso_pred)\n",
    "plt.title(\"Training data\")\n",
    "\n",
    "plt.subplot(1,2,2)\n",
    "print(\"\\033[1m Performance of test data \\033[0m\") # print in bold\n",
    "model_output(y_test,test_lasso_pred)\n",
    "plt.title(\"Test data\")\n",
    "plt.tight_layout()\n"
   ]
  },
  {
   "cell_type": "code",
   "execution_count": 61,
   "metadata": {},
   "outputs": [],
   "source": [
    "lassocv.coef_;"
   ]
  },
  {
   "cell_type": "code",
   "execution_count": 62,
   "metadata": {},
   "outputs": [
    {
     "data": {
      "text/plain": [
       "[('neighb_encoded', 0.7412618702357804),\n",
       " ('minimum_nights', -0.2905442964885181),\n",
       " ('number_of_reviews', -0.12334985017755526),\n",
       " ('reviews_per_month', -0.6610131860797201),\n",
       " ('calculated_host_listings_count', -0.18014850862919357),\n",
       " ('availability_365', 0.1006876735825594),\n",
       " ('is_hotel', 71.9331738298024),\n",
       " ('dist_nearest_SubwayEntrance', 0.0),\n",
       " ('dist_from_PennStation', -1.4539620812255987),\n",
       " ('neighbourhood_group_Brooklyn', -1.1995220882725453),\n",
       " ('neighbourhood_group_Manhattan', 0.823391150933106),\n",
       " ('neighbourhood_group_Queens', 0.0),\n",
       " ('neighbourhood_group_Staten Island', -1.2601131132382255),\n",
       " ('room_type_Hotel room', -79.56276195337824),\n",
       " ('room_type_Private room', -89.22640974985542),\n",
       " ('room_type_Shared room', -111.34423136707319)]"
      ]
     },
     "execution_count": 62,
     "metadata": {},
     "output_type": "execute_result"
    }
   ],
   "source": [
    "list(zip(Xl_train.columns, lassocv.coef_))"
   ]
  },
  {
   "cell_type": "markdown",
   "metadata": {},
   "source": [
    "#### Selected variables using lasso regression "
   ]
  },
  {
   "cell_type": "markdown",
   "metadata": {},
   "source": [
    "['neighb_encoded', 'minimum_nights', 'number_of_reviews',\n",
    "       'reviews_per_month', 'calculated_host_listings_count',\n",
    "       'availability_365', 'dist_from_PennStation', 'neighbourhood_group_Brooklyn',\\\n",
    "        'room_type_Private room', 'room_type_Shared room']\n"
   ]
  },
  {
   "cell_type": "markdown",
   "metadata": {},
   "source": [
    "### 5.3)  K-nearest neighbours regression"
   ]
  },
  {
   "cell_type": "code",
   "execution_count": 65,
   "metadata": {},
   "outputs": [],
   "source": [
    "#from sklearn.neighbors import KNeighborsRegressor"
   ]
  },
  {
   "cell_type": "code",
   "execution_count": 64,
   "metadata": {},
   "outputs": [],
   "source": [
    "# Standardize the training and test data \n",
    "Xzt=zscore(Xl_train)\n",
    "yzt=zscore(y_train)\n",
    "Xz_test=zscore(Xl_test)\n",
    "yz_test=zscore(y_test)"
   ]
  },
  {
   "cell_type": "code",
   "execution_count": 69,
   "metadata": {},
   "outputs": [],
   "source": [
    "# fit the model with differnt k\n",
    "k=np.arange(1,21) # k values \n",
    "kmt=np.empty(len(k))  # preformce of prediction for training data \n",
    "scr=np.empty(len(k))  # performance of prediction for test data\n",
    "for i, n in enumerate(k):\n",
    "    km= KNeighborsRegressor(n_neighbors=n)\n",
    "    km.fit(Xzt,yzt)\n",
    "    kmt[i]=km.score(Xzt,yzt)\n",
    "    scr[i]=km.score(Xz_test,yz_test)  \n",
    "    "
   ]
  },
  {
   "cell_type": "code",
   "execution_count": 70,
   "metadata": {},
   "outputs": [
    {
     "data": {
      "image/png": "[encoded data removed]",
      "text/plain": [
       "<Figure size 432x288 with 1 Axes>"
      ]
     },
     "metadata": {
      "needs_background": "light"
     },
     "output_type": "display_data"
    }
   ],
   "source": [
    "_=plt.plot(k,scr, label=\"test\")\n",
    "_=plt.plot(k,kmt, label=\"train\")\n",
    "_=plt.legend()\n",
    "_=plt.title(\"performance of the model with differnt k\")\n",
    "_=plt.xlabel(\"k\")\n",
    "_=plt.ylabel(\"r2\")"
   ]
  },
  {
   "cell_type": "code",
   "execution_count": 71,
   "metadata": {},
   "outputs": [
    {
     "data": {
      "text/plain": [
       "KNeighborsRegressor(algorithm='auto', leaf_size=30, metric='minkowski',\n",
       "                    metric_params=None, n_jobs=None, n_neighbors=6, p=2,\n",
       "                    weights='uniform')"
      ]
     },
     "execution_count": 71,
     "metadata": {},
     "output_type": "execute_result"
    }
   ],
   "source": [
    "kn= KNeighborsRegressor(n_neighbors=6)\n",
    "kn.fit(Xzt,yzt)"
   ]
  },
  {
   "cell_type": "code",
   "execution_count": 72,
   "metadata": {},
   "outputs": [
    {
     "data": {
      "text/plain": [
       "0.5295882916333371"
      ]
     },
     "execution_count": 72,
     "metadata": {},
     "output_type": "execute_result"
    }
   ],
   "source": [
    "kn.score(Xzt,yzt) # r2 of training data"
   ]
  },
  {
   "cell_type": "code",
   "execution_count": 73,
   "metadata": {},
   "outputs": [
    {
     "data": {
      "text/plain": [
       "0.336829213599911"
      ]
     },
     "execution_count": 73,
     "metadata": {},
     "output_type": "execute_result"
    }
   ],
   "source": [
    "kn.score(Xz_test,yz_test) # r2 of test data"
   ]
  },
  {
   "cell_type": "code",
   "execution_count": 74,
   "metadata": {},
   "outputs": [],
   "source": [
    "kn_train_pred=kn.predict(Xzt)\n",
    "kn_test_pred= kn.predict(Xz_test)"
   ]
  },
  {
   "cell_type": "markdown",
   "metadata": {},
   "source": [
    "## 5.4)  Decision Tree model\n",
    "The encoding done for linear model may not be effective for the tree based algorithem. The categorical variables should be encoded differently here. For room_type and neighbourhood_group variables dummy variables were created for linear models. Using those variables in tree based model is not appropriate. Thus, we need to encode differently. "
   ]
  },
  {
   "cell_type": "markdown",
   "metadata": {},
   "source": [
    "### Prepaire the data for  tree based models\n",
    "**Encode room_type**: Now the room type are assumed ordinal based on their price. The room type in ascending order of expence are shared room, private room, entire home/appartment and hotel room."
   ]
  },
  {
   "cell_type": "code",
   "execution_count": 75,
   "metadata": {},
   "outputs": [
    {
     "data": {
      "text/plain": [
       "room_type\n",
       "Shared room         64.800000\n",
       "Private room        83.673536\n",
       "Entire home/apt    194.101667\n",
       "Hotel room         240.122892\n",
       "Name: price, dtype: float64"
      ]
     },
     "execution_count": 75,
     "metadata": {},
     "output_type": "execute_result"
    }
   ],
   "source": [
    "merged.groupby(\"room_type\")[\"price\"].mean().sort_values()"
   ]
  },
  {
   "cell_type": "code",
   "execution_count": 76,
   "metadata": {},
   "outputs": [
    {
     "name": "stdout",
     "output_type": "stream",
     "text": [
      "{'Shared room': 1, 'Private room': 2, 'Entire home/apt': 3, 'Hotel room': 4}\n"
     ]
    }
   ],
   "source": [
    "# maper to encode room_type \n",
    "room_maper={k: v+1 for v, k in enumerate(['Shared room','Private room', 'Entire home/apt','Hotel room'])}\n",
    "print(room_maper)"
   ]
  },
  {
   "cell_type": "code",
   "execution_count": 77,
   "metadata": {},
   "outputs": [],
   "source": [
    "# encode room types\n",
    "X_train= X_train.copy()\n",
    "X_test= X_test.copy()\n",
    "X_train[\"room_encoded\"]= X_train[\"room_type\"].map(room_maper)\n",
    "X_test[\"room_encoded\"]=X_test[\"room_type\"].map(room_maper)"
   ]
  },
  {
   "cell_type": "markdown",
   "metadata": {},
   "source": [
    "**Encode neighbourhood_group:** The sum of the square of the mean latitude and longitude is used to encode neighbourhood groups. "
   ]
  },
  {
   "cell_type": "code",
   "execution_count": 78,
   "metadata": {},
   "outputs": [],
   "source": [
    "#neighb_encoder = preprocessing.LabelEncoder() #encode alphabetically \n",
    "# neighbr= neighb_encoder.fit_transform(merged[\"neighbourhood_group\"]) "
   ]
  },
  {
   "cell_type": "code",
   "execution_count": 79,
   "metadata": {},
   "outputs": [
    {
     "name": "stderr",
     "output_type": "stream",
     "text": [
      "C:\\Users\\mgaya\\Anaconda3\\lib\\site-packages\\ipykernel_launcher.py:1: FutureWarning: Indexing with multiple keys (implicitly converted to a tuple of keys) will be deprecated, use a list instead.\n",
      "  \"\"\"Entry point for launching an IPython kernel.\n"
     ]
    },
    {
     "data": {
      "text/html": [
       "<div>\n",
       "<style scoped>\n",
       "    .dataframe tbody tr th:only-of-type {\n",
       "        vertical-align: middle;\n",
       "    }\n",
       "\n",
       "    .dataframe tbody tr th {\n",
       "        vertical-align: top;\n",
       "    }\n",
       "\n",
       "    .dataframe thead th {\n",
       "        text-align: right;\n",
       "    }\n",
       "</style>\n",
       "<table border=\"1\" class=\"dataframe\">\n",
       "  <thead>\n",
       "    <tr style=\"text-align: right;\">\n",
       "      <th></th>\n",
       "      <th>neighbourhood_group</th>\n",
       "      <th>latitude</th>\n",
       "      <th>longitude</th>\n",
       "      <th>slope</th>\n",
       "    </tr>\n",
       "  </thead>\n",
       "  <tbody>\n",
       "    <tr>\n",
       "      <th>0</th>\n",
       "      <td>Bronx</td>\n",
       "      <td>40.848570</td>\n",
       "      <td>-73.883476</td>\n",
       "      <td>7127.373670</td>\n",
       "    </tr>\n",
       "    <tr>\n",
       "      <th>1</th>\n",
       "      <td>Brooklyn</td>\n",
       "      <td>40.684420</td>\n",
       "      <td>-73.950757</td>\n",
       "      <td>7123.936515</td>\n",
       "    </tr>\n",
       "    <tr>\n",
       "      <th>2</th>\n",
       "      <td>Manhattan</td>\n",
       "      <td>40.765378</td>\n",
       "      <td>-73.974425</td>\n",
       "      <td>7134.031681</td>\n",
       "    </tr>\n",
       "    <tr>\n",
       "      <th>3</th>\n",
       "      <td>Queens</td>\n",
       "      <td>40.730763</td>\n",
       "      <td>-73.869981</td>\n",
       "      <td>7115.769146</td>\n",
       "    </tr>\n",
       "    <tr>\n",
       "      <th>4</th>\n",
       "      <td>Staten Island</td>\n",
       "      <td>40.611745</td>\n",
       "      <td>-74.104278</td>\n",
       "      <td>7140.757917</td>\n",
       "    </tr>\n",
       "  </tbody>\n",
       "</table>\n",
       "</div>"
      ],
      "text/plain": [
       "  neighbourhood_group   latitude  longitude        slope\n",
       "0               Bronx  40.848570 -73.883476  7127.373670\n",
       "1            Brooklyn  40.684420 -73.950757  7123.936515\n",
       "2           Manhattan  40.765378 -73.974425  7134.031681\n",
       "3              Queens  40.730763 -73.869981  7115.769146\n",
       "4       Staten Island  40.611745 -74.104278  7140.757917"
      ]
     },
     "execution_count": 79,
     "metadata": {},
     "output_type": "execute_result"
    }
   ],
   "source": [
    "neigh_g= merged.groupby(\"neighbourhood_group\")[\"latitude\",\"longitude\"].agg(\"mean\").reset_index()\n",
    "neigh_g[\"slope\"]= neigh_g.latitude**2 +neigh_g.longitude**2 # add slop column\n",
    "neigh_g"
   ]
  },
  {
   "cell_type": "code",
   "execution_count": 80,
   "metadata": {},
   "outputs": [],
   "source": [
    "# create a dictionary to encode neighbourhood group by slope\n",
    "ngroup_mapper= {k:v for k,v in zip(neigh_g[\"neighbourhood_group\"],neigh_g[\"slope\"])}"
   ]
  },
  {
   "cell_type": "code",
   "execution_count": 81,
   "metadata": {},
   "outputs": [],
   "source": [
    "# encode neighbourhood group for both training and test data\n",
    "X_train.loc[:, \"neigh_group_encoded\"]= merged[\"neighbourhood_group\"].map(ngroup_mapper).copy()\n",
    "X_test.loc[:,\"neigh_group_encoded\"]= merged[\"neighbourhood_group\"].map(ngroup_mapper).copy()"
   ]
  },
  {
   "cell_type": "markdown",
   "metadata": {},
   "source": [
    "## Choose best parameter "
   ]
  },
  {
   "cell_type": "code",
   "execution_count": 82,
   "metadata": {},
   "outputs": [],
   "source": [
    "# predictor variables \n",
    "col_t= ['neighb_encoded', 'minimum_nights', 'number_of_reviews', 'reviews_per_month', \n",
    "      'calculated_host_listings_count','availability_365', 'is_hotel', 'dist_nearest_SubwayEntrance',\\\n",
    "        'dist_from_PennStation','neigh_group_encoded',\n",
    "     'room_encoded']"
   ]
  },
  {
   "cell_type": "code",
   "execution_count": 83,
   "metadata": {},
   "outputs": [],
   "source": [
    "# extract the predictor variables for training and test data set\n",
    "Xd_train=X_train[col_t]\n",
    "Xd_test= X_test[col_t]\n",
    "\n",
    "# instanciate the decision tree regressor\n",
    "dt= DecisionTreeRegressor()#criterion='mse',max_depth=6, min_impurity_decrease=2)"
   ]
  },
  {
   "cell_type": "code",
   "execution_count": 84,
   "metadata": {},
   "outputs": [
    {
     "data": {
      "text/plain": [
       "GridSearchCV(cv=4, error_score=nan,\n",
       "             estimator=DecisionTreeRegressor(ccp_alpha=0.0, criterion='mse',\n",
       "                                             max_depth=None, max_features=None,\n",
       "                                             max_leaf_nodes=None,\n",
       "                                             min_impurity_decrease=0.0,\n",
       "                                             min_impurity_split=None,\n",
       "                                             min_samples_leaf=1,\n",
       "                                             min_samples_split=2,\n",
       "                                             min_weight_fraction_leaf=0.0,\n",
       "                                             presort='deprecated',\n",
       "                                             random_state=None,\n",
       "                                             splitter='best'),\n",
       "             iid='deprecated', n_jobs=None,\n",
       "             param_grid=[{'max_depth': array([2, 3, 4, 5, 6, 7, 8, 9])}],\n",
       "             pre_dispatch='2*n_jobs', refit=True, return_train_score=False,\n",
       "             scoring='r2', verbose=0)"
      ]
     },
     "execution_count": 84,
     "metadata": {},
     "output_type": "execute_result"
    }
   ],
   "source": [
    "grid_dt= GridSearchCV(estimator=dt, param_grid=[{\"max_depth\": np.arange(2,10)}],\\\n",
    "                      scoring='r2', cv= 4)\n",
    "grid_dt.fit(Xd_train,y_train)\n"
   ]
  },
  {
   "cell_type": "code",
   "execution_count": 85,
   "metadata": {},
   "outputs": [
    {
     "data": {
      "text/plain": [
       "{'max_depth': 6}"
      ]
     },
     "execution_count": 85,
     "metadata": {},
     "output_type": "execute_result"
    }
   ],
   "source": [
    "grid_dt.best_params_"
   ]
  },
  {
   "cell_type": "code",
   "execution_count": 86,
   "metadata": {},
   "outputs": [],
   "source": [
    "# predict for training and test data\n",
    "dt_train_pred=grid_dt.predict(Xd_train)\n",
    "dt_test_pred=grid_dt.predict(Xd_test)"
   ]
  },
  {
   "cell_type": "code",
   "execution_count": 87,
   "metadata": {},
   "outputs": [
    {
     "name": "stdout",
     "output_type": "stream",
     "text": [
      "\u001b[1m Performance of training data\u001b[0m\n",
      "r2 =  0.3837170345970249\n",
      "mean_absolute_error =  52.235338577579746\n",
      "mean_squared_error =  8851.716164197805\n",
      "\u001b[1m Performance of test data \u001b[0m\n",
      "r2 =  0.35171425541893886\n",
      "mean_absolute_error =  54.03940983269896\n",
      "mean_squared_error =  9596.650074034469\n"
     ]
    },
    {
     "data": {
      "image/png": "[encoded data removed]",
      "text/plain": [
       "<Figure size 720x288 with 2 Axes>"
      ]
     },
     "metadata": {
      "needs_background": "light"
     },
     "output_type": "display_data"
    }
   ],
   "source": [
    "plt.figure(figsize=(10,4))\n",
    "plt.subplot(1,2,1)\n",
    "print(\"\\033[1m Performance of training data\\033[0m\")# print in bold\n",
    "model_output(y_train,dt_train_pred)\n",
    "plt.title(\"Training data\")\n",
    "\n",
    "plt.subplot(1,2,2)\n",
    "print(\"\\033[1m Performance of test data \\033[0m\") # print in bold\n",
    "model_output(y_test,dt_test_pred)\n",
    "plt.title(\"Test data\")\n",
    "plt.tight_layout()\n"
   ]
  },
  {
   "cell_type": "markdown",
   "metadata": {},
   "source": [
    "## 5.5) Random forest "
   ]
  },
  {
   "cell_type": "code",
   "execution_count": 88,
   "metadata": {},
   "outputs": [],
   "source": [
    "# Create RandomForestClassifier object\n",
    "rf = RandomForestRegressor()#n_estimators=15, max_depth=6)\n",
    "#rf.fit(Xd_train,y_train)"
   ]
  },
  {
   "cell_type": "code",
   "execution_count": 89,
   "metadata": {},
   "outputs": [
    {
     "data": {
      "text/plain": [
       "GridSearchCV(cv=4, error_score=nan,\n",
       "             estimator=RandomForestRegressor(bootstrap=True, ccp_alpha=0.0,\n",
       "                                             criterion='mse', max_depth=None,\n",
       "                                             max_features='auto',\n",
       "                                             max_leaf_nodes=None,\n",
       "                                             max_samples=None,\n",
       "                                             min_impurity_decrease=0.0,\n",
       "                                             min_impurity_split=None,\n",
       "                                             min_samples_leaf=1,\n",
       "                                             min_samples_split=2,\n",
       "                                             min_weight_fraction_leaf=0.0,\n",
       "                                             n_estimators=100, n_jobs=None,\n",
       "                                             oob_score=False, random_state=None,\n",
       "                                             verbose=0, warm_start=False),\n",
       "             iid='deprecated', n_jobs=None,\n",
       "             param_grid=[{'max_depth': [2, 3, 4, 5, 6, 7, 8, 9, 10],\n",
       "                          'max_features': [3, 4, 5],\n",
       "                          'n_estimators': [20, 30, 40, 50, 100]}],\n",
       "             pre_dispatch='2*n_jobs', refit=True, return_train_score=False,\n",
       "             scoring='r2', verbose=0)"
      ]
     },
     "execution_count": 89,
     "metadata": {},
     "output_type": "execute_result"
    }
   ],
   "source": [
    "grid_rf= GridSearchCV(estimator=rf, param_grid=[{\"max_depth\": [2,3,4,5,6,7,8,9,10], \\\n",
    "                                                 \"n_estimators\":[20,30,40,50,100],  \"max_features\":[3,4,5]}],\\\n",
    "                      scoring='r2', cv= 4)\n",
    "\n",
    "grid_rf.fit(Xd_train,y_train)"
   ]
  },
  {
   "cell_type": "code",
   "execution_count": 90,
   "metadata": {},
   "outputs": [
    {
     "data": {
      "text/plain": [
       "RandomForestRegressor(bootstrap=True, ccp_alpha=0.0, criterion='mse',\n",
       "                      max_depth=10, max_features=5, max_leaf_nodes=None,\n",
       "                      max_samples=None, min_impurity_decrease=0.0,\n",
       "                      min_impurity_split=None, min_samples_leaf=1,\n",
       "                      min_samples_split=2, min_weight_fraction_leaf=0.0,\n",
       "                      n_estimators=100, n_jobs=None, oob_score=False,\n",
       "                      random_state=None, verbose=0, warm_start=False)"
      ]
     },
     "execution_count": 90,
     "metadata": {},
     "output_type": "execute_result"
    }
   ],
   "source": [
    "grid_rf.best_estimator_\n",
    "#score(Xd_train, y_train)"
   ]
  },
  {
   "cell_type": "code",
   "execution_count": 91,
   "metadata": {},
   "outputs": [
    {
     "data": {
      "text/plain": [
       "array([0.3615537 , 0.34506261, 0.36489269, 0.37686717, 0.37239386])"
      ]
     },
     "execution_count": 91,
     "metadata": {},
     "output_type": "execute_result"
    }
   ],
   "source": [
    "r = RandomForestRegressor(n_estimators=300, max_depth=6,  max_features=4)\n",
    "cross_val_score(r, Xd_train, y_train, cv=5)"
   ]
  },
  {
   "cell_type": "code",
   "execution_count": 92,
   "metadata": {},
   "outputs": [],
   "source": [
    "rf_train_pred=grid_rf.predict(Xd_train)\n",
    "rf_test_pred=grid_rf.predict(Xd_test)"
   ]
  },
  {
   "cell_type": "code",
   "execution_count": 93,
   "metadata": {},
   "outputs": [
    {
     "name": "stdout",
     "output_type": "stream",
     "text": [
      "\u001b[1m Performance of training data\u001b[0m\n",
      "r2 =  0.5530066070994892\n",
      "mean_absolute_error =  45.6932943745313\n",
      "mean_squared_error =  6420.197966432337\n",
      "\u001b[1m Performance of test data \u001b[0m\n",
      "r2 =  0.41587946591267566\n",
      "mean_absolute_error =  51.39356836812804\n",
      "mean_squared_error =  8646.804921364817\n"
     ]
    },
    {
     "data": {
      "image/png": "[encoded data removed]",
      "text/plain": [
       "<Figure size 720x288 with 2 Axes>"
      ]
     },
     "metadata": {
      "needs_background": "light"
     },
     "output_type": "display_data"
    }
   ],
   "source": [
    "plt.figure(figsize=(10,4))\n",
    "plt.subplot(1,2,1)\n",
    "print(\"\\033[1m Performance of training data\\033[0m\")# print in bold\n",
    "model_output(y_train,rf_train_pred)\n",
    "plt.title(\"Training data\")\n",
    "\n",
    "plt.subplot(1,2,2)\n",
    "print(\"\\033[1m Performance of test data \\033[0m\") # print in bold\n",
    "model_output(y_test, rf_test_pred)\n",
    "plt.title(\"Test data\")\n",
    "plt.tight_layout()"
   ]
  },
  {
   "cell_type": "markdown",
   "metadata": {},
   "source": [
    "## 5.6) XGboost "
   ]
  },
  {
   "cell_type": "code",
   "execution_count": null,
   "metadata": {},
   "outputs": [],
   "source": [
    "import xgboost as xgb"
   ]
  },
  {
   "cell_type": "code",
   "execution_count": null,
   "metadata": {},
   "outputs": [],
   "source": [
    "data_matrix= xgb.DMatrix(data=Xd_train,label=y_train)"
   ]
  },
  {
   "cell_type": "code",
   "execution_count": null,
   "metadata": {
    "scrolled": true
   },
   "outputs": [],
   "source": [
    "xg_reg = xgb.XGBRegressor(objective ='reg:squarederror', colsample_bytree = 0.3, learning_rate = 0.6,\n",
    "                max_depth = 6, alpha = 10, n_estimators = 50)"
   ]
  },
  {
   "cell_type": "code",
   "execution_count": 55,
   "metadata": {},
   "outputs": [
    {
     "data": {
      "text/plain": [
       "XGBRegressor(alpha=10, base_score=0.5, booster=None, colsample_bylevel=1,\n",
       "             colsample_bynode=1, colsample_bytree=0.3, gamma=0, gpu_id=-1,\n",
       "             importance_type='gain', interaction_constraints=None,\n",
       "             learning_rate=0.6, max_delta_step=0, max_depth=6,\n",
       "             min_child_weight=1, missing=nan, monotone_constraints=None,\n",
       "             n_estimators=50, n_jobs=0, num_parallel_tree=1,\n",
       "             objective='reg:squarederror', random_state=0, reg_alpha=10,\n",
       "             reg_lambda=1, scale_pos_weight=1, subsample=1, tree_method=None,\n",
       "             validate_parameters=False, verbosity=None)"
      ]
     },
     "execution_count": 55,
     "metadata": {},
     "output_type": "execute_result"
    }
   ],
   "source": [
    "xg_reg.fit(Xd_train,y_train)"
   ]
  },
  {
   "cell_type": "code",
   "execution_count": 56,
   "metadata": {},
   "outputs": [],
   "source": [
    "xg_train_pred= xg_reg.predict(Xd_train)\n",
    "xg_test_pred=xg_reg.predict(Xd_test)"
   ]
  },
  {
   "cell_type": "code",
   "execution_count": 57,
   "metadata": {},
   "outputs": [
    {
     "name": "stdout",
     "output_type": "stream",
     "text": [
      "r2 =  0.3671989452108254\n",
      "mean_absolute_error =  55.03995055331152\n",
      "mean_squared_error =  9367.428391034577\n"
     ]
    },
    {
     "data": {
      "image/png": "[encoded data removed]",
      "text/plain": [
       "<Figure size 432x288 with 1 Axes>"
      ]
     },
     "metadata": {
      "needs_background": "light"
     },
     "output_type": "display_data"
    }
   ],
   "source": [
    "model_output(y_test, xg_test_pred)"
   ]
  },
  {
   "cell_type": "markdown",
   "metadata": {},
   "source": [
    "# Using catboost"
   ]
  },
  {
   "cell_type": "code",
   "execution_count": 95,
   "metadata": {},
   "outputs": [],
   "source": [
    "col_cat=['neighbourhood_group',\n",
    "       'neighbourhood', 'room_type',\n",
    "       'minimum_nights', 'number_of_reviews', \n",
    "       'reviews_per_month', 'calculated_host_listings_count',\n",
    "       'availability_365', 'is_hotel', 'dist_nearest_SubwayEntrance', 'dist_from_PennStation']"
   ]
  },
  {
   "cell_type": "code",
   "execution_count": 96,
   "metadata": {},
   "outputs": [],
   "source": [
    "xcat= clean_ny[col_cat] \n",
    "ycat=clean_ny[\"price\"]\n",
    "Xcat_train, Xcat_test, ycat_train, ycat_test = train_test_split(xcat, ycat,test_size = 0.3, random_state=42)\n",
    " "
   ]
  },
  {
   "cell_type": "code",
   "execution_count": 103,
   "metadata": {},
   "outputs": [
    {
     "name": "stdout",
     "output_type": "stream",
     "text": [
      "0:\tlearn: 100.6401036\ttotal: 14.4ms\tremaining: 417ms\n",
      "1:\tlearn: 97.3752678\ttotal: 31.8ms\tremaining: 445ms\n",
      "2:\tlearn: 96.0971856\ttotal: 44.7ms\tremaining: 402ms\n",
      "3:\tlearn: 95.1685731\ttotal: 95.4ms\tremaining: 620ms\n",
      "4:\tlearn: 94.8091039\ttotal: 124ms\tremaining: 621ms\n",
      "5:\tlearn: 94.0802959\ttotal: 156ms\tremaining: 626ms\n",
      "6:\tlearn: 93.7256047\ttotal: 183ms\tremaining: 601ms\n",
      "7:\tlearn: 93.2266629\ttotal: 216ms\tremaining: 593ms\n",
      "8:\tlearn: 92.9538534\ttotal: 226ms\tremaining: 527ms\n",
      "9:\tlearn: 92.6032098\ttotal: 234ms\tremaining: 469ms\n",
      "10:\tlearn: 92.4415311\ttotal: 254ms\tremaining: 439ms\n",
      "11:\tlearn: 92.2513502\ttotal: 283ms\tremaining: 424ms\n",
      "12:\tlearn: 91.9783332\ttotal: 343ms\tremaining: 448ms\n",
      "13:\tlearn: 91.8097746\ttotal: 358ms\tremaining: 409ms\n",
      "14:\tlearn: 91.4934639\ttotal: 390ms\tremaining: 390ms\n",
      "15:\tlearn: 91.3465314\ttotal: 410ms\tremaining: 358ms\n",
      "16:\tlearn: 91.1599934\ttotal: 439ms\tremaining: 336ms\n",
      "17:\tlearn: 90.9171203\ttotal: 453ms\tremaining: 302ms\n",
      "18:\tlearn: 90.8149938\ttotal: 478ms\tremaining: 277ms\n",
      "19:\tlearn: 90.6159781\ttotal: 508ms\tremaining: 254ms\n",
      "20:\tlearn: 90.3814704\ttotal: 536ms\tremaining: 230ms\n",
      "21:\tlearn: 90.1193209\ttotal: 551ms\tremaining: 200ms\n",
      "22:\tlearn: 89.9018850\ttotal: 557ms\tremaining: 169ms\n",
      "23:\tlearn: 89.7659647\ttotal: 563ms\tremaining: 141ms\n",
      "24:\tlearn: 89.5051922\ttotal: 579ms\tremaining: 116ms\n",
      "25:\tlearn: 89.2917802\ttotal: 593ms\tremaining: 91.3ms\n",
      "26:\tlearn: 89.1041245\ttotal: 605ms\tremaining: 67.2ms\n",
      "27:\tlearn: 88.9464695\ttotal: 641ms\tremaining: 45.8ms\n",
      "28:\tlearn: 88.7961049\ttotal: 647ms\tremaining: 22.3ms\n",
      "29:\tlearn: 88.7128019\ttotal: 658ms\tremaining: 0us\n",
      "[128.08153613 201.67578961 120.27572372 ...  53.15979923 255.94094833\n",
      " 128.28701816]\n"
     ]
    }
   ],
   "source": [
    "\n",
    "# initialize Pool\n",
    "train_pool = Pool(Xcat_train, \n",
    "                  ycat_train, cat_features=[0,1,2])\n",
    "test_pool = Pool(Xcat_test,cat_features=[0,1,2])\n",
    "\n",
    "# specify the training parameters \n",
    "catBR = CatBoostRegressor(iterations=30, \n",
    "                          depth=6, \n",
    "                          learning_rate=0.8, \n",
    "                          loss_function='RMSE')\n",
    "#train the model\n",
    "catBR.fit(train_pool)\n",
    "# make the prediction using the resulting model\n",
    "cat_train_pred = catBR.predict(train_pool)\n",
    "cat_test_pred = catBR.predict(test_pool)\n",
    "print(cat_train_pred)"
   ]
  },
  {
   "cell_type": "code",
   "execution_count": 104,
   "metadata": {},
   "outputs": [
    {
     "data": {
      "text/plain": [
       "array([ 1.88000776,  7.01527025, 39.91417943,  7.6300224 ,  3.67025136,\n",
       "        3.0738726 ,  5.92636019,  8.89332167,  2.09683194,  2.77550637,\n",
       "       17.12437602])"
      ]
     },
     "execution_count": 104,
     "metadata": {},
     "output_type": "execute_result"
    }
   ],
   "source": [
    "catBR.feature_importances_"
   ]
  },
  {
   "cell_type": "code",
   "execution_count": 105,
   "metadata": {},
   "outputs": [
    {
     "name": "stdout",
     "output_type": "stream",
     "text": [
      "r2 =  0.4110794205887274\n",
      "mean_absolute_error =  52.00898138456397\n",
      "mean_squared_error =  8717.860556474001\n"
     ]
    },
    {
     "data": {
      "image/png": "[encoded data removed]",
      "text/plain": [
       "<Figure size 432x288 with 1 Axes>"
      ]
     },
     "metadata": {
      "needs_background": "light"
     },
     "output_type": "display_data"
    }
   ],
   "source": [
    " model_output(ycat_test, cat_test_pred)"
   ]
  },
  {
   "cell_type": "markdown",
   "metadata": {},
   "source": [
    "## Summary "
   ]
  },
  {
   "cell_type": "markdown",
   "metadata": {},
   "source": [
    "The following table shows the summary of models and their preformance. Linear regression with and without corrective action , lasso regression, k-nearest neighbour regression, decision tree regression, random forest ,and catboost was performed. Note that the input data may not be the same for all models. It is adapted according to the nature of the model. For example, for K-nearest neighbour the data was standardized, for decision tree and random forest the input parametrs are encoded differently and for one of the linear model log transformation of price was performed, for catboost model the catagorical variables was feeded as they are (no encoding was performed). The log transformation of price and removal of outlier and leveraging points give better performace than others. \n"
   ]
  },
  {
   "cell_type": "code",
   "execution_count": 117,
   "metadata": {},
   "outputs": [],
   "source": [
    "# models used to train the data\n",
    "models= [\"linear_regresion\", \"lreg_correction\", \"lasso\", \"Knn\", \"Decision_tree\",\\\n",
    "      \"Random_forest\", \"Catboost\"]\n",
    "#trainl_logpred\n",
    "# actual and predicted values of training data for different models \n",
    "train_actual=[y_train, np.log(y_train.drop(out_lev, axis=0)), y_train, yzt, y_train, y_train, ycat_train]\n",
    "train_pred=[trainl_pred,trainl_logpred, train_lasso_pred ,kn_train_pred, dt_train_pred,rf_train_pred,cat_train_pred]\n",
    "\n",
    "\n",
    "#actual and predicted values of training data\n",
    "test_actual=[y_test, np.log(y_test), y_test, yz_test, y_test, y_test, ycat_test]\n",
    "test_pred =[testl_pred, testl_logpred, test_lasso_pred, kn_test_pred , dt_test_pred ,rf_test_pred,cat_test_pred]\n",
    "\n",
    "# placeholders for score\n",
    "r2=[]\n",
    "mean_abs_err=[]\n",
    "mean_sqr_err=[]\n",
    "r2_tst=[]\n",
    "mean_abs_err_tst=[]\n",
    "mean_sqr_err_tst=[]\n",
    "\n",
    "# compute the preformace of training data\n",
    "for obs, pred  in zip(train_actual,train_pred):\n",
    "    #performance measure\n",
    "    r2.append(r2_score(obs, pred)) # r2\n",
    "    mean_abs_err.append( mean_absolute_error(obs, pred))\n",
    "    mean_sqr_err.append(mean_squared_error(obs, pred)) \n",
    "\n",
    "    #compute the performance of test data    \n",
    "for obst, predt  in zip(test_actual,test_pred):\n",
    "    #performance measure\n",
    "    r2_tst.append(r2_score(obst, predt)) # r2\n",
    "    mean_abs_err_tst.append( mean_absolute_error(obst, predt))\n",
    "    mean_sqr_err_tst.append(mean_squared_error(obst, predt))     \n",
    "#for obst, predt in zip(test_actual,test_pred):\n",
    " #   model_output(obst,predt)"
   ]
  },
  {
   "cell_type": "code",
   "execution_count": 118,
   "metadata": {},
   "outputs": [],
   "source": [
    "# collect the performace of the models \n",
    "perf= {\"model\":models, \"r2_train\":r2, \"mean_abs_err_train\":mean_abs_err, \"mean_sqr_err_train\":mean_sqr_err,\\\n",
    "    \"r2_test\" :r2_tst, \"mean_abs_err_test\":mean_abs_err_tst, \"mean_sqr_err_test\":mean_sqr_err_tst}"
   ]
  },
  {
   "cell_type": "code",
   "execution_count": 119,
   "metadata": {},
   "outputs": [
    {
     "data": {
      "text/html": [
       "<div>\n",
       "<style scoped>\n",
       "    .dataframe tbody tr th:only-of-type {\n",
       "        vertical-align: middle;\n",
       "    }\n",
       "\n",
       "    .dataframe tbody tr th {\n",
       "        vertical-align: top;\n",
       "    }\n",
       "\n",
       "    .dataframe thead th {\n",
       "        text-align: right;\n",
       "    }\n",
       "</style>\n",
       "<table border=\"1\" class=\"dataframe\">\n",
       "  <thead>\n",
       "    <tr style=\"text-align: right;\">\n",
       "      <th></th>\n",
       "      <th>r2_train</th>\n",
       "      <th>mean_abs_err_train</th>\n",
       "      <th>mean_sqr_err_train</th>\n",
       "      <th>r2_test</th>\n",
       "      <th>mean_abs_err_test</th>\n",
       "      <th>mean_sqr_err_test</th>\n",
       "    </tr>\n",
       "    <tr>\n",
       "      <th>model</th>\n",
       "      <th></th>\n",
       "      <th></th>\n",
       "      <th></th>\n",
       "      <th></th>\n",
       "      <th></th>\n",
       "      <th></th>\n",
       "    </tr>\n",
       "  </thead>\n",
       "  <tbody>\n",
       "    <tr>\n",
       "      <th>linear_regresion</th>\n",
       "      <td>0.326613</td>\n",
       "      <td>55.147867</td>\n",
       "      <td>9671.908374</td>\n",
       "      <td>0.326493</td>\n",
       "      <td>56.108488</td>\n",
       "      <td>9970.002326</td>\n",
       "    </tr>\n",
       "    <tr>\n",
       "      <th>lreg_correction</th>\n",
       "      <td>0.609827</td>\n",
       "      <td>0.296973</td>\n",
       "      <td>0.142955</td>\n",
       "      <td>0.553961</td>\n",
       "      <td>0.330210</td>\n",
       "      <td>0.203336</td>\n",
       "    </tr>\n",
       "    <tr>\n",
       "      <th>lasso</th>\n",
       "      <td>0.326527</td>\n",
       "      <td>55.090724</td>\n",
       "      <td>9673.138152</td>\n",
       "      <td>0.326217</td>\n",
       "      <td>56.041298</td>\n",
       "      <td>9974.095863</td>\n",
       "    </tr>\n",
       "    <tr>\n",
       "      <th>Knn</th>\n",
       "      <td>0.529588</td>\n",
       "      <td>0.379678</td>\n",
       "      <td>0.470412</td>\n",
       "      <td>0.336829</td>\n",
       "      <td>0.453797</td>\n",
       "      <td>0.663171</td>\n",
       "    </tr>\n",
       "    <tr>\n",
       "      <th>Decision_tree</th>\n",
       "      <td>0.383717</td>\n",
       "      <td>52.235339</td>\n",
       "      <td>8851.716164</td>\n",
       "      <td>0.351714</td>\n",
       "      <td>54.039410</td>\n",
       "      <td>9596.650074</td>\n",
       "    </tr>\n",
       "    <tr>\n",
       "      <th>Random_forest</th>\n",
       "      <td>0.553007</td>\n",
       "      <td>45.693294</td>\n",
       "      <td>6420.197966</td>\n",
       "      <td>0.415879</td>\n",
       "      <td>51.393568</td>\n",
       "      <td>8646.804921</td>\n",
       "    </tr>\n",
       "    <tr>\n",
       "      <th>Catboost</th>\n",
       "      <td>0.448902</td>\n",
       "      <td>50.097362</td>\n",
       "      <td>7915.463695</td>\n",
       "      <td>0.411079</td>\n",
       "      <td>52.008981</td>\n",
       "      <td>8717.860556</td>\n",
       "    </tr>\n",
       "  </tbody>\n",
       "</table>\n",
       "</div>"
      ],
      "text/plain": [
       "                  r2_train  mean_abs_err_train  mean_sqr_err_train   r2_test  \\\n",
       "model                                                                          \n",
       "linear_regresion  0.326613           55.147867         9671.908374  0.326493   \n",
       "lreg_correction   0.609827            0.296973            0.142955  0.553961   \n",
       "lasso             0.326527           55.090724         9673.138152  0.326217   \n",
       "Knn               0.529588            0.379678            0.470412  0.336829   \n",
       "Decision_tree     0.383717           52.235339         8851.716164  0.351714   \n",
       "Random_forest     0.553007           45.693294         6420.197966  0.415879   \n",
       "Catboost          0.448902           50.097362         7915.463695  0.411079   \n",
       "\n",
       "                  mean_abs_err_test  mean_sqr_err_test  \n",
       "model                                                   \n",
       "linear_regresion          56.108488        9970.002326  \n",
       "lreg_correction            0.330210           0.203336  \n",
       "lasso                     56.041298        9974.095863  \n",
       "Knn                        0.453797           0.663171  \n",
       "Decision_tree             54.039410        9596.650074  \n",
       "Random_forest             51.393568        8646.804921  \n",
       "Catboost                  52.008981        8717.860556  "
      ]
     },
     "execution_count": 119,
     "metadata": {},
     "output_type": "execute_result"
    }
   ],
   "source": [
    "pd.DataFrame(perf).set_index(\"model\")"
   ]
  },
  {
   "cell_type": "markdown",
   "metadata": {},
   "source": [
    "## Including all variables  with dummy"
   ]
  },
  {
   "cell_type": "code",
   "execution_count": 121,
   "metadata": {},
   "outputs": [],
   "source": [
    "dumm= pd.get_dummies(clean_ny[[\"neighbourhood_group\", \"room_type\",  'neighbourhood']],drop_first=True)"
   ]
  },
  {
   "cell_type": "code",
   "execution_count": 122,
   "metadata": {},
   "outputs": [],
   "source": [
    "\n",
    "drop=['id', 'name', 'host_id', 'host_name','neighbourhood_group',\n",
    "       'neighbourhood', 'room_type', \"last_review\", 'location']"
   ]
  },
  {
   "cell_type": "code",
   "execution_count": 123,
   "metadata": {},
   "outputs": [],
   "source": [
    "big= pd.concat([clean_ny,dumm], axis=1)"
   ]
  },
  {
   "cell_type": "code",
   "execution_count": 124,
   "metadata": {},
   "outputs": [],
   "source": [
    "big_col=big.drop(\"price\", axis=1).columns"
   ]
  },
  {
   "cell_type": "code",
   "execution_count": 125,
   "metadata": {},
   "outputs": [],
   "source": [
    "predictor=\" + \".join(big_col)\n",
    "formula= \"price ~\" + predictor"
   ]
  },
  {
   "cell_type": "code",
   "execution_count": 126,
   "metadata": {},
   "outputs": [],
   "source": [
    "big.drop(drop, axis=1,inplace=True)\n",
    "#all_columns = \"+\".join(big.columns - [\"price\"])"
   ]
  },
  {
   "cell_type": "code",
   "execution_count": 127,
   "metadata": {},
   "outputs": [],
   "source": [
    "lmm= LinearRegression()"
   ]
  },
  {
   "cell_type": "code",
   "execution_count": 128,
   "metadata": {},
   "outputs": [
    {
     "data": {
      "text/plain": [
       "array([0.27648352, 0.29593822, 0.32449272, 0.34679405, 0.3269105 ])"
      ]
     },
     "execution_count": 128,
     "metadata": {},
     "output_type": "execute_result"
    }
   ],
   "source": [
    "cross_val_score(lmm, big.drop(\"price\", axis=1), big[\"price\"], cv=5 )"
   ]
  },
  {
   "cell_type": "code",
   "execution_count": 89,
   "metadata": {},
   "outputs": [
    {
     "data": {
      "text/plain": [
       "34458    140\n",
       "21470    135\n",
       "24896    120\n",
       "25241    196\n",
       "39046     89\n",
       "        ... \n",
       "11336    130\n",
       "44904     80\n",
       "38289     40\n",
       "863      121\n",
       "15859    125\n",
       "Name: price, Length: 35246, dtype: int64"
      ]
     },
     "execution_count": 89,
     "metadata": {},
     "output_type": "execute_result"
    }
   ],
   "source": [
    "y_train.sample"
   ]
  },
  {
   "cell_type": "code",
   "execution_count": 130,
   "metadata": {},
   "outputs": [
    {
     "name": "stdout",
     "output_type": "stream",
     "text": [
      "0.5626985384772919\n"
     ]
    }
   ],
   "source": [
    "# Baging: using linear regression and log transformation of price, with 100 number of estimators.\n",
    "\n",
    "test_score=np.empty(100)\n",
    "size= datalm.shape[0]\n",
    "for i in range(100):\n",
    "  \n",
    "    sample= datalm.sample(size, replace=True)\n",
    "    xt=sample.drop(\"price\", axis=1)\n",
    "    yt= np.log(sample[\"price\"])\n",
    "    m= LinearRegression().fit(xt,yt)\n",
    "    test_score[i]=  m.score(xt,yt)#(Xl_test,np.log(y_test))\n",
    "    \n",
    "print(sum(test_score)/100)\n",
    "    "
   ]
  },
  {
   "cell_type": "code",
   "execution_count": null,
   "metadata": {},
   "outputs": [],
   "source": []
  }
 ],
 "metadata": {
  "kernelspec": {
   "display_name": "Python 3",
   "language": "python",
   "name": "python3"
  },
  "language_info": {
   "codemirror_mode": {
    "name": "ipython",
    "version": 3
   },
   "file_extension": ".py",
   "mimetype": "text/x-python",
   "name": "python",
   "nbconvert_exporter": "python",
   "pygments_lexer": "ipython3",
   "version": "3.7.6"
  }
 },
 "nbformat": 4,
 "nbformat_minor": 2
}
