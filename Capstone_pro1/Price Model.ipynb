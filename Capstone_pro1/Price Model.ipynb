{
 "cells": [
  {
   "cell_type": "markdown",
   "metadata": {},
   "source": [
    "##   NYC Airbnb data - Modeling the listing price\n",
    "\n",
    "    By Muluemebet Ayalew\n",
    "       March,2020"
   ]
  },
  {
   "cell_type": "code",
   "execution_count": 2,
   "metadata": {},
   "outputs": [],
   "source": [
    "#Important libraries\n",
    "\n",
    "import pandas as pd \n",
    "import matplotlib.pyplot as plt\n",
    "import numpy as np\n",
    "import seaborn as sns\n",
    "from scipy.stats import skew     # to calculate the skewness of numerical columns\n",
    "import statsmodels.api as sm     # to graph QQplot\n",
    "import re                        # to match  regular expression \n",
    "from sklearn import preprocessing  # to use label encoding\n",
    "from sklearn.model_selection import train_test_split # to split the data into training and test set\n",
    "from sklearn.linear_model import LinearRegression    # to make regression model\n",
    "from sklearn.metrics import mean_squared_error, r2_score,  mean_absolute_error # performance measures\n",
    "from catboost import Pool, CatBoostRegressor\n",
    "%matplotlib inline\n"
   ]
  },
  {
   "cell_type": "code",
   "execution_count": null,
   "metadata": {},
   "outputs": [],
   "source": [
    "# to select parameters using cross validation\n",
    "from sklearn.model_selection import GridSearchCV\n",
    "from sklearn.model_selection import cross_val_score\n",
    "from sklearn.tree import DecisionTreeRegressor\n",
    "from sklearn.ensemble import RandomForestRegressor"
   ]
  },
  {
   "cell_type": "code",
   "execution_count": 7,
   "metadata": {},
   "outputs": [],
   "source": [
    "from catboost import Pool, CatBoostRegressor"
   ]
  },
  {
   "cell_type": "markdown",
   "metadata": {},
   "source": [
    "## 1) Get the original and cleaned data "
   ]
  },
  {
   "cell_type": "code",
   "execution_count": 8,
   "metadata": {},
   "outputs": [],
   "source": [
    "#original data downloaded on end of January\n",
    "ny= pd.read_csv(\"listings.csv\", parse_dates=[\"last_review\"]) # read the last_review column as datetime"
   ]
  },
  {
   "cell_type": "code",
   "execution_count": 8,
   "metadata": {},
   "outputs": [
    {
     "data": {
      "text/plain": [
       "Index(['id', 'name', 'host_id', 'host_name', 'neighbourhood_group',\n",
       "       'neighbourhood', 'latitude', 'longitude', 'room_type', 'price',\n",
       "       'minimum_nights', 'number_of_reviews', 'last_review',\n",
       "       'reviews_per_month', 'calculated_host_listings_count',\n",
       "       'availability_365'],\n",
       "      dtype='object')"
      ]
     },
     "execution_count": 8,
     "metadata": {},
     "output_type": "execute_result"
    }
   ],
   "source": [
    "ny.columns  # list of column names"
   ]
  },
  {
   "cell_type": "markdown",
   "metadata": {},
   "source": [
    "## Read the cleaned data \n",
    "This data has non zero price, none NaN for reviews_per_month. New features such as is_hotel, distance from some point of interest."
   ]
  },
  {
   "cell_type": "code",
   "execution_count": 9,
   "metadata": {},
   "outputs": [],
   "source": [
    "# read the cleaned data for further analysis\n",
    "new_ny= pd.read_csv(\"NYC_cleaned.csv\", parse_dates=[\"last_review\"])"
   ]
  },
  {
   "cell_type": "code",
   "execution_count": 10,
   "metadata": {},
   "outputs": [
    {
     "data": {
      "text/plain": [
       "(50583, 22)"
      ]
     },
     "execution_count": 10,
     "metadata": {},
     "output_type": "execute_result"
    }
   ],
   "source": [
    "new_ny.shape # now the shape of the dataframe is changed\n"
   ]
  },
  {
   "cell_type": "code",
   "execution_count": 11,
   "metadata": {},
   "outputs": [
    {
     "data": {
      "text/plain": [
       "Index(['id', 'name', 'host_id', 'host_name', 'neighbourhood_group',\n",
       "       'neighbourhood', 'latitude', 'longitude', 'room_type', 'price',\n",
       "       'minimum_nights', 'number_of_reviews', 'last_review',\n",
       "       'reviews_per_month', 'calculated_host_listings_count',\n",
       "       'availability_365', 'is_hotel', 'location',\n",
       "       'dist_nearest_SubwayStation', 'dist_nearest_SubwayEntrance',\n",
       "       'dist_from_TimeSqr', 'dist_from_PennStation'],\n",
       "      dtype='object')"
      ]
     },
     "execution_count": 11,
     "metadata": {},
     "output_type": "execute_result"
    }
   ],
   "source": [
    "new_ny.columns"
   ]
  },
  {
   "cell_type": "markdown",
   "metadata": {},
   "source": [
    "## 2) Dealing with Outliers \n",
    " \n",
    " The data with price beyond three standard deviation from the mean price are removed from the analysis."
   ]
  },
  {
   "cell_type": "code",
   "execution_count": 12,
   "metadata": {},
   "outputs": [],
   "source": [
    "# removing outliers  beyond three standard deviation from the mean"
   ]
  },
  {
   "cell_type": "code",
   "execution_count": 10,
   "metadata": {},
   "outputs": [],
   "source": [
    "mean_p=new_ny[\"price\"].mean()\n",
    "std_p=new_ny[\"price\"].std()\n",
    "three_sigma= mean_p + (3*std_p)"
   ]
  },
  {
   "cell_type": "code",
   "execution_count": 11,
   "metadata": {},
   "outputs": [
    {
     "data": {
      "text/plain": [
       "1202.6215388898568"
      ]
     },
     "execution_count": 11,
     "metadata": {},
     "output_type": "execute_result"
    }
   ],
   "source": [
    "three_sigma # upper limit for price"
   ]
  },
  {
   "cell_type": "code",
   "execution_count": 76,
   "metadata": {},
   "outputs": [],
   "source": [
    "# detaframe with prices below (mean +3 *standard_deviation)\n",
    "clean_ny= new_ny[new_ny[\"price\"]<three_sigma]"
   ]
  },
  {
   "cell_type": "code",
   "execution_count": 77,
   "metadata": {},
   "outputs": [
    {
     "data": {
      "text/plain": [
       "(50352, 22)"
      ]
     },
     "execution_count": 77,
     "metadata": {},
     "output_type": "execute_result"
    }
   ],
   "source": [
    "# the new dataframe after prices above three standard deviations from the mean removed \n",
    "clean_ny.shape"
   ]
  },
  {
   "cell_type": "markdown",
   "metadata": {},
   "source": [
    "## 3) Feature Encoding \n",
    "\n",
    "The data has catagorical variables. we need to encode those variables.  For the variables neighbourhood_group and room_type, dummy variables are created using pandas method get_dummies(). However, the variable neighbourhood contains 223 unique values and creating dummy makes the model complex and computationaly expensive. A better way to hand this is by using target encoding. The median price for each group is computed and used as a predictor variable. But this has to be done after spliting the data into training and test data. "
   ]
  },
  {
   "cell_type": "markdown",
   "metadata": {},
   "source": [
    "#### Creat dummies for nighbourhood_group and room_type"
   ]
  },
  {
   "cell_type": "code",
   "execution_count": 84,
   "metadata": {},
   "outputs": [
    {
     "data": {
      "text/plain": [
       "Index(['name', 'host_name', 'neighbourhood_group', 'neighbourhood',\n",
       "       'room_type', 'location'],\n",
       "      dtype='object')"
      ]
     },
     "execution_count": 84,
     "metadata": {},
     "output_type": "execute_result"
    }
   ],
   "source": [
    "# get catagorical columns\n",
    "clean_ny.select_dtypes(\"object\").columns"
   ]
  },
  {
   "cell_type": "markdown",
   "metadata": {},
   "source": [
    "Right now, we are interested with neighbourhood_group and room_type. We will deal with neighbourhood later.  "
   ]
  },
  {
   "cell_type": "code",
   "execution_count": 85,
   "metadata": {},
   "outputs": [],
   "source": [
    "#convert neighbourhood_group and room_type into dummy variables\n",
    "neighbourg_room= pd.get_dummies(clean_ny[[\"neighbourhood_group\", \"room_type\"]],drop_first=True)"
   ]
  },
  {
   "cell_type": "code",
   "execution_count": 86,
   "metadata": {},
   "outputs": [
    {
     "data": {
      "text/html": [
       "<div>\n",
       "<style scoped>\n",
       "    .dataframe tbody tr th:only-of-type {\n",
       "        vertical-align: middle;\n",
       "    }\n",
       "\n",
       "    .dataframe tbody tr th {\n",
       "        vertical-align: top;\n",
       "    }\n",
       "\n",
       "    .dataframe thead th {\n",
       "        text-align: right;\n",
       "    }\n",
       "</style>\n",
       "<table border=\"1\" class=\"dataframe\">\n",
       "  <thead>\n",
       "    <tr style=\"text-align: right;\">\n",
       "      <th></th>\n",
       "      <th>neighbourhood_group_Brooklyn</th>\n",
       "      <th>neighbourhood_group_Manhattan</th>\n",
       "      <th>neighbourhood_group_Queens</th>\n",
       "      <th>neighbourhood_group_Staten Island</th>\n",
       "      <th>room_type_Hotel room</th>\n",
       "      <th>room_type_Private room</th>\n",
       "      <th>room_type_Shared room</th>\n",
       "    </tr>\n",
       "  </thead>\n",
       "  <tbody>\n",
       "    <tr>\n",
       "      <th>0</th>\n",
       "      <td>0</td>\n",
       "      <td>1</td>\n",
       "      <td>0</td>\n",
       "      <td>0</td>\n",
       "      <td>0</td>\n",
       "      <td>0</td>\n",
       "      <td>0</td>\n",
       "    </tr>\n",
       "    <tr>\n",
       "      <th>1</th>\n",
       "      <td>1</td>\n",
       "      <td>0</td>\n",
       "      <td>0</td>\n",
       "      <td>0</td>\n",
       "      <td>0</td>\n",
       "      <td>0</td>\n",
       "      <td>0</td>\n",
       "    </tr>\n",
       "  </tbody>\n",
       "</table>\n",
       "</div>"
      ],
      "text/plain": [
       "   neighbourhood_group_Brooklyn  neighbourhood_group_Manhattan  \\\n",
       "0                             0                              1   \n",
       "1                             1                              0   \n",
       "\n",
       "   neighbourhood_group_Queens  neighbourhood_group_Staten Island  \\\n",
       "0                           0                                  0   \n",
       "1                           0                                  0   \n",
       "\n",
       "   room_type_Hotel room  room_type_Private room  room_type_Shared room  \n",
       "0                     0                       0                      0  \n",
       "1                     0                       0                      0  "
      ]
     },
     "execution_count": 86,
     "metadata": {},
     "output_type": "execute_result"
    }
   ],
   "source": [
    "neighbourg_room.head(2)"
   ]
  },
  {
   "cell_type": "code",
   "execution_count": 87,
   "metadata": {},
   "outputs": [],
   "source": [
    "# merge the dataframes with dummy variables to the original data\n",
    "merged= pd.concat([clean_ny,neighbourg_room], axis=1)\n"
   ]
  },
  {
   "cell_type": "code",
   "execution_count": 88,
   "metadata": {},
   "outputs": [
    {
     "data": {
      "text/plain": [
       "(50352, 29)"
      ]
     },
     "execution_count": 88,
     "metadata": {},
     "output_type": "execute_result"
    }
   ],
   "source": [
    "merged.shape # the shape after creating dummy variebles"
   ]
  },
  {
   "cell_type": "markdown",
   "metadata": {},
   "source": [
    "## 4) Split the data into training and test set \n",
    "Before performing target incoding we need to split the data into training and validating. Variables such as distance form Time Square and distance from Penn Station are highly correlated. Only one variable(distance from Penn Station) is included in the analysis. Distance from subwy entrance and distance from subway station are also correlated. Only distance from subwy entrance is included in the model. \n",
    "The whole data set including the response variable is splited into training and test data. To make the follow up modelling easier, the training and test data contains all the variables including variables that will not be included in the model. Base on the need and type of encoding needed for specific algorithm, we will modify or choose predictor variables from the whole list. "
   ]
  },
  {
   "cell_type": "code",
   "execution_count": 138,
   "metadata": {
    "scrolled": true
   },
   "outputs": [],
   "source": [
    "X=merged   # the whole data set\n",
    "y=merged[\"price\"]  # target,response variable\n",
    "\n",
    "# split training(70%) and test data(30%)\n",
    "X_train, X_test, y_train, y_test = train_test_split(X, y,test_size = 0.3, random_state=42)"
   ]
  },
  {
   "cell_type": "code",
   "execution_count": 139,
   "metadata": {},
   "outputs": [
    {
     "data": {
      "text/plain": [
       "(15106, 29)"
      ]
     },
     "execution_count": 139,
     "metadata": {},
     "output_type": "execute_result"
    }
   ],
   "source": [
    "X_test.shape"
   ]
  },
  {
   "cell_type": "code",
   "execution_count": 140,
   "metadata": {},
   "outputs": [
    {
     "data": {
      "text/plain": [
       "(35246, 29)"
      ]
     },
     "execution_count": 140,
     "metadata": {},
     "output_type": "execute_result"
    }
   ],
   "source": [
    "X_train.shape"
   ]
  },
  {
   "cell_type": "markdown",
   "metadata": {},
   "source": [
    "### Target encoding \n",
    "Since nighbourhood has large categories, target encoding is used. Target encoding is performed for both training and test data separately. "
   ]
  },
  {
   "cell_type": "markdown",
   "metadata": {},
   "source": [
    "**Encoding for training data**"
   ]
  },
  {
   "cell_type": "code",
   "execution_count": 141,
   "metadata": {
    "scrolled": true
   },
   "outputs": [
    {
     "name": "stderr",
     "output_type": "stream",
     "text": [
      "C:\\Users\\tayeh\\Anaconda3\\lib\\site-packages\\ipykernel_launcher.py:8: SettingWithCopyWarning: \n",
      "A value is trying to be set on a copy of a slice from a DataFrame.\n",
      "Try using .loc[row_indexer,col_indexer] = value instead\n",
      "\n",
      "See the caveats in the documentation: http://pandas.pydata.org/pandas-docs/stable/indexing.html#indexing-view-versus-copy\n",
      "  \n"
     ]
    },
    {
     "data": {
      "text/html": [
       "<div>\n",
       "<style scoped>\n",
       "    .dataframe tbody tr th:only-of-type {\n",
       "        vertical-align: middle;\n",
       "    }\n",
       "\n",
       "    .dataframe tbody tr th {\n",
       "        vertical-align: top;\n",
       "    }\n",
       "\n",
       "    .dataframe thead th {\n",
       "        text-align: right;\n",
       "    }\n",
       "</style>\n",
       "<table border=\"1\" class=\"dataframe\">\n",
       "  <thead>\n",
       "    <tr style=\"text-align: right;\">\n",
       "      <th></th>\n",
       "      <th>neighbourhood</th>\n",
       "      <th>median price</th>\n",
       "    </tr>\n",
       "  </thead>\n",
       "  <tbody>\n",
       "    <tr>\n",
       "      <th>0</th>\n",
       "      <td>Allerton</td>\n",
       "      <td>65.0</td>\n",
       "    </tr>\n",
       "    <tr>\n",
       "      <th>1</th>\n",
       "      <td>Arden Heights</td>\n",
       "      <td>75.0</td>\n",
       "    </tr>\n",
       "  </tbody>\n",
       "</table>\n",
       "</div>"
      ],
      "text/plain": [
       "   neighbourhood  median price\n",
       "0       Allerton          65.0\n",
       "1  Arden Heights          75.0"
      ]
     },
     "execution_count": 141,
     "metadata": {},
     "output_type": "execute_result"
    }
   ],
   "source": [
    "# # group the neighbourhood by median price\n",
    "train=X_train.groupby(\"neighbourhood\")[\"price\"].agg(\"median\").reset_index()\n",
    "\n",
    "# encode the neighbourhood by its median price \n",
    "train_encoder= {train.neighbourhood[i]: train.price[i] for i in range(train.shape[0])}\n",
    "\n",
    "# map the encoder\n",
    "X_train[\"neighb_encoded\"] = X_train[\"neighbourhood\"].map(train_encoder)\n",
    "\n",
    "# look at the group median price\n",
    "train.columns=['neighbourhood', 'median price']\n",
    "train.head(2) \n"
   ]
  },
  {
   "cell_type": "markdown",
   "metadata": {},
   "source": [
    "**Encoding for test data**"
   ]
  },
  {
   "cell_type": "code",
   "execution_count": 155,
   "metadata": {},
   "outputs": [
    {
     "name": "stderr",
     "output_type": "stream",
     "text": [
      "C:\\Users\\tayeh\\Anaconda3\\lib\\site-packages\\ipykernel_launcher.py:8: SettingWithCopyWarning: \n",
      "A value is trying to be set on a copy of a slice from a DataFrame.\n",
      "Try using .loc[row_indexer,col_indexer] = value instead\n",
      "\n",
      "See the caveats in the documentation: http://pandas.pydata.org/pandas-docs/stable/indexing.html#indexing-view-versus-copy\n",
      "  \n"
     ]
    }
   ],
   "source": [
    "# group the neighbourhood by median price\n",
    "test=X_test.groupby(\"neighbourhood\")[\"price\"].agg(\"median\").reset_index()\n",
    "\n",
    "# encode the neighbourhood by its median price \n",
    "test_encoder= {test.neighbourhood[i]: test.price[i] for i in range(test.shape[0])}\n",
    "\n",
    "# map the encoder\n",
    "X_test[\"neighb_encoded\"] = X_test[\"neighbourhood\"].map(test_encoder) \n"
   ]
  },
  {
   "cell_type": "markdown",
   "metadata": {},
   "source": [
    "\n",
    "\n",
    "## 5) Prediction "
   ]
  },
  {
   "cell_type": "markdown",
   "metadata": {},
   "source": [
    "## 5.1)  Linear model with two senarios"
   ]
  },
  {
   "cell_type": "markdown",
   "metadata": {},
   "source": [
    "   ### a) Without transformation of response variable"
   ]
  },
  {
   "cell_type": "code",
   "execution_count": 301,
   "metadata": {},
   "outputs": [
    {
     "name": "stdout",
     "output_type": "stream",
     "text": [
      "16\n"
     ]
    }
   ],
   "source": [
    "# all the selected features \n",
    "col=['neighb_encoded', 'minimum_nights', 'number_of_reviews', 'reviews_per_month', \\\n",
    "     'calculated_host_listings_count', 'availability_365', 'is_hotel', \\\n",
    "     'dist_nearest_SubwayEntrance','dist_from_PennStation', 'neighbourhood_group_Brooklyn', \\\n",
    "     'neighbourhood_group_Manhattan', 'neighbourhood_group_Queens', \\\n",
    "     'neighbourhood_group_Staten Island', 'room_type_Hotel room', 'room_type_Private room', \\\n",
    "     'room_type_Shared room']\n",
    "print(len(col)) # number of predictor variables"
   ]
  },
  {
   "cell_type": "code",
   "execution_count": 226,
   "metadata": {},
   "outputs": [],
   "source": [
    "# fit with Linear regrassion with the selected predictor variables\n",
    "Xl_train= X_train[col]\n",
    "Xl_test= X_test[col]\n",
    "linear=LinearRegression().fit(Xl_train,y_train)"
   ]
  },
  {
   "cell_type": "code",
   "execution_count": 227,
   "metadata": {},
   "outputs": [
    {
     "data": {
      "text/plain": [
       "104.77097679367517"
      ]
     },
     "execution_count": 227,
     "metadata": {},
     "output_type": "execute_result"
    }
   ],
   "source": [
    "linear.intercept_ # the intercept of the model"
   ]
  },
  {
   "cell_type": "code",
   "execution_count": 228,
   "metadata": {},
   "outputs": [
    {
     "data": {
      "text/plain": [
       "array([ 7.40943597e-01, -3.03421588e-01, -1.26654926e-01, -7.80395069e-01,\n",
       "       -1.90318261e-01,  1.03350296e-01,  8.90926892e+01,  3.30930967e-01,\n",
       "       -1.48575722e+00,  1.56305308e-01,  2.54372795e+00,  1.98510337e+00,\n",
       "       -2.15383130e+00, -9.97734541e+01, -8.97841223e+01, -1.12923879e+02])"
      ]
     },
     "execution_count": 228,
     "metadata": {},
     "output_type": "execute_result"
    }
   ],
   "source": [
    "linear.coef_ # the coeficients of predictor variables"
   ]
  },
  {
   "cell_type": "code",
   "execution_count": 230,
   "metadata": {},
   "outputs": [],
   "source": [
    "# Predict for training data\n",
    "trainl_pred=linear.predict(Xl_train)\n",
    "\n",
    "#predict for test data\n",
    "testl_pred= linear.predict(Xl_test)"
   ]
  },
  {
   "cell_type": "markdown",
   "metadata": {},
   "source": [
    "### See the performance of the model for training and test data"
   ]
  },
  {
   "cell_type": "code",
   "execution_count": 208,
   "metadata": {},
   "outputs": [],
   "source": [
    "def model_output(y_true, y_pred):\n",
    "    _=plt.scatter(y_true, y_pred) # see the predicted and actual values\n",
    "    _=plt.xlabel(\"Actual\")\n",
    "    _=plt.ylabel(\"Predicted\")\n",
    "    \n",
    "    #performance measure\n",
    "    print(\"r2 = \",r2_score(y_true,y_pred)) # r2\n",
    "    print(\"mean_absolute_error = \", mean_absolute_error(y_true,y_pred))\n",
    "    print(\"mean_squared_error = \", mean_squared_error(y_true, y_pred))    \n",
    "    "
   ]
  },
  {
   "cell_type": "code",
   "execution_count": 231,
   "metadata": {},
   "outputs": [
    {
     "name": "stdout",
     "output_type": "stream",
     "text": [
      "\u001b[1m Performance of training data\u001b[0m\n",
      "r2 =  0.3266127987865659\n",
      "mean_absolute_error =  55.14786732246461\n",
      "mean_squared_error =  9671.908373854429\n",
      "\u001b[1m Performance of test data \u001b[0m\n",
      "r2 =  0.32649306462170424\n",
      "mean_absolute_error =  56.10848811973172\n",
      "mean_squared_error =  9970.002325807229\n"
     ]
    },
    {
     "data": {
      "image/png": "[encoded data removed]",
      "text/plain": [
       "<Figure size 720x288 with 2 Axes>"
      ]
     },
     "metadata": {
      "needs_background": "light"
     },
     "output_type": "display_data"
    }
   ],
   "source": [
    "plt.figure(figsize=(10,4))\n",
    "plt.subplot(1,2,1)\n",
    "print(\"\\033[1m Performance of training data\\033[0m\")# print in bold\n",
    "model_output(y_train,trainl_pred)\n",
    "plt.title(\"Training data\")\n",
    "\n",
    "plt.subplot(1,2,2)\n",
    "print(\"\\033[1m Performance of test data \\033[0m\") # print in bold\n",
    "model_output(y_test,testl_pred)\n",
    "plt.title(\"Test data\")\n",
    "plt.tight_layout()\n"
   ]
  },
  {
   "cell_type": "markdown",
   "metadata": {},
   "source": [
    "\n",
    "\n",
    "### b) With log transformation of outcome variable(price)¶\n",
    "The model performed better after logtransformation of target variable(price)."
   ]
  },
  {
   "cell_type": "code",
   "execution_count": 232,
   "metadata": {},
   "outputs": [],
   "source": [
    "yl_train_log=np.log(y_train) # log transformation of price for training data\n",
    "yl_test_log= np.log(y_test) # log transformtion of price for test data"
   ]
  },
  {
   "cell_type": "code",
   "execution_count": 233,
   "metadata": {},
   "outputs": [],
   "source": [
    "linear_log= LinearRegression().fit(Xl_train,yl_train_log)\n",
    "trainl_logpred= linear_log.predict(Xl_train)\n",
    "testl_logpred=linear_log.predict(Xl_test)"
   ]
  },
  {
   "cell_type": "code",
   "execution_count": 234,
   "metadata": {
    "scrolled": true
   },
   "outputs": [
    {
     "name": "stdout",
     "output_type": "stream",
     "text": [
      "\u001b[1m Performance of training data\u001b[0m\n",
      "r2 =  0.5622792943910813\n",
      "mean_absolute_error =  0.3327839020834781\n",
      "mean_squared_error =  0.19713803317172812\n",
      "\u001b[1m Performance of test data \u001b[0m\n",
      "r2 =  0.5622516523876205\n",
      "mean_absolute_error =  0.33292308199651416\n",
      "mean_squared_error =  0.19955662864828258\n"
     ]
    },
    {
     "data": {
      "image/png": "[encoded data removed]",
      "text/plain": [
       "<Figure size 720x288 with 2 Axes>"
      ]
     },
     "metadata": {
      "needs_background": "light"
     },
     "output_type": "display_data"
    }
   ],
   "source": [
    "plt.figure(figsize=(10,4))\n",
    "plt.subplot(1,2,1)\n",
    "print(\"\\033[1m Performance of training data\\033[0m\")\n",
    "model_output(yl_train_log, trainl_logpred)\n",
    "plt.title(\"Training data\")\n",
    "\n",
    "plt.subplot(1,2,2)\n",
    "print(\"\\033[1m Performance of test data \\033[0m\")\n",
    "model_output(yl_test_log,testl_logpred)\n",
    "plt.title(\"Test data\")\n",
    "plt.tight_layout()"
   ]
  },
  {
   "cell_type": "markdown",
   "metadata": {},
   "source": [
    "## 5.2)  Decision Tree model"
   ]
  },
  {
   "cell_type": "markdown",
   "metadata": {},
   "source": [
    "The encoding done for linear model may not be effective for the tree based algorithem. The categorical variables should be encoded differently here."
   ]
  },
  {
   "cell_type": "markdown",
   "metadata": {},
   "source": [
    "**Encode room_type:** Now the room type are assumed ordinal based on their price. The room type in ascending order of expence are shared room, private room, entire home/appartment and hotel room."
   ]
  },
  {
   "cell_type": "code",
   "execution_count": 165,
   "metadata": {},
   "outputs": [
    {
     "data": {
      "text/plain": [
       "room_type\n",
       "Shared room         64.800000\n",
       "Private room        83.673536\n",
       "Entire home/apt    194.101667\n",
       "Hotel room         240.122892\n",
       "Name: price, dtype: float64"
      ]
     },
     "execution_count": 165,
     "metadata": {},
     "output_type": "execute_result"
    }
   ],
   "source": [
    "merged.groupby(\"room_type\")[\"price\"].mean().sort_values()"
   ]
  },
  {
   "cell_type": "code",
   "execution_count": 235,
   "metadata": {},
   "outputs": [
    {
     "name": "stdout",
     "output_type": "stream",
     "text": [
      "{'Shared room': 1, 'Private room': 2, 'Entire home/apt': 3, 'Hotel room': 4}\n"
     ]
    }
   ],
   "source": [
    "# maper to encode room_type \n",
    "room_maper={k: v+1 for v, k in enumerate(['Shared room','Private room', 'Entire home/apt','Hotel room'])}\n",
    "print(room_maper)"
   ]
  },
  {
   "cell_type": "code",
   "execution_count": 241,
   "metadata": {},
   "outputs": [
    {
     "name": "stderr",
     "output_type": "stream",
     "text": [
      "C:\\Users\\tayeh\\Anaconda3\\lib\\site-packages\\ipykernel_launcher.py:2: SettingWithCopyWarning: \n",
      "A value is trying to be set on a copy of a slice from a DataFrame.\n",
      "Try using .loc[row_indexer,col_indexer] = value instead\n",
      "\n",
      "See the caveats in the documentation: http://pandas.pydata.org/pandas-docs/stable/indexing.html#indexing-view-versus-copy\n",
      "  \n",
      "C:\\Users\\tayeh\\Anaconda3\\lib\\site-packages\\ipykernel_launcher.py:3: SettingWithCopyWarning: \n",
      "A value is trying to be set on a copy of a slice from a DataFrame.\n",
      "Try using .loc[row_indexer,col_indexer] = value instead\n",
      "\n",
      "See the caveats in the documentation: http://pandas.pydata.org/pandas-docs/stable/indexing.html#indexing-view-versus-copy\n",
      "  This is separate from the ipykernel package so we can avoid doing imports until\n"
     ]
    }
   ],
   "source": [
    "# encode room types\n",
    "X_train[\"room_encoded\"]= X_train[\"room_type\"].map(room_maper)\n",
    "X_test[\"room_encoded\"]=X_test[\"room_type\"].map(room_maper)"
   ]
  },
  {
   "cell_type": "markdown",
   "metadata": {},
   "source": [
    "**Encode neighbourhood_group:** The sum of the square of the mean latitude and longitude is used to encode neighbourhood groups. "
   ]
  },
  {
   "cell_type": "code",
   "execution_count": 236,
   "metadata": {},
   "outputs": [],
   "source": [
    "#neighb_encoder = preprocessing.LabelEncoder() #encode alphabetically \n",
    "# neighbr= neighb_encoder.fit_transform(merged[\"neighbourhood_group\"]) "
   ]
  },
  {
   "cell_type": "code",
   "execution_count": 290,
   "metadata": {},
   "outputs": [
    {
     "data": {
      "text/html": [
       "<div>\n",
       "<style scoped>\n",
       "    .dataframe tbody tr th:only-of-type {\n",
       "        vertical-align: middle;\n",
       "    }\n",
       "\n",
       "    .dataframe tbody tr th {\n",
       "        vertical-align: top;\n",
       "    }\n",
       "\n",
       "    .dataframe thead th {\n",
       "        text-align: right;\n",
       "    }\n",
       "</style>\n",
       "<table border=\"1\" class=\"dataframe\">\n",
       "  <thead>\n",
       "    <tr style=\"text-align: right;\">\n",
       "      <th></th>\n",
       "      <th>neighbourhood_group</th>\n",
       "      <th>latitude</th>\n",
       "      <th>longitude</th>\n",
       "      <th>slope</th>\n",
       "    </tr>\n",
       "  </thead>\n",
       "  <tbody>\n",
       "    <tr>\n",
       "      <th>0</th>\n",
       "      <td>Bronx</td>\n",
       "      <td>40.848570</td>\n",
       "      <td>-73.883476</td>\n",
       "      <td>7127.373670</td>\n",
       "    </tr>\n",
       "    <tr>\n",
       "      <th>1</th>\n",
       "      <td>Brooklyn</td>\n",
       "      <td>40.684420</td>\n",
       "      <td>-73.950757</td>\n",
       "      <td>7123.936515</td>\n",
       "    </tr>\n",
       "    <tr>\n",
       "      <th>2</th>\n",
       "      <td>Manhattan</td>\n",
       "      <td>40.765378</td>\n",
       "      <td>-73.974425</td>\n",
       "      <td>7134.031681</td>\n",
       "    </tr>\n",
       "    <tr>\n",
       "      <th>3</th>\n",
       "      <td>Queens</td>\n",
       "      <td>40.730763</td>\n",
       "      <td>-73.869981</td>\n",
       "      <td>7115.769146</td>\n",
       "    </tr>\n",
       "    <tr>\n",
       "      <th>4</th>\n",
       "      <td>Staten Island</td>\n",
       "      <td>40.611745</td>\n",
       "      <td>-74.104278</td>\n",
       "      <td>7140.757917</td>\n",
       "    </tr>\n",
       "  </tbody>\n",
       "</table>\n",
       "</div>"
      ],
      "text/plain": [
       "  neighbourhood_group   latitude  longitude        slope\n",
       "0               Bronx  40.848570 -73.883476  7127.373670\n",
       "1            Brooklyn  40.684420 -73.950757  7123.936515\n",
       "2           Manhattan  40.765378 -73.974425  7134.031681\n",
       "3              Queens  40.730763 -73.869981  7115.769146\n",
       "4       Staten Island  40.611745 -74.104278  7140.757917"
      ]
     },
     "execution_count": 290,
     "metadata": {},
     "output_type": "execute_result"
    }
   ],
   "source": [
    "neigh_g= merged.groupby(\"neighbourhood_group\")[\"latitude\",\"longitude\"].agg(\"mean\").reset_index()\n",
    "neigh_g[\"slope\"]= neigh_g.latitude**2 +neigh_g.longitude**2 # add slop column\n",
    "neigh_g"
   ]
  },
  {
   "cell_type": "code",
   "execution_count": 291,
   "metadata": {},
   "outputs": [],
   "source": [
    "# create a dictionary to encode neighbourhood group by slope\n",
    "ngroup_mapper= {k:v for k,v in zip(neigh_g[\"neighbourhood_group\"],neigh_g[\"slope\"])}"
   ]
  },
  {
   "cell_type": "code",
   "execution_count": 292,
   "metadata": {},
   "outputs": [
    {
     "name": "stderr",
     "output_type": "stream",
     "text": [
      "C:\\Users\\tayeh\\Anaconda3\\lib\\site-packages\\ipykernel_launcher.py:2: SettingWithCopyWarning: \n",
      "A value is trying to be set on a copy of a slice from a DataFrame.\n",
      "Try using .loc[row_indexer,col_indexer] = value instead\n",
      "\n",
      "See the caveats in the documentation: http://pandas.pydata.org/pandas-docs/stable/indexing.html#indexing-view-versus-copy\n",
      "  \n",
      "C:\\Users\\tayeh\\Anaconda3\\lib\\site-packages\\ipykernel_launcher.py:3: SettingWithCopyWarning: \n",
      "A value is trying to be set on a copy of a slice from a DataFrame.\n",
      "Try using .loc[row_indexer,col_indexer] = value instead\n",
      "\n",
      "See the caveats in the documentation: http://pandas.pydata.org/pandas-docs/stable/indexing.html#indexing-view-versus-copy\n",
      "  This is separate from the ipykernel package so we can avoid doing imports until\n"
     ]
    }
   ],
   "source": [
    "# encode neighbourhood group for both training and test data\n",
    "X_train[\"neigh_group_encoded\"]= merged[\"neighbourhood_group\"].map(ngroup_mapper)\n",
    "X_test[\"neigh_group_encoded\"]= merged[\"neighbourhood_group\"].map(ngroup_mapper)"
   ]
  },
  {
   "cell_type": "code",
   "execution_count": 297,
   "metadata": {},
   "outputs": [],
   "source": [
    "#note that the neighbourhood is note included\n",
    "col_t= ['neighb_encoded', 'minimum_nights', 'number_of_reviews', 'reviews_per_month', \n",
    "      'calculated_host_listings_count','availability_365', 'is_hotel', 'dist_nearest_SubwayEntrance',\\\n",
    "        'dist_from_PennStation','neigh_group_encoded',\n",
    "     'room_encoded']"
   ]
  },
  {
   "cell_type": "code",
   "execution_count": 298,
   "metadata": {},
   "outputs": [],
   "source": [
    "# extract the predictor variables for training and test data set\n",
    "Xd_train=X_train[col_t]\n",
    "Xd_test= X_test[col_t]"
   ]
  },
  {
   "cell_type": "code",
   "execution_count": 302,
   "metadata": {},
   "outputs": [],
   "source": [
    "# to select parameters using cross validation\n",
    "from sklearn.model_selection import GridSearchCV\n",
    "from sklearn.model_selection import cross_val_score\n",
    "from sklearn.tree import DecisionTreeRegressor\n",
    "from sklearn.ensemble import RandomForestRegressor"
   ]
  },
  {
   "cell_type": "code",
   "execution_count": 303,
   "metadata": {},
   "outputs": [
    {
     "data": {
      "text/plain": [
       "DecisionTreeRegressor(criterion='mse', max_depth=10, max_features=None,\n",
       "                      max_leaf_nodes=None, min_impurity_decrease=2,\n",
       "                      min_impurity_split=None, min_samples_leaf=1,\n",
       "                      min_samples_split=2, min_weight_fraction_leaf=0.0,\n",
       "                      presort=False, random_state=None, splitter='best')"
      ]
     },
     "execution_count": 303,
     "metadata": {},
     "output_type": "execute_result"
    }
   ],
   "source": [
    "dt= DecisionTreeRegressor(criterion='mse',max_depth=10, min_impurity_decrease=2)\n",
    "dt.fit(Xd_train, y_train)"
   ]
  },
  {
   "cell_type": "code",
   "execution_count": 304,
   "metadata": {},
   "outputs": [],
   "source": [
    "dt_train_pred=dt.predict(Xd_train)\n",
    "dt_test_pred=dt.predict(Xd_test)"
   ]
  },
  {
   "cell_type": "code",
   "execution_count": null,
   "metadata": {},
   "outputs": [],
   "source": [
    "r2 =  0.4957410528352886\n",
    "mean_absolute_error =  48.301462209139224\n",
    "mean_squared_error =  7242.70720453974\n",
    " Performance of test data \n",
    "r2 =  0.3363708750577923\n",
    "mean_absolute_error =  52.88232812168564\n",
    "mean_squared_error =  9823.779936922152"
   ]
  },
  {
   "cell_type": "code",
   "execution_count": 305,
   "metadata": {},
   "outputs": [
    {
     "name": "stdout",
     "output_type": "stream",
     "text": [
      "\u001b[1m Performance of training data\u001b[0m\n",
      "r2 =  0.49819703721951036\n",
      "mean_absolute_error =  48.20820824281603\n",
      "mean_squared_error =  7207.4317257527855\n",
      "\u001b[1m Performance of test data \u001b[0m\n",
      "r2 =  0.168319028053164\n",
      "mean_absolute_error =  56.82133644826614\n",
      "mean_squared_error =  12311.471180296301\n"
     ]
    },
    {
     "data": {
      "image/png": "[encoded data removed]",
      "text/plain": [
       "<Figure size 720x288 with 2 Axes>"
      ]
     },
     "metadata": {
      "needs_background": "light"
     },
     "output_type": "display_data"
    }
   ],
   "source": [
    "plt.figure(figsize=(10,4))\n",
    "plt.subplot(1,2,1)\n",
    "print(\"\\033[1m Performance of training data\\033[0m\")# print in bold\n",
    "model_output(y_train,dt_train_pred)\n",
    "plt.title(\"Training data\")\n",
    "\n",
    "plt.subplot(1,2,2)\n",
    "print(\"\\033[1m Performance of test data \\033[0m\") # print in bold\n",
    "model_output(y_test,dt_test_pred)\n",
    "plt.title(\"Test data\")\n",
    "plt.tight_layout()\n"
   ]
  },
  {
   "cell_type": "code",
   "execution_count": null,
   "metadata": {},
   "outputs": [],
   "source": []
  },
  {
   "cell_type": "markdown",
   "metadata": {},
   "source": [
    "## Random forest "
   ]
  },
  {
   "cell_type": "code",
   "execution_count": 314,
   "metadata": {},
   "outputs": [
    {
     "data": {
      "text/plain": [
       "RandomForestRegressor(bootstrap=True, criterion='mse', max_depth=4,\n",
       "                      max_features='auto', max_leaf_nodes=None,\n",
       "                      min_impurity_decrease=0.0, min_impurity_split=None,\n",
       "                      min_samples_leaf=1, min_samples_split=2,\n",
       "                      min_weight_fraction_leaf=0.0, n_estimators=7, n_jobs=None,\n",
       "                      oob_score=False, random_state=None, verbose=0,\n",
       "                      warm_start=False)"
      ]
     },
     "execution_count": 314,
     "metadata": {},
     "output_type": "execute_result"
    }
   ],
   "source": [
    "# Create RandomForestClassifier object\n",
    "rf = RandomForestRegressor(n_estimators=7, max_depth=4)\n",
    "rf.fit(Xd_train,y_train)"
   ]
  },
  {
   "cell_type": "code",
   "execution_count": 315,
   "metadata": {},
   "outputs": [],
   "source": [
    "rf_train_pred=dt.predict(Xd_train)\n",
    "rf_test_pred=dt.predict(Xd_test)"
   ]
  },
  {
   "cell_type": "code",
   "execution_count": 316,
   "metadata": {},
   "outputs": [
    {
     "name": "stdout",
     "output_type": "stream",
     "text": [
      "\u001b[1m Performance of training data\u001b[0m\n",
      "r2 =  0.49819703721951036\n",
      "mean_absolute_error =  48.20820824281603\n",
      "mean_squared_error =  7207.4317257527855\n",
      "\u001b[1m Performance of test data \u001b[0m\n",
      "r2 =  0.168319028053164\n",
      "mean_absolute_error =  56.82133644826614\n",
      "mean_squared_error =  12311.471180296301\n"
     ]
    },
    {
     "data": {
      "image/png": "[encoded data removed]",
      "text/plain": [
       "<Figure size 720x288 with 2 Axes>"
      ]
     },
     "metadata": {
      "needs_background": "light"
     },
     "output_type": "display_data"
    }
   ],
   "source": [
    "plt.figure(figsize=(10,4))\n",
    "plt.subplot(1,2,1)\n",
    "print(\"\\033[1m Performance of training data\\033[0m\")# print in bold\n",
    "model_output(y_train,rf_train_pred)\n",
    "plt.title(\"Training data\")\n",
    "\n",
    "plt.subplot(1,2,2)\n",
    "print(\"\\033[1m Performance of test data \\033[0m\") # print in bold\n",
    "model_output(y_test, rf_test_pred)\n",
    "plt.title(\"Test data\")\n",
    "plt.tight_layout()"
   ]
  },
  {
   "cell_type": "code",
   "execution_count": 317,
   "metadata": {},
   "outputs": [
    {
     "ename": "ValueError",
     "evalue": "'' is not a valid scoring value. Use sorted(sklearn.metrics.SCORERS.keys()) to get valid options.",
     "output_type": "error",
     "traceback": [
      "\u001b[1;31m---------------------------------------------------------------------------\u001b[0m",
      "\u001b[1;31mKeyError\u001b[0m                                  Traceback (most recent call last)",
      "\u001b[1;32m~\\Anaconda3\\lib\\site-packages\\sklearn\\metrics\\scorer.py\u001b[0m in \u001b[0;36mget_scorer\u001b[1;34m(scoring)\u001b[0m\n\u001b[0;32m    227\u001b[0m         \u001b[1;32mtry\u001b[0m\u001b[1;33m:\u001b[0m\u001b[1;33m\u001b[0m\u001b[1;33m\u001b[0m\u001b[0m\n\u001b[1;32m--> 228\u001b[1;33m             \u001b[0mscorer\u001b[0m \u001b[1;33m=\u001b[0m \u001b[0mSCORERS\u001b[0m\u001b[1;33m[\u001b[0m\u001b[0mscoring\u001b[0m\u001b[1;33m]\u001b[0m\u001b[1;33m\u001b[0m\u001b[1;33m\u001b[0m\u001b[0m\n\u001b[0m\u001b[0;32m    229\u001b[0m         \u001b[1;32mexcept\u001b[0m \u001b[0mKeyError\u001b[0m\u001b[1;33m:\u001b[0m\u001b[1;33m\u001b[0m\u001b[1;33m\u001b[0m\u001b[0m\n",
      "\u001b[1;31mKeyError\u001b[0m: ''",
      "\nDuring handling of the above exception, another exception occurred:\n",
      "\u001b[1;31mValueError\u001b[0m                                Traceback (most recent call last)",
      "\u001b[1;32m<ipython-input-317-f0d124b4d977>\u001b[0m in \u001b[0;36m<module>\u001b[1;34m\u001b[0m\n\u001b[0;32m      1\u001b[0m \u001b[0mgrid_dt\u001b[0m\u001b[1;33m=\u001b[0m \u001b[0mGridSearchCV\u001b[0m\u001b[1;33m(\u001b[0m\u001b[0mestimator\u001b[0m\u001b[1;33m=\u001b[0m\u001b[0mdt\u001b[0m\u001b[1;33m,\u001b[0m \u001b[0mparam_grid\u001b[0m\u001b[1;33m=\u001b[0m\u001b[1;33m[\u001b[0m\u001b[1;33m{\u001b[0m\u001b[1;34m\"max_depth\"\u001b[0m\u001b[1;33m:\u001b[0m \u001b[0mnp\u001b[0m\u001b[1;33m.\u001b[0m\u001b[0marange\u001b[0m\u001b[1;33m(\u001b[0m\u001b[1;36m2\u001b[0m\u001b[1;33m,\u001b[0m\u001b[1;36m11\u001b[0m\u001b[1;33m)\u001b[0m\u001b[1;33m}\u001b[0m\u001b[1;33m]\u001b[0m\u001b[1;33m,\u001b[0m\u001b[0mscoring\u001b[0m\u001b[1;33m=\u001b[0m\u001b[1;34m''\u001b[0m\u001b[1;33m,\u001b[0m \u001b[0mcv\u001b[0m\u001b[1;33m=\u001b[0m \u001b[1;36m4\u001b[0m\u001b[1;33m)\u001b[0m\u001b[1;33m\u001b[0m\u001b[1;33m\u001b[0m\u001b[0m\n\u001b[1;32m----> 2\u001b[1;33m \u001b[0mgrid_dt\u001b[0m\u001b[1;33m.\u001b[0m\u001b[0mfit\u001b[0m\u001b[1;33m(\u001b[0m\u001b[0mXd_train\u001b[0m\u001b[1;33m,\u001b[0m\u001b[0my_train\u001b[0m\u001b[1;33m)\u001b[0m\u001b[1;33m\u001b[0m\u001b[1;33m\u001b[0m\u001b[0m\n\u001b[0m",
      "\u001b[1;32m~\\Anaconda3\\lib\\site-packages\\sklearn\\model_selection\\_search.py\u001b[0m in \u001b[0;36mfit\u001b[1;34m(self, X, y, groups, **fit_params)\u001b[0m\n\u001b[0;32m    606\u001b[0m \u001b[1;33m\u001b[0m\u001b[0m\n\u001b[0;32m    607\u001b[0m         scorers, self.multimetric_ = _check_multimetric_scoring(\n\u001b[1;32m--> 608\u001b[1;33m             self.estimator, scoring=self.scoring)\n\u001b[0m\u001b[0;32m    609\u001b[0m \u001b[1;33m\u001b[0m\u001b[0m\n\u001b[0;32m    610\u001b[0m         \u001b[1;32mif\u001b[0m \u001b[0mself\u001b[0m\u001b[1;33m.\u001b[0m\u001b[0mmultimetric_\u001b[0m\u001b[1;33m:\u001b[0m\u001b[1;33m\u001b[0m\u001b[1;33m\u001b[0m\u001b[0m\n",
      "\u001b[1;32m~\\Anaconda3\\lib\\site-packages\\sklearn\\metrics\\scorer.py\u001b[0m in \u001b[0;36m_check_multimetric_scoring\u001b[1;34m(estimator, scoring)\u001b[0m\n\u001b[0;32m    340\u001b[0m     if callable(scoring) or scoring is None or isinstance(scoring,\n\u001b[0;32m    341\u001b[0m                                                           str):\n\u001b[1;32m--> 342\u001b[1;33m         \u001b[0mscorers\u001b[0m \u001b[1;33m=\u001b[0m \u001b[1;33m{\u001b[0m\u001b[1;34m\"score\"\u001b[0m\u001b[1;33m:\u001b[0m \u001b[0mcheck_scoring\u001b[0m\u001b[1;33m(\u001b[0m\u001b[0mestimator\u001b[0m\u001b[1;33m,\u001b[0m \u001b[0mscoring\u001b[0m\u001b[1;33m=\u001b[0m\u001b[0mscoring\u001b[0m\u001b[1;33m)\u001b[0m\u001b[1;33m}\u001b[0m\u001b[1;33m\u001b[0m\u001b[1;33m\u001b[0m\u001b[0m\n\u001b[0m\u001b[0;32m    343\u001b[0m         \u001b[1;32mreturn\u001b[0m \u001b[0mscorers\u001b[0m\u001b[1;33m,\u001b[0m \u001b[1;32mFalse\u001b[0m\u001b[1;33m\u001b[0m\u001b[1;33m\u001b[0m\u001b[0m\n\u001b[0;32m    344\u001b[0m     \u001b[1;32melse\u001b[0m\u001b[1;33m:\u001b[0m\u001b[1;33m\u001b[0m\u001b[1;33m\u001b[0m\u001b[0m\n",
      "\u001b[1;32m~\\Anaconda3\\lib\\site-packages\\sklearn\\metrics\\scorer.py\u001b[0m in \u001b[0;36mcheck_scoring\u001b[1;34m(estimator, scoring, allow_none)\u001b[0m\n\u001b[0;32m    270\u001b[0m                         \"'fit' method, %r was passed\" % estimator)\n\u001b[0;32m    271\u001b[0m     \u001b[1;32mif\u001b[0m \u001b[0misinstance\u001b[0m\u001b[1;33m(\u001b[0m\u001b[0mscoring\u001b[0m\u001b[1;33m,\u001b[0m \u001b[0mstr\u001b[0m\u001b[1;33m)\u001b[0m\u001b[1;33m:\u001b[0m\u001b[1;33m\u001b[0m\u001b[1;33m\u001b[0m\u001b[0m\n\u001b[1;32m--> 272\u001b[1;33m         \u001b[1;32mreturn\u001b[0m \u001b[0mget_scorer\u001b[0m\u001b[1;33m(\u001b[0m\u001b[0mscoring\u001b[0m\u001b[1;33m)\u001b[0m\u001b[1;33m\u001b[0m\u001b[1;33m\u001b[0m\u001b[0m\n\u001b[0m\u001b[0;32m    273\u001b[0m     \u001b[1;32melif\u001b[0m \u001b[0mcallable\u001b[0m\u001b[1;33m(\u001b[0m\u001b[0mscoring\u001b[0m\u001b[1;33m)\u001b[0m\u001b[1;33m:\u001b[0m\u001b[1;33m\u001b[0m\u001b[1;33m\u001b[0m\u001b[0m\n\u001b[0;32m    274\u001b[0m         \u001b[1;31m# Heuristic to ensure user has not passed a metric\u001b[0m\u001b[1;33m\u001b[0m\u001b[1;33m\u001b[0m\u001b[1;33m\u001b[0m\u001b[0m\n",
      "\u001b[1;32m~\\Anaconda3\\lib\\site-packages\\sklearn\\metrics\\scorer.py\u001b[0m in \u001b[0;36mget_scorer\u001b[1;34m(scoring)\u001b[0m\n\u001b[0;32m    230\u001b[0m             raise ValueError('%r is not a valid scoring value. '\n\u001b[0;32m    231\u001b[0m                              \u001b[1;34m'Use sorted(sklearn.metrics.SCORERS.keys()) '\u001b[0m\u001b[1;33m\u001b[0m\u001b[1;33m\u001b[0m\u001b[0m\n\u001b[1;32m--> 232\u001b[1;33m                              'to get valid options.' % (scoring))\n\u001b[0m\u001b[0;32m    233\u001b[0m     \u001b[1;32melse\u001b[0m\u001b[1;33m:\u001b[0m\u001b[1;33m\u001b[0m\u001b[1;33m\u001b[0m\u001b[0m\n\u001b[0;32m    234\u001b[0m         \u001b[0mscorer\u001b[0m \u001b[1;33m=\u001b[0m \u001b[0mscoring\u001b[0m\u001b[1;33m\u001b[0m\u001b[1;33m\u001b[0m\u001b[0m\n",
      "\u001b[1;31mValueError\u001b[0m: '' is not a valid scoring value. Use sorted(sklearn.metrics.SCORERS.keys()) to get valid options."
     ]
    }
   ],
   "source": [
    "grid_dt= GridSearchCV(estimator=dt, param_grid=[{\"max_depth\": np.arange(2,11)}],scoring='', cv= 4)\n",
    "grid_dt.fit(Xd_train,y_train)"
   ]
  },
  {
   "cell_type": "code",
   "execution_count": 311,
   "metadata": {},
   "outputs": [],
   "source": [
    "y_train_dtpred=dt.predict(X_train)\n",
    "y_test_dtpred= dt.predict(X_test)"
   ]
  },
  {
   "cell_type": "code",
   "execution_count": null,
   "metadata": {},
   "outputs": [],
   "source": [
    "plt.figure(figsize=(10,4))\n",
    "plt.subplot(1,2,1)\n",
    "print(\"\\033[1m Performance of training data\\033[0m\")\n",
    "model_output(y_train, y_train_dtpred)\n",
    "plt.title(\"Training data\")\n",
    "\n",
    "plt.subplot(1,2,2)\n",
    "print(\"\\033[1m Performance of test data \\033[0m\")\n",
    "model_output(y_test,y_test_dtpred)\n",
    "plt.title(\"Test data\")\n",
    "plt.tight_layout()"
   ]
  },
  {
   "cell_type": "code",
   "execution_count": 305,
   "metadata": {},
   "outputs": [],
   "source": [
    "# make the tree graph\n",
    "from sklearn.tree import export_graphviz"
   ]
  },
  {
   "cell_type": "code",
   "execution_count": 306,
   "metadata": {},
   "outputs": [],
   "source": [
    "export_graphviz(dt, out_file=\"decisionTree.dot\")"
   ]
  },
  {
   "cell_type": "markdown",
   "metadata": {},
   "source": [
    "# Using catboost"
   ]
  },
  {
   "cell_type": "code",
   "execution_count": 16,
   "metadata": {},
   "outputs": [],
   "source": [
    "col_cat=['neighbourhood_group',\n",
    "       'neighbourhood', 'room_type',\n",
    "       'minimum_nights', 'number_of_reviews', \n",
    "       'reviews_per_month', 'calculated_host_listings_count',\n",
    "       'availability_365', 'is_hotel', 'dist_nearest_SubwayEntrance', 'dist_from_PennStation']"
   ]
  },
  {
   "cell_type": "code",
   "execution_count": 29,
   "metadata": {},
   "outputs": [],
   "source": [
    "xcat= clean_ny[col_cat]\n",
    "ycat=clean_ny[\"price\"]\n",
    "X_train, X_test, y_train, y_test = train_test_split(xcat, ycat,test_size = 0.3, random_state=42)\n"
   ]
  },
  {
   "cell_type": "code",
   "execution_count": 62,
   "metadata": {},
   "outputs": [
    {
     "name": "stdout",
     "output_type": "stream",
     "text": [
      "0:\tlearn: 0.4777798\ttotal: 30.4ms\tremaining: 274ms\n",
      "1:\tlearn: 0.4567920\ttotal: 45.4ms\tremaining: 181ms\n",
      "2:\tlearn: 0.4463222\ttotal: 58.9ms\tremaining: 137ms\n",
      "3:\tlearn: 0.4423924\ttotal: 72.6ms\tremaining: 109ms\n",
      "4:\tlearn: 0.4383770\ttotal: 81.2ms\tremaining: 81.2ms\n",
      "5:\tlearn: 0.4338939\ttotal: 95.3ms\tremaining: 63.5ms\n",
      "6:\tlearn: 0.4313172\ttotal: 104ms\tremaining: 44.7ms\n",
      "7:\tlearn: 0.4299194\ttotal: 114ms\tremaining: 28.4ms\n",
      "8:\tlearn: 0.4288722\ttotal: 123ms\tremaining: 13.7ms\n",
      "9:\tlearn: 0.4276378\ttotal: 133ms\tremaining: 0us\n",
      "[4.79816158 5.27549121 4.51012761 ... 4.05366261 5.53960632 4.77960934]\n"
     ]
    }
   ],
   "source": [
    "\n",
    "# initialize Pool\n",
    "train_pool = Pool(X_train, \n",
    "                  np.log(y_train), \n",
    "                  cat_features=[0,1,2])\n",
    "test_pool = Pool(X_test, \n",
    "                  cat_features=[0,1,2])\n",
    "\n",
    "# specify the training parameters \n",
    "model = CatBoostRegressor(iterations=10, \n",
    "                          depth=4, \n",
    "                          learning_rate=0.8, \n",
    "                          loss_function='RMSE')\n",
    "#train the model\n",
    "model.fit(train_pool)\n",
    "# make the prediction using the resulting model\n",
    "train_preds = model.predict(train_pool)\n",
    "test_preds = model.predict(test_pool)\n",
    "print(train_preds)"
   ]
  },
  {
   "cell_type": "code",
   "execution_count": 75,
   "metadata": {},
   "outputs": [
    {
     "data": {
      "text/plain": [
       "array([ 3.47102195,  0.93042434, 61.77833566,  3.19169459,  0.60511994,\n",
       "        1.53709622,  1.06633383,  3.97514171,  0.94111382,  0.        ,\n",
       "       22.50371793])"
      ]
     },
     "execution_count": 75,
     "metadata": {},
     "output_type": "execute_result"
    }
   ],
   "source": [
    "model.feature_importances_"
   ]
  },
  {
   "cell_type": "code",
   "execution_count": 74,
   "metadata": {},
   "outputs": [
    {
     "data": {
      "text/plain": [
       "0.4310022727745975"
      ]
     },
     "execution_count": 74,
     "metadata": {},
     "output_type": "execute_result"
    }
   ],
   "source": [
    "np.sqrt(0.18576295913686858)"
   ]
  },
  {
   "cell_type": "code",
   "execution_count": 64,
   "metadata": {},
   "outputs": [
    {
     "name": "stdout",
     "output_type": "stream",
     "text": [
      "r2 =  0.5925095099042204\n",
      "mean_absolute_error =  0.31956914258581215\n",
      "mean_squared_error =  0.18576295913686858\n"
     ]
    },
    {
     "data": {
      "image/png": "[encoded data removed]",
      "text/plain": [
       "<Figure size 432x288 with 1 Axes>"
      ]
     },
     "metadata": {
      "needs_background": "light"
     },
     "output_type": "display_data"
    }
   ],
   "source": [
    " model_output(np.log(y_test), test_preds)"
   ]
  }
 ],
 "metadata": {
  "kernelspec": {
   "display_name": "Python 3",
   "language": "python",
   "name": "python3"
  },
  "language_info": {
   "codemirror_mode": {
    "name": "ipython",
    "version": 3
   },
   "file_extension": ".py",
   "mimetype": "text/x-python",
   "name": "python",
   "nbconvert_exporter": "python",
   "pygments_lexer": "ipython3",
   "version": "3.7.3"
  }
 },
 "nbformat": 4,
 "nbformat_minor": 2
}
